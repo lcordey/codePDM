{
 "cells": [
  {
   "cell_type": "code",
   "execution_count": 1,
   "metadata": {},
   "outputs": [
    {
     "name": "stdout",
     "output_type": "stream",
     "text": [
      "Using skimage's marching cubes implementation.\n",
      "load grid...\n",
      "compute code from grid...\n"
     ]
    }
   ],
   "source": [
    "import torch\n",
    "import pickle\n",
    "import yaml\n",
    "import glob\n",
    "import imageio\n",
    "import cv2\n",
    "import matplotlib.pyplot as plt\n",
    "import time\n",
    "\n",
    "from skimage.transform import downscale_local_mean\n",
    "from marching_cubes_rgb import *\n",
    "from utils import *\n",
    "\n",
    "DEFAULT_RENDER_RESOLUTION = 64\n",
    "# DEFAULT_MAX_MODEL_2_RENDER = 1\n",
    "DEFAULT_MAX_MODEL_2_RENDER = None\n",
    "DEFAULT_IMAGES_PER_MODEL = 1\n",
    "\n",
    "DECODER_PATH = \"models_and_codes/decoder.pth\"\n",
    "ENCODER_PATH = \"models_and_codes/encoderGrid.pth\"\n",
    "LATENT_CODE_PATH = \"models_and_codes/latent_code.pkl\"\n",
    "PARAM_FILE = \"config/param_encoder.yaml\"\n",
    "VEHICLE_VALIDATION_PATH = \"config/vehicle_validation.txt\"\n",
    "MATRIX_PATH = \"../../image2sdf/input_images_validation/matrix_w2c.pkl\"\n",
    "ANNOTATIONS_PATH = \"../../image2sdf/input_images_validation/annotations.pkl\"\n",
    "IMAGES_PATH = \"../../image2sdf/input_images_validation/images/\"\n",
    "OUTPUT_DIR = \"../../image2sdf/encoder_output/evaluation\"\n",
    "LOGS_PATH = \"../../image2sdf/logs/encoder/log.pkl\"\n",
    "PLOT_PATH = \"../../image2sdf/plots/encoder/\"\n",
    "\n",
    "def init_xyz(resolution):\n",
    "    xyz = torch.empty(resolution * resolution * resolution, 3).cuda()\n",
    "\n",
    "    for x in range(resolution):\n",
    "        for y in range(resolution):\n",
    "            for z in range(resolution):\n",
    "                xyz[x * resolution * resolution + y * resolution + z, :] = torch.Tensor([x/(resolution-1)-0.5,y/(resolution-1)-0.5,z/(resolution-1)-0.5])\n",
    "\n",
    "    return xyz\n",
    "\n",
    "\n",
    "def load_grid(list_hash, annotations, num_model_2_render, param_image, param_network):\n",
    "\n",
    "    matrix_world_to_camera = pickle.load(open(MATRIX_PATH, 'rb'))\n",
    "\n",
    "    num_model = len(list_hash)\n",
    "\n",
    "    width_image = param_image[\"width\"]\n",
    "    height_image = param_image[\"height\"]\n",
    "    width_network = param_network[\"width\"]\n",
    "    height_network = param_network[\"height\"]\n",
    "    num_slices = param_network[\"num_slices\"]\n",
    "\n",
    "    \n",
    "    all_grid = torch.empty([num_model, num_model_2_render, 3, num_slices, width_network, height_network], dtype=torch.float)\n",
    "\n",
    "    list_id = list(annotations.keys())\n",
    "\n",
    "    for model_hash, model_id in zip(list_hash, range(num_model)):\n",
    "        for image_pth, image_id in zip(glob.glob(IMAGES_PATH + model_hash + '/*'), range(num_model_2_render)):\n",
    "\n",
    "            # Load data and get label\n",
    "            image_pth = IMAGES_PATH + model_hash + '/' + str(image_id) + '.png'\n",
    "            input_im = imageio.imread(image_pth)\n",
    "\n",
    "            loc_3d = annotations[model_hash][image_id]['3d'].copy()\n",
    "            frame = annotations[model_hash][image_id]['frame'].copy()\n",
    "\n",
    "            # interpolate slices vertex coordinates\n",
    "            loc_slice_3d = np.empty([num_slices,4,3])\n",
    "            for i in range(num_slices):\n",
    "                loc_slice_3d[i,0,:] = loc_3d[0,:] * (1-i/(num_slices-1)) + loc_3d[4,:] * i/(num_slices-1)\n",
    "                loc_slice_3d[i,1,:] = loc_3d[1,:] * (1-i/(num_slices-1)) + loc_3d[5,:] * i/(num_slices-1)\n",
    "                loc_slice_3d[i,2,:] = loc_3d[2,:] * (1-i/(num_slices-1)) + loc_3d[6,:] * i/(num_slices-1)\n",
    "                loc_slice_3d[i,3,:] = loc_3d[3,:] * (1-i/(num_slices-1)) + loc_3d[7,:] * i/(num_slices-1)\n",
    "\n",
    "            # convert to image plane coordinate\n",
    "            loc_slice_2d = np.empty_like(loc_slice_3d)\n",
    "            for i in range(num_slices):\n",
    "                for j in range(4):\n",
    "                    loc_slice_2d[i,j,:] = convert_w2c(matrix_world_to_camera, frame, loc_slice_3d[i,j,:]) \n",
    "\n",
    "            ###### y coordinate is inverted + rescaling #####\n",
    "            loc_slice_2d[:,:,1] = 1 - loc_slice_2d[:,:,1]\n",
    "            loc_slice_2d[:,:,0] = loc_slice_2d[:,:,0] * width_image\n",
    "            loc_slice_2d[:,:,1] = loc_slice_2d[:,:,1] * height_image\n",
    "\n",
    "            # grid to give as input to the network\n",
    "            input_grid = np.empty([num_slices, width_network, height_network, 3])\n",
    "\n",
    "\n",
    "            # fill grid by slices\n",
    "            for i in range(num_slices):\n",
    "                src = loc_slice_2d[i,:,:2].copy()\n",
    "                dst = np.array([[0, height_network], [width_network, height_network], [width_network, 0], [0,0]])\n",
    "                h, mask = cv2.findHomography(src, dst)\n",
    "                slice = cv2.warpPerspective(input_im, h, (width_network,height_network))\n",
    "                input_grid[i,:,:,:] = slice\n",
    "\n",
    "            # rearange, normalize and convert to tensor\n",
    "            input_grid = np.transpose(input_grid, [3,0,1,2])\n",
    "            input_grid = input_grid/255 - 0.5\n",
    "            input_grid = torch.tensor(input_grid, dtype = torch.float)\n",
    "\n",
    "            all_grid[model_id, image_id, :, :, :, :] = input_grid\n",
    "\n",
    "    return all_grid\n",
    "\n",
    "\n",
    "def get_code_from_grid(grid, latent_size):\n",
    "\n",
    "    encoder = torch.load(ENCODER_PATH).cuda()\n",
    "    encoder.eval()\n",
    "\n",
    "    num_model = grid.shape[0]\n",
    "    num_images_per_model = grid.shape[1]\n",
    "\n",
    "    lat_code = torch.empty([num_model, num_images_per_model, latent_size]).cuda()\n",
    "    for model_id in range(num_model):\n",
    "        for image_id in range(num_images_per_model):\n",
    "            lat_code[model_id, image_id, :] = encoder(grid[model_id, image_id, :, :, :, :].unsqueeze(0).cuda()).detach()\n",
    "\n",
    "\n",
    "    return lat_code\n",
    "\n",
    "\n",
    "\n",
    "\n",
    "\n",
    "# load parameters\n",
    "param_all = yaml.safe_load(open(PARAM_FILE))\n",
    "param = param_all[\"encoder\"]\n",
    "\n",
    "# load annotations\n",
    "annotations = pickle.load(open(ANNOTATIONS_PATH, \"rb\"))\n",
    "dict_hash_2_code = pickle.load(open(LATENT_CODE_PATH, 'rb'))\n",
    "\n",
    "# Get validation model\n",
    "with open(VEHICLE_VALIDATION_PATH) as f:\n",
    "    list_hash_validation = f.read().splitlines()\n",
    "list_hash_validation = list(list_hash_validation)\n",
    "\n",
    "if DEFAULT_MAX_MODEL_2_RENDER is not None:\n",
    "    list_hash_validation = list_hash_validation[:DEFAULT_MAX_MODEL_2_RENDER]\n",
    "\n",
    "# only keep the ones for which with have annotated images\n",
    "list_hash = []\n",
    "for hash in list_hash_validation:\n",
    "    if hash in annotations.keys():\n",
    "        list_hash.append(hash)\n",
    "\n",
    "num_model = len(list_hash)\n",
    "num_images_per_model = len(annotations[list_hash[0]])\n",
    "num_model_2_render= min(num_images_per_model, DEFAULT_IMAGES_PER_MODEL)\n",
    "\n",
    "resolution = DEFAULT_RENDER_RESOLUTION\n",
    "\n",
    "# compute latent codes\n",
    "print(\"load grid...\")\n",
    "grid = load_grid(list_hash, annotations, num_model_2_render, param[\"image\"], param[\"network\"])\n",
    "print(\"compute code from grid...\")\n",
    "latent_code = get_code_from_grid(grid, param_all[\"latent_size\"])\n",
    "\n",
    "\n",
    "# # fill a xyz grid to give as input to the decoder \n",
    "# xyz = init_xyz(resolution)\n",
    "\n"
   ]
  },
  {
   "cell_type": "code",
   "execution_count": 345,
   "metadata": {},
   "outputs": [
    {
     "name": "stdout",
     "output_type": "stream",
     "text": [
      "time passed: 0.13162517547607422\n",
      "time passed: 0.23958325386047363\n",
      "Average number of iteration needed: 22.448505401611328\n",
      "Maximum number of iteration needed: 29.0\n"
     ]
    },
    {
     "data": {
      "image/png": "[encoded data removed]",
      "text/plain": [
       "<Figure size 1440x720 with 2 Axes>"
      ]
     },
     "metadata": {
      "needs_background": "light"
     },
     "output_type": "display_data"
    }
   ],
   "source": [
    "\n",
    "model_id = 3\n",
    "\n",
    "threshold = 1/64\n",
    "max_displacement = 0.1\n",
    "max_iter = 40\n",
    "resolution = 50\n",
    "\n",
    "increase_factor = 1\n",
    "\n",
    "resolution *= increase_factor\n",
    "increase_factor = increase_factor * increase_factor\n",
    "\n",
    "# load decoder\n",
    "decoder = torch.load(DECODER_PATH).cuda()\n",
    "decoder.eval()\n",
    "\n",
    "fig, axs = plt.subplots(1,2, figsize=(20,10))\n",
    "for image_id in range(1):\n",
    "\n",
    "    model_hash = list_hash[model_id]\n",
    "    code_prediction = latent_code[model_id,:].squeeze()\n",
    "    code_gt = dict_hash_2_code[model_hash].cuda()\n",
    "\n",
    "    frame = annotations[model_hash][image_id]['frame'].copy()\n",
    "    matrix_object_to_world = annotations[model_hash][image_id]['matrix_object_to_world'].copy()\n",
    "    matrix_world_to_camera = pickle.load(open(MATRIX_PATH, 'rb'))\n",
    "\n",
    "    matrix_world_to_camera = matrix_world_to_camera[[1,0,2,3]]\n",
    "    matrix_object_to_world = matrix_object_to_world[:,[1,0,2,3]][[2,1,0,3]]\n",
    "\n",
    "    matrix_camera_to_world = np.linalg.inv(matrix_world_to_camera)\n",
    "    matrix_world_to_object = np.linalg.inv(matrix_object_to_world)\n",
    "\n",
    "    matrix_camera_to_object = matrix_world_to_object.dot(matrix_camera_to_world)\n",
    "\n",
    "    image_pth = IMAGES_PATH + model_hash + '/' + str(image_id) + '.png'\n",
    "    input_im = imageio.imread(image_pth)\n",
    "\n",
    "    cam_pos_cam_coord = np.array([0,0,0,1])\n",
    "    cam_pos_obj_coord = matrix_camera_to_object.dot(cam_pos_cam_coord)\n",
    "\n",
    "    pos_along_ray = torch.ones([resolution * resolution, 3], dtype=torch.float).cuda()\n",
    "    pos_along_ray[:,0] *= cam_pos_obj_coord[0]\n",
    "    pos_along_ray[:,1] *= cam_pos_obj_coord[1]\n",
    "    pos_along_ray[:,2] *= cam_pos_obj_coord[2]\n",
    "\n",
    "    ray_casting_vector = np.empty([resolution * resolution, 3])\n",
    "\n",
    "    time_start = time.time()\n",
    "\n",
    "    for i in range(resolution):\n",
    "        for j in range(resolution):\n",
    "\n",
    "            # select pixel to render\n",
    "            pixel_pos = np.array([i/(resolution-1),j/(resolution-1)])\n",
    "\n",
    "            # convert pixel in world coordinate\n",
    "            pixel_pos_cam_coord = convert_view_to_camera_coordinates(frame, pixel_pos)\n",
    "            pixel_pos_obj_coord = matrix_camera_to_object.dot(pixel_pos_cam_coord)\n",
    "\n",
    "            ray_casting_vector[i * resolution + j,:] = ((pixel_pos_obj_coord - cam_pos_obj_coord)/np.linalg.norm(pixel_pos_obj_coord - cam_pos_obj_coord))[:3]\n",
    "\n",
    "    ray_casting_vector = torch.tensor(ray_casting_vector,dtype=torch.float).cuda()\n",
    "\n",
    "    print(f\"time passed: {time.time() - time_start}\")\n",
    "    time_start = time.time()\n",
    "\n",
    "    rendered_image = np.ones([resolution,resolution,3])\n",
    "    sdf_and_rgb = torch.empty([resolution * resolution,4], dtype=torch.float).cuda()\n",
    "\n",
    "    count_iter = torch.zeros(resolution * resolution).cuda()\n",
    "\n",
    "    # iterate\n",
    "    for iter in range(max_iter):\n",
    "\n",
    "        # sdf_and_rgb = decoder(code_prediction.unsqueeze(0).repeat([resolution * resolution,1]), pos_along_ray)[:,:].detach()\n",
    "\n",
    "        for x in range(increase_factor):\n",
    "            sdf_and_rgb[x * (int)(resolution * resolution / increase_factor) : (x+1) * (int)(resolution * resolution / increase_factor),:] = decoder(code_prediction.unsqueeze(0).repeat([(int)(resolution * resolution / increase_factor), 1]), pos_along_ray[x * (int)(resolution * resolution / increase_factor) : (x+1) * (int)(resolution * resolution / increase_factor)]).detach()\n",
    "        \n",
    "        sdf = sdf_and_rgb[:,0]\n",
    "        sdf = sdf.clamp(None, max_displacement)\n",
    "        sdf *= 1 # unit of 1 from the decoder's prediction correspond to a unit of 1 in the object coordinate\n",
    "\n",
    "        sdf_cube, _ = torch.max(abs(pos_along_ray) - 0.5,1) # 0.5 because the car is contained in a cube of length 1\n",
    "        \n",
    "        step = sdf\n",
    "        step[sdf_cube > max_displacement] = sdf_cube[sdf_cube > max_displacement]\n",
    "\n",
    "        # cube_sdf\n",
    "\n",
    "\n",
    "        pos_along_ray = pos_along_ray + step.unsqueeze(1).mul(ray_casting_vector)\n",
    "\n",
    "\n",
    "        count_iter[(sdf < threshold) * (count_iter == 0)] = iter + 1\n",
    "\n",
    "\n",
    "    sdf_and_rgb = sdf_and_rgb.reshape(resolution, resolution, 4).cpu().numpy()\n",
    "    sdf = sdf_and_rgb[:,:,0]\n",
    "    rgb = sdf_and_rgb[:,:,1:]\n",
    "\n",
    "    rendered_image[sdf < threshold] = rgb[sdf < threshold]\n",
    "\n",
    "\n",
    "    print(f\"time passed: {time.time() - time_start}\")\n",
    "    time_start = time.time()\n",
    "            \n",
    "    axs[2 * image_id].imshow(rendered_image)\n",
    "    # image_downscaled = downscale_local_mean(input_im, (3, 3, 1)).astype(int)\n",
    "    # axs[2 * image_id + 1].imshow(image_downscaled)\n",
    "    axs[2 * image_id + 1].imshow(input_im)\n",
    "\n",
    "\n",
    "print(f\"Average number of iteration needed: {count_iter.sum() / count_iter.count_nonzero()}\")\n",
    "print(f\"Maximum number of iteration needed: {count_iter.max()}\")\n",
    "\n"
   ]
  },
  {
   "cell_type": "code",
   "execution_count": 35,
   "metadata": {},
   "outputs": [],
   "source": [
    "model_id = 5\n",
    "\n",
    "threshold = 1/64\n",
    "max_displacement = 0.1\n",
    "max_iter = 40\n",
    "resolution = 50\n",
    "# resolution = 100\n",
    "\n",
    "# load decoder\n",
    "decoder = torch.load(DECODER_PATH).cuda()\n",
    "decoder.eval()\n",
    "\n",
    "\n",
    "model_hash = list_hash[model_id]\n",
    "# code_prediction = latent_code[model_id,:].squeeze().clone()\n",
    "code_prediction = torch.zeros(6).cuda()\n",
    "code_gt = dict_hash_2_code[model_hash].cuda()\n",
    "\n",
    "\n",
    "\n",
    "optimizer = torch.optim.Adam(\n",
    "    [\n",
    "        {\n",
    "            \"params\": code_prediction,\n",
    "            # \"params\": decoder.parameters(),\n",
    "            \"lr\": 0.2,\n",
    "        },\n",
    "\n",
    "    ]\n",
    ")\n",
    "code_prediction.requires_grad = True\n",
    "\n",
    "scheduler = torch.optim.lr_scheduler.ExponentialLR(optimizer, gamma=0.95)\n"
   ]
  },
  {
   "cell_type": "code",
   "execution_count": 1,
   "metadata": {},
   "outputs": [
    {
     "ename": "NameError",
     "evalue": "name 'plt' is not defined",
     "output_type": "error",
     "traceback": [
      "\u001b[0;31m---------------------------------------------------------------------------\u001b[0m",
      "\u001b[0;31mNameError\u001b[0m                                 Traceback (most recent call last)",
      "\u001b[0;32m/tmp/ipykernel_23319/1177393857.py\u001b[0m in \u001b[0;36m<module>\u001b[0;34m\u001b[0m\n\u001b[1;32m      4\u001b[0m \u001b[0;34m\u001b[0m\u001b[0m\n\u001b[1;32m      5\u001b[0m \u001b[0;32mif\u001b[0m \u001b[0mnb_image\u001b[0m \u001b[0;34m*\u001b[0m \u001b[0;36m2\u001b[0m \u001b[0;34m<=\u001b[0m \u001b[0;36m10\u001b[0m \u001b[0;32mand\u001b[0m \u001b[0mnb_step\u001b[0m \u001b[0;34m<=\u001b[0m \u001b[0;36m10\u001b[0m\u001b[0;34m:\u001b[0m\u001b[0;34m\u001b[0m\u001b[0;34m\u001b[0m\u001b[0m\n\u001b[0;32m----> 6\u001b[0;31m     \u001b[0mfig\u001b[0m\u001b[0;34m,\u001b[0m \u001b[0maxs\u001b[0m \u001b[0;34m=\u001b[0m \u001b[0mplt\u001b[0m\u001b[0;34m.\u001b[0m\u001b[0msubplots\u001b[0m\u001b[0;34m(\u001b[0m\u001b[0mnb_step\u001b[0m\u001b[0;34m,\u001b[0m\u001b[0mnb_image\u001b[0m \u001b[0;34m*\u001b[0m \u001b[0;36m2\u001b[0m\u001b[0;34m,\u001b[0m \u001b[0mfigsize\u001b[0m\u001b[0;34m=\u001b[0m\u001b[0;34m(\u001b[0m\u001b[0;36m20\u001b[0m\u001b[0;34m,\u001b[0m\u001b[0;36m10\u001b[0m\u001b[0;34m)\u001b[0m\u001b[0;34m)\u001b[0m\u001b[0;34m\u001b[0m\u001b[0;34m\u001b[0m\u001b[0m\n\u001b[0m\u001b[1;32m      7\u001b[0m \u001b[0;34m\u001b[0m\u001b[0m\n\u001b[1;32m      8\u001b[0m \u001b[0;32mfor\u001b[0m \u001b[0mstep_id\u001b[0m \u001b[0;32min\u001b[0m \u001b[0mrange\u001b[0m\u001b[0;34m(\u001b[0m\u001b[0mnb_step\u001b[0m\u001b[0;34m)\u001b[0m\u001b[0;34m:\u001b[0m\u001b[0;34m\u001b[0m\u001b[0;34m\u001b[0m\u001b[0m\n",
      "\u001b[0;31mNameError\u001b[0m: name 'plt' is not defined"
     ]
    }
   ],
   "source": [
    "nb_image = 3\n",
    "nb_step = 3\n",
    "\n",
    "\n",
    "if nb_image * 2 <= 10 and nb_step <= 10:\n",
    "    fig, axs = plt.subplots(nb_step,nb_image * 2, figsize=(20,10))\n",
    "\n",
    "for step_id in range(nb_step):\n",
    "    loss = torch.zeros(1).cuda()\n",
    "    loss.requires_grad = True\n",
    "    for image_id in range(nb_image):\n",
    "\n",
    "        optimizer.zero_grad()\n",
    "\n",
    "        time_start = time.time()\n",
    "\n",
    "\n",
    "        frame = annotations[model_hash][image_id]['frame'].copy()\n",
    "        matrix_object_to_world = annotations[model_hash][image_id]['matrix_object_to_world'].copy()\n",
    "        matrix_world_to_camera = pickle.load(open(MATRIX_PATH, 'rb'))\n",
    "\n",
    "        matrix_world_to_camera = matrix_world_to_camera[[1,0,2,3]]\n",
    "        matrix_object_to_world = matrix_object_to_world[:,[1,0,2,3]][[2,1,0,3]]\n",
    "\n",
    "        matrix_camera_to_world = np.linalg.inv(matrix_world_to_camera)\n",
    "        matrix_world_to_object = np.linalg.inv(matrix_object_to_world)\n",
    "\n",
    "        matrix_camera_to_object = matrix_world_to_object.dot(matrix_camera_to_world)\n",
    "\n",
    "        image_pth = IMAGES_PATH + model_hash + '/' + str(image_id) + '.png'\n",
    "        input_im = imageio.imread(image_pth)\n",
    "\n",
    "        cam_pos_cam_coord = np.array([0,0,0,1])\n",
    "        cam_pos_obj_coord = matrix_camera_to_object.dot(cam_pos_cam_coord)\n",
    "\n",
    "        pos_along_ray = torch.ones([resolution * resolution, 3], dtype=torch.float).cuda()\n",
    "        pos_along_ray[:,0] *= cam_pos_obj_coord[0]\n",
    "        pos_along_ray[:,1] *= cam_pos_obj_coord[1]\n",
    "        pos_along_ray[:,2] *= cam_pos_obj_coord[2]\n",
    "\n",
    "        ray_casting_vector = np.empty([resolution * resolution, 3])\n",
    "\n",
    "        for i in range(resolution):\n",
    "            for j in range(resolution):\n",
    "\n",
    "                # select pixel to render\n",
    "                pixel_pos = np.array([i/(resolution-1),j/(resolution-1)])\n",
    "\n",
    "                # convert pixel in world coordinate\n",
    "                pixel_pos_cam_coord = convert_view_to_camera_coordinates(frame, pixel_pos)\n",
    "                pixel_pos_obj_coord = matrix_camera_to_object.dot(pixel_pos_cam_coord)\n",
    "\n",
    "                # compute normed ray marching vector\n",
    "                ray_casting_vector[i * resolution + j,:] = ((pixel_pos_obj_coord - cam_pos_obj_coord)/np.linalg.norm(pixel_pos_obj_coord - cam_pos_obj_coord))[:3]\n",
    "\n",
    "        ray_casting_vector = torch.tensor(ray_casting_vector,dtype=torch.float).cuda()\n",
    "\n",
    "\n",
    "        rendered_image = torch.ones([resolution,resolution,3]).cuda()\n",
    "        sdf_and_rgb = torch.empty([resolution * resolution,4], dtype=torch.float).cuda()\n",
    "\n",
    "        # iterate\n",
    "        for iter in range(max_iter):\n",
    "\n",
    "            # sdf_and_rgb = decoder(code_prediction.unsqueeze(0).repeat([resolution * resolution,1]), pos_along_ray)[:,:]\n",
    "            sdf_and_rgb = decoder(code_prediction.unsqueeze(0).repeat([resolution * resolution,1]), pos_along_ray)[:,:].detach()\n",
    "\n",
    "            sdf = sdf_and_rgb[:,0]\n",
    "            sdf = sdf.clamp(None, max_displacement)\n",
    "            sdf *= 1 # unit of 1 from the decoder's prediction correspond to a unit of 1 in the object coordinate\n",
    "\n",
    "            sdf_cube, _ = torch.max(abs(pos_along_ray) - 0.5,1) # 0.5 because the car is contained in a cube of length 1\n",
    "            \n",
    "            step = sdf\n",
    "            step[sdf_cube > max_displacement] = sdf_cube[sdf_cube > max_displacement]\n",
    "\n",
    "            # update ray marching\n",
    "            pos_along_ray = pos_along_ray + step.unsqueeze(1).mul(ray_casting_vector)\n",
    "\n",
    "        # compute again and keep the gradient\n",
    "        sdf_and_rgb = decoder(code_prediction.unsqueeze(0).repeat([resolution * resolution,1]), pos_along_ray)[:,:]\n",
    "\n",
    "        # store results after last iteration\n",
    "        sdf_and_rgb = sdf_and_rgb.reshape(resolution, resolution, 4)\n",
    "        sdf = sdf_and_rgb[:,:,0]\n",
    "        rgb = sdf_and_rgb[:,:,1:]\n",
    "\n",
    "        # set image where the sdf is close to 0, and rescale between 0 and 255\n",
    "        weight = sdf < threshold\n",
    "        rendered_image[weight] = rgb[weight]\n",
    "        rendered_image = (rendered_image * 255)\n",
    "\n",
    "        # image_downscaled = downscale_local_mean(input_im, (3, 3, 1)).astype(int)\n",
    "        image_downscaled = downscale_local_mean(input_im, (6, 6, 1)).astype(int)\n",
    "\n",
    "        ### lab one day, not differentiable for now\n",
    "        # image_downscaled_lab = torch.tensor(color.rgb2lab(image_downscaled/255))\n",
    "        # rendered_image_lab = torch.tensor(color.rgb2lab(rendered_image.cpu().detach().numpy()/255)).cuda()\n",
    "        # loss_image = (abs(rendered_image_lab - torch.tensor(image_downscaled_lab).cuda()) * weight.unsqueeze(2).expand(50,50,3)).mean()\n",
    "\n",
    "        loss_image = (abs(rendered_image - torch.tensor(image_downscaled).cuda()) * weight.unsqueeze(2).expand(50,50,3)).mean()\n",
    "        loss = loss + loss_image\n",
    "\n",
    "        # tranfer to cpu\n",
    "        rendered_image = rendered_image.cpu().detach().numpy().astype(int)\n",
    "\n",
    "        # show time passed\n",
    "        # print(f\"time passed: {time.time() - time_start}\")\n",
    "        \n",
    "        # plot\n",
    "\n",
    "        if nb_image * 2 <= 10 and nb_step <= 10:\n",
    "            axs[step_id, 2 * image_id].imshow(rendered_image)\n",
    "            axs[step_id, 2 * image_id + 1].imshow(image_downscaled)\n",
    "\n",
    "\n",
    "\n",
    "    loss.backward()\n",
    "\n",
    "\n",
    "    optimizer.step()\n",
    "    scheduler.step()\n",
    "    \n",
    "    print(f\"step {step_id}, loss: {loss.item()}\")\n",
    "    print(f\"distance to ground truth code: {(code_prediction - latent_code[model_id,:].squeeze()).norm().item()}\")\n",
    "\n",
    "\n"
   ]
  },
  {
   "cell_type": "code",
   "execution_count": 33,
   "metadata": {},
   "outputs": [
    {
     "data": {
      "text/plain": [
       "<matplotlib.image.AxesImage at 0x7fc6e170ae50>"
      ]
     },
     "execution_count": 33,
     "metadata": {},
     "output_type": "execute_result"
    },
    {
     "data": {
      "image/png": "[encoded data removed]",
      "text/plain": [
       "<Figure size 432x288 with 1 Axes>"
      ]
     },
     "metadata": {
      "needs_background": "light"
     },
     "output_type": "display_data"
    }
   ],
   "source": [
    "plt.imshow((abs(torch.tensor(rendered_image).cuda() - torch.tensor(image_downscaled).cuda()) * weight.unsqueeze(2).expand(50,50,3)).sum(2).cpu().numpy())"
   ]
  },
  {
   "cell_type": "code",
   "execution_count": 8,
   "metadata": {},
   "outputs": [],
   "source": [
    "xyz = init_xyz(64)\n",
    "rendering_resolution = 64"
   ]
  },
  {
   "cell_type": "code",
   "execution_count": 2,
   "metadata": {},
   "outputs": [
    {
     "ename": "NameError",
     "evalue": "name 'rendering_resolution' is not defined",
     "output_type": "error",
     "traceback": [
      "\u001b[0;31m---------------------------------------------------------------------------\u001b[0m",
      "\u001b[0;31mNameError\u001b[0m                                 Traceback (most recent call last)",
      "\u001b[0;32m/tmp/ipykernel_2592/3181532451.py\u001b[0m in \u001b[0;36m<module>\u001b[0;34m\u001b[0m\n\u001b[1;32m      1\u001b[0m \u001b[0;31m# variable to store results\u001b[0m\u001b[0;34m\u001b[0m\u001b[0;34m\u001b[0m\u001b[0;34m\u001b[0m\u001b[0m\n\u001b[0;32m----> 2\u001b[0;31m \u001b[0msdf_result\u001b[0m \u001b[0;34m=\u001b[0m \u001b[0mnp\u001b[0m\u001b[0;34m.\u001b[0m\u001b[0mempty\u001b[0m\u001b[0;34m(\u001b[0m\u001b[0;34m[\u001b[0m\u001b[0mrendering_resolution\u001b[0m\u001b[0;34m,\u001b[0m \u001b[0mrendering_resolution\u001b[0m\u001b[0;34m,\u001b[0m \u001b[0mrendering_resolution\u001b[0m\u001b[0;34m,\u001b[0m \u001b[0;36m4\u001b[0m\u001b[0;34m]\u001b[0m\u001b[0;34m)\u001b[0m\u001b[0;34m\u001b[0m\u001b[0;34m\u001b[0m\u001b[0m\n\u001b[0m\u001b[1;32m      3\u001b[0m \u001b[0;34m\u001b[0m\u001b[0m\n\u001b[1;32m      4\u001b[0m \u001b[0;31m# loop because it requires too much GPU memory on my computer\u001b[0m\u001b[0;34m\u001b[0m\u001b[0;34m\u001b[0m\u001b[0;34m\u001b[0m\u001b[0m\n\u001b[1;32m      5\u001b[0m \u001b[0;32mfor\u001b[0m \u001b[0mx\u001b[0m \u001b[0;32min\u001b[0m \u001b[0mrange\u001b[0m\u001b[0;34m(\u001b[0m\u001b[0mrendering_resolution\u001b[0m\u001b[0;34m)\u001b[0m\u001b[0;34m:\u001b[0m\u001b[0;34m\u001b[0m\u001b[0;34m\u001b[0m\u001b[0m\n",
      "\u001b[0;31mNameError\u001b[0m: name 'rendering_resolution' is not defined"
     ]
    }
   ],
   "source": [
    "# variable to store results\n",
    "sdf_result = np.empty([rendering_resolution, rendering_resolution, rendering_resolution, 4])\n",
    "\n",
    "# loop because it requires too much GPU memory on my computer\n",
    "for x in range(rendering_resolution):\n",
    "    code = code_prediction.repeat(rendering_resolution * rendering_resolution, 1).cuda()\n",
    "    xyz_sub_sample = xyz[x * rendering_resolution * rendering_resolution: (x+1) * rendering_resolution * rendering_resolution]\n",
    "\n",
    "    sdf_pred = decoder(code, xyz_sub_sample).detach().cpu()\n",
    "    sdf_pred[:,0] = sdf_pred[:,0] * rendering_resolution\n",
    "    sdf_pred[:,1:] = torch.clamp(sdf_pred[:,1:], 0, 1)\n",
    "\n",
    "    sdf_pred[:,1:] = sdf_pred[:,1:] * 255\n",
    "\n",
    "    sdf_result[x, :, :, :] = np.reshape(sdf_pred[:,:], [rendering_resolution, rendering_resolution, 4])\n",
    "\n",
    "# print('Minimum and maximum value: %f and %f. ' % (np.min(sdf_result[:,:,:,0]), np.max(sdf_result[:,:,:,0])))\n",
    "if(np.min(sdf_result[:,:,:,0]) < 0 and np.max(sdf_result[:,:,:,0]) > 0):\n",
    "    vertices_pred, faces_pred = marching_cubes(sdf_result[:,:,:,0])\n",
    "    colors_v_pred = exctract_colors_v(vertices_pred, sdf_result)\n",
    "    colors_f_pred = exctract_colors_f(colors_v_pred, faces_pred)\n",
    "    off_file = \"../../image2sdf/test/test.off\"\n",
    "    write_off(off_file, vertices_pred, faces_pred, colors_f_pred)\n",
    "    print(\"Wrote test.off\")\n",
    "else:\n",
    "    print(\"surface level: 0, should be comprise in between the minimum and maximum value\")\n"
   ]
  },
  {
   "cell_type": "code",
   "execution_count": null,
   "metadata": {},
   "outputs": [],
   "source": []
  },
  {
   "cell_type": "code",
   "execution_count": 1,
   "metadata": {},
   "outputs": [
    {
     "ename": "TypeError",
     "evalue": "__init__() got multiple values for argument 'batch_norm'",
     "output_type": "error",
     "traceback": [
      "\u001b[0;31m---------------------------------------------------------------------------\u001b[0m",
      "\u001b[0;31mTypeError\u001b[0m                                 Traceback (most recent call last)",
      "\u001b[0;32m/tmp/ipykernel_4063/3695947199.py\u001b[0m in \u001b[0;36m<module>\u001b[0;34m\u001b[0m\n\u001b[1;32m     24\u001b[0m \u001b[0;34m\u001b[0m\u001b[0m\n\u001b[1;32m     25\u001b[0m \u001b[0;34m\u001b[0m\u001b[0m\n\u001b[0;32m---> 26\u001b[0;31m \u001b[0mdecoder_rgb\u001b[0m \u001b[0;34m=\u001b[0m \u001b[0mDecoder\u001b[0m\u001b[0;34m(\u001b[0m\u001b[0;36m2\u001b[0m\u001b[0;34m,\u001b[0m \u001b[0;34m\"rgb\"\u001b[0m\u001b[0;34m,\u001b[0m \u001b[0mbatch_norm\u001b[0m\u001b[0;34m=\u001b[0m\u001b[0;32mTrue\u001b[0m\u001b[0;34m)\u001b[0m\u001b[0;34m.\u001b[0m\u001b[0mcuda\u001b[0m\u001b[0;34m(\u001b[0m\u001b[0;34m)\u001b[0m\u001b[0;34m\u001b[0m\u001b[0;34m\u001b[0m\u001b[0m\n\u001b[0m\u001b[1;32m     27\u001b[0m \u001b[0mdecoder_rgb\u001b[0m\u001b[0;34m.\u001b[0m\u001b[0mtrain\u001b[0m\u001b[0;34m(\u001b[0m\u001b[0;34m)\u001b[0m\u001b[0;34m\u001b[0m\u001b[0;34m\u001b[0m\u001b[0m\n\u001b[1;32m     28\u001b[0m \u001b[0;34m\u001b[0m\u001b[0m\n",
      "\u001b[0;31mTypeError\u001b[0m: __init__() got multiple values for argument 'batch_norm'"
     ]
    }
   ],
   "source": [
    "import torch\n",
    "import pickle\n",
    "import imageio\n",
    "import cv2\n",
    "import matplotlib.pyplot as plt\n",
    "import time\n",
    "import numpy as np\n",
    "\n",
    "from skimage.transform import downscale_local_mean\n",
    "from utils import *\n",
    "from networks import *\n",
    "\n",
    "DECODER_PATH = \"../img_supervision/models_and_codes/decoder.pth\"\n",
    "LATENT_CODE_PATH = \"../img_supervision/models_and_codes/latent_code.pkl\"\n",
    "ANNOTATIONS_PATH = \"../../img_supervision/input_images/annotations.pkl\"\n",
    "IMAGES_PATH = \"../../img_supervision/input_images/images/\"\n",
    "MATRIX_PATH = \"../../img_supervision/input_images/matrix_w2c.pkl\"\n",
    "\n",
    "\n",
    "annotations = pickle.load(open(ANNOTATIONS_PATH, \"rb\"))\n",
    "dict_hash_2_code = pickle.load(open(LATENT_CODE_PATH, 'rb'))\n",
    "decoder_sdf = torch.load(DECODER_PATH).cuda()\n",
    "decoder_sdf.eval()\n",
    "\n",
    "\n",
    "decoder_rgb = Decoder(2, \"rgb\", batch_norm=True).cuda()\n",
    "decoder_rgb.train()\n",
    "\n",
    "model_id = 0\n",
    "image_id = 0\n",
    "\n",
    "fig, axs = plt.subplots(4,4, figsize=(10,10))\n",
    "for iter in range(16):\n",
    "\n",
    "    list_hash = list(dict_hash_2_code.keys())\n",
    "    model_hash = list_hash[model_id]\n",
    "    code_gt = dict_hash_2_code[model_hash].cuda()\n",
    "\n",
    "    ground_truth_image, pos_init_ray, ray_marching_vector, min_step, max_step = initialize_rendering(model_hash, image_id, annotations, IMAGES_PATH)\n",
    "    ground_truth_image = np.array(ground_truth_image)\n",
    "\n",
    "    rendered_image, mask_car = ray_marching_rendering(decoder_sdf, decoder_rgb, code_gt, pos_init_ray, ray_marching_vector, min_step, max_step)\n",
    "    rendered_image = rendered_image.cpu().numpy()\n",
    "    mask_car = mask_car.cpu().numpy()\n",
    "    min_step = min_step.reshape(50,50)\n",
    "\n",
    "    rendered_image[mask_car == False] = 0\n",
    "    rendered_image[min_step == 0] = 1\n",
    "\n",
    "    axs[iter%4, (int)((iter - iter%4)/4)].imshow(rendered_image)"
   ]
  },
  {
   "cell_type": "code",
   "execution_count": null,
   "metadata": {},
   "outputs": [],
   "source": [
    "\n"
   ]
  },
  {
   "cell_type": "code",
   "execution_count": 1,
   "metadata": {},
   "outputs": [],
   "source": [
    "import torch\n",
    "import pickle\n",
    "import imageio\n",
    "import cv2\n",
    "import matplotlib.pyplot as plt\n",
    "import time\n",
    "import numpy as np\n",
    "\n",
    "from skimage.transform import downscale_local_mean\n",
    "from utils import *\n",
    "from networks import *\n",
    "\n",
    "DECODER_PATH = \"../img_supervision/models_and_codes/decoder.pth\"\n",
    "LATENT_CODE_PATH = \"../img_supervision/models_and_codes/latent_code.pkl\"\n",
    "# ANNOTATIONS_PATH = \"../../img_supervision/input_images_validation/annotations.pkl\"\n",
    "ANNOTATIONS_PATH = \"../../img_supervision/input_images/annotations.pkl\"\n",
    "# IMAGES_PATH = \"../../img_supervision/input_images_validation/images/\"\n",
    "IMAGES_PATH = \"../../img_supervision/input_images/images/\"\n",
    "# MATRIX_PATH = \"../../img_supervision/input_images_validation/matrix_w2c.pkl\"\n",
    "MATRIX_PATH = \"../../img_supervision/input_images/matrix_w2c.pkl\"\n",
    "\n",
    "RAY_MARCHING_RESOLUTION = 50\n",
    "\n",
    "BOUND_MAX_CUBE = 0.5\n",
    "BOUND_MIN_CUBE = -0.5\n",
    "THRESHOLD = 1/64\n",
    "MAX_STEP = 1/16\n",
    "MAX_ITER = 20\n",
    "SCALING_FACTOR = 1\n",
    "\n",
    "annotations = pickle.load(open(ANNOTATIONS_PATH, \"rb\"))\n",
    "dict_hash_2_code = pickle.load(open(LATENT_CODE_PATH, 'rb'))\n",
    "decoder_sdf = torch.load(DECODER_PATH).cuda()\n",
    "decoder_rgb = torch.load(DECODER_PATH + \"rgb\").cuda()\n",
    "decoder_sdf.eval()\n",
    "decoder_rgb.eval()\n",
    "\n",
    "def get_camera_matrix_and_frame(model_hash, image_id, annotations):\n",
    "    frame = annotations[model_hash][image_id]['frame'].copy()\n",
    "    matrix_object_to_world = annotations[model_hash][image_id]['matrix_object_to_world'].copy()\n",
    "    matrix_world_to_camera = annotations[\"matrix_world_to_camera\"]\n",
    "\n",
    "    matrix_world_to_camera = matrix_world_to_camera[[1,0,2,3]]\n",
    "    matrix_object_to_world = matrix_object_to_world[:,[1,0,2,3]][[2,1,0,3]]\n",
    "\n",
    "    matrix_camera_to_world = np.linalg.inv(matrix_world_to_camera)\n",
    "    matrix_world_to_object = np.linalg.inv(matrix_object_to_world)\n",
    "\n",
    "    matrix_camera_to_object = matrix_world_to_object.dot(matrix_camera_to_world)\n",
    "\n",
    "    return frame, matrix_camera_to_object\n",
    "\n",
    "def initialize_rendering(model_hash, image_id, annotations, image_path):\n",
    "\n",
    "    image_pth = image_path + model_hash + '/' + str(image_id) + '.png'\n",
    "    ground_truth_image = imageio.imread(image_pth)/255\n",
    "\n",
    "    resolution = RAY_MARCHING_RESOLUTION\n",
    "\n",
    "    frame, matrix_camera_to_object = get_camera_matrix_and_frame(model_hash, image_id, annotations)\n",
    "\n",
    "    cam_pos_cam_coord = np.array([0,0,0,1])\n",
    "    cam_pos_obj_coord = matrix_camera_to_object.dot(cam_pos_cam_coord)\n",
    "\n",
    "    pos_init_ray = np.ones([resolution * resolution, 3])\n",
    "    pos_init_ray[:,0] *= cam_pos_obj_coord[0]\n",
    "    pos_init_ray[:,1] *= cam_pos_obj_coord[1]\n",
    "    pos_init_ray[:,2] *= cam_pos_obj_coord[2]\n",
    "\n",
    "    ray_marching_vector = np.empty([resolution * resolution, 3])\n",
    "\n",
    "    for i in range(resolution):\n",
    "        for j in range(resolution):\n",
    "\n",
    "            # select pixel to render\n",
    "            pixel_pos = np.array([i/(resolution-1),j/(resolution-1)])\n",
    "\n",
    "            # convert pixel in world coordinate\n",
    "            pixel_pos_cam_coord = convert_view_to_camera_coordinates(frame, pixel_pos)\n",
    "            pixel_pos_obj_coord = matrix_camera_to_object.dot(pixel_pos_cam_coord)\n",
    "\n",
    "            ray_marching_vector[i * resolution + j,:] = ((pixel_pos_obj_coord - cam_pos_obj_coord)/np.linalg.norm(pixel_pos_obj_coord - cam_pos_obj_coord))[:3]\n",
    "\n",
    "\n",
    "    min_step = np.zeros([resolution * resolution, 3])\n",
    "    max_step = np.ones([resolution * resolution, 3]) * 1e38\n",
    "\n",
    "    min_step[ray_marching_vector > 0] = (BOUND_MIN_CUBE - pos_init_ray[ray_marching_vector > 0]) / ray_marching_vector[ray_marching_vector > 0]\n",
    "    min_step[ray_marching_vector < 0] = (BOUND_MAX_CUBE - pos_init_ray[ray_marching_vector < 0]) / ray_marching_vector[ray_marching_vector < 0]\n",
    "\n",
    "    max_step[ray_marching_vector > 0] = (BOUND_MAX_CUBE - pos_init_ray[ray_marching_vector > 0]) / ray_marching_vector[ray_marching_vector > 0]\n",
    "    max_step[ray_marching_vector < 0] = (BOUND_MIN_CUBE - pos_init_ray[ray_marching_vector < 0]) / ray_marching_vector[ray_marching_vector < 0]\n",
    "\n",
    "    max_step[(ray_marching_vector == 0) * ~((pos_init_ray > BOUND_MIN_CUBE) * (pos_init_ray < BOUND_MAX_CUBE))] = 0\n",
    "\n",
    "    min_step = min_step.max(1)\n",
    "    max_step = max_step.min(1)\n",
    "\n",
    "    max_step[min_step >= max_step] = 0\n",
    "    min_step[min_step >= max_step] = 0\n",
    "\n",
    "\n",
    "\n",
    "    return ground_truth_image, pos_init_ray, ray_marching_vector, min_step, max_step\n",
    "\n",
    "# def ray_marching_rendering(decoder, latent_code, pos_init_ray, ray_marching_vector, min_step, max_step):\n",
    "\n",
    "#     resolution = RAY_MARCHING_RESOLUTION\n",
    "\n",
    "#     # convert into cuda tensor\n",
    "#     ray_marching_vector = torch.tensor(ray_marching_vector,dtype=torch.float).cuda()\n",
    "#     pos_init_ray = torch.tensor(pos_init_ray,dtype=torch.float).cuda()\n",
    "#     min_step = torch.tensor(min_step,dtype=torch.float).cuda()\n",
    "#     max_step = torch.tensor(max_step,dtype=torch.float).cuda()\n",
    "\n",
    "#     # marching safely until the \"cube\" representing the zone where the sdf was trained, and therefore contain the whole object\n",
    "#     min_pos = pos_init_ray + min_step.unsqueeze(1).mul(ray_marching_vector)\n",
    "#     pos_along_ray = min_pos\n",
    "#     sum_step = min_step\n",
    "\n",
    "#     ### max pos not used, function ca be improved to stop computing sdf after max pos is reached\n",
    "#     # max_pos = pos_init_ray + max_step.unsqueeze(1).mul(ray_marching_vector)\n",
    "\n",
    "#     # only compute ray marching for ray passing through the cube\n",
    "#     mask_cube = (min_step != 0)\n",
    "#     mask_ray_still_marching = mask_cube\n",
    "\n",
    "#     # define ratio to accelerate ray marching\n",
    "#     ratio = torch.ones([resolution * resolution]).cuda()\n",
    "#     sdf = torch.zeros([resolution * resolution]).cuda()\n",
    "\n",
    "#     for iter in range(MAX_ITER):\n",
    "#         # compute sdf values\n",
    "#         sdf[mask_ray_still_marching] = decoder(latent_code.unsqueeze(0).repeat([mask_ray_still_marching.count_nonzero(),1]), pos_along_ray[mask_ray_still_marching])[:,0].detach()\n",
    "\n",
    "#         # scaling: unit of 1 from the decoder's prediction correspond to a unit of 1 in the object coordinate\n",
    "#         sdf *= 1\n",
    "\n",
    "#         # compute the ratio using difference between old an new sdf values,\n",
    "#         if iter == 0:\n",
    "#             # store first sdf\n",
    "#             old_sdf = sdf\n",
    "#         else:\n",
    "#             # only compute ratio when the sdf is high enough and decreasing\n",
    "#             mask_ratio = (sdf > THRESHOLD) * (sdf < old_sdf)\n",
    "#             ratio[mask_ratio] = old_sdf[mask_ratio]/(old_sdf[mask_ratio] - sdf[mask_ratio])\n",
    "\n",
    "#             # store new sdf\n",
    "#             old_sdf[mask_ray_still_marching] = sdf[mask_ray_still_marching]\n",
    "            \n",
    "#             # accelarating the step, this is only possible because the decoder tends to underestimate the distance due to the design of the loss\n",
    "#             sdf[mask_ratio] *= ratio[mask_ratio]\n",
    "\n",
    "#         # clamp value to prevent undesired issues\n",
    "#         sdf = sdf.clamp(None, MAX_STEP)\n",
    "\n",
    "#         # march along the ray\n",
    "#         step = sdf\n",
    "#         sum_step += step\n",
    "#         pos_along_ray = pos_along_ray + step.unsqueeze(1).mul(ray_marching_vector)\n",
    "\n",
    "#         mask_ray_still_marching = mask_ray_still_marching * (sum_step < max_step)\n",
    "\n",
    "#     # interpolate final position for a higher resolution\n",
    "#     pos_along_ray = pos_along_ray.reshape(resolution, resolution, 3).permute(2,0,1).unsqueeze(0)\n",
    "#     pos_along_ray = torch.nn.functional.interpolate(pos_along_ray, scale_factor = SCALING_FACTOR, mode='bilinear', align_corners=False)\n",
    "#     pos_along_ray = pos_along_ray.squeeze().permute(1,2,0).reshape(resolution * resolution * SCALING_FACTOR * SCALING_FACTOR, 3)\n",
    "\n",
    "#     # compute corresponding sdf\n",
    "#     sdf_and_rgb = decoder(latent_code.unsqueeze(0).repeat([resolution * resolution * SCALING_FACTOR * SCALING_FACTOR,1]), pos_along_ray)[:,:].detach()\n",
    "#     sdf_and_rgb = sdf_and_rgb.reshape(resolution * SCALING_FACTOR, resolution * SCALING_FACTOR, 4)\n",
    "#     sdf = sdf_and_rgb[:,:,0]\n",
    "#     rgb = sdf_and_rgb[:,:,1:]\n",
    "\n",
    "#     # init image with white background\n",
    "#     rendered_image = torch.ones([resolution * SCALING_FACTOR, resolution * SCALING_FACTOR,3]).cuda()\n",
    "\n",
    "#     mask_car = sdf < THRESHOLD\n",
    "#     rendered_image[mask_car] = rgb[mask_car]\n",
    "\n",
    "#     return rendered_image, mask_car\n",
    "\n",
    "\n",
    "def ray_marching_rendering(decoder_sdf, decoder_rgb, latent_code, pos_init_ray, ray_marching_vector, min_step, max_step):\n",
    "\n",
    "    resolution = RAY_MARCHING_RESOLUTION\n",
    "\n",
    "    # convert into cuda tensor\n",
    "    ray_marching_vector = torch.tensor(ray_marching_vector,dtype=torch.float).cuda()\n",
    "    pos_init_ray = torch.tensor(pos_init_ray,dtype=torch.float).cuda()\n",
    "    min_step = torch.tensor(min_step,dtype=torch.float).cuda()\n",
    "    max_step = torch.tensor(max_step,dtype=torch.float).cuda()\n",
    "\n",
    "    # marching safely until the \"cube\" representing the zone where the sdf was trained, and therefore contain the whole object\n",
    "    min_pos = pos_init_ray + min_step.unsqueeze(1).mul(ray_marching_vector)\n",
    "    pos_along_ray = min_pos\n",
    "    sum_step = min_step\n",
    "\n",
    "\n",
    "    # only compute ray marching for ray passing through the cube\n",
    "    mask_cube = (min_step != 0)\n",
    "    mask_ray_still_marching = mask_cube\n",
    "\n",
    "    # define ratio to accelerate ray marching\n",
    "    ratio = torch.ones([resolution * resolution]).cuda()\n",
    "    sdf = torch.zeros([resolution * resolution]).cuda()\n",
    "\n",
    "    for iter in range(MAX_ITER):\n",
    "        # compute sdf values\n",
    "        sdf[mask_ray_still_marching] = decoder_sdf(latent_code.unsqueeze(0).repeat([mask_ray_still_marching.count_nonzero(),1]), pos_along_ray[mask_ray_still_marching])[:,0].detach()\n",
    "\n",
    "        # scaling: unit of 1 from the decoder's prediction correspond to a unit of 1 in the object coordinate\n",
    "        sdf *= 1\n",
    "\n",
    "        # compute the ratio using difference between old an new sdf values,\n",
    "        if iter == 0:\n",
    "            # store first sdf\n",
    "            old_sdf = sdf\n",
    "        else:\n",
    "            # only compute ratio when the sdf is high enough and decreasing\n",
    "            mask_ratio = (sdf > THRESHOLD) * (sdf < old_sdf)\n",
    "            ratio[mask_ratio] = old_sdf[mask_ratio]/(old_sdf[mask_ratio] - sdf[mask_ratio])\n",
    "\n",
    "            # store new sdf\n",
    "            old_sdf[mask_ray_still_marching] = sdf[mask_ray_still_marching]\n",
    "            \n",
    "            # accelarating the step, this is only possible because the decoder tends to underestimate the distance due to the design of the loss\n",
    "            sdf[mask_ratio] *= ratio[mask_ratio]\n",
    "\n",
    "        # clamp value to prevent undesired issues\n",
    "        sdf = sdf.clamp(None, MAX_STEP)\n",
    "\n",
    "        # march along the ray\n",
    "        step = sdf\n",
    "        sum_step += step\n",
    "        pos_along_ray = pos_along_ray + step.unsqueeze(1).mul(ray_marching_vector)\n",
    "\n",
    "        mask_ray_still_marching = mask_ray_still_marching * (sum_step < max_step)\n",
    "\n",
    "    # interpolate final position for a higher resolution\n",
    "    pos_along_ray = pos_along_ray.reshape(resolution, resolution, 3).permute(2,0,1).unsqueeze(0)\n",
    "    pos_along_ray = torch.nn.functional.interpolate(pos_along_ray, scale_factor = SCALING_FACTOR, mode='bilinear', align_corners=False)\n",
    "    pos_along_ray = pos_along_ray.squeeze().permute(1,2,0).reshape(resolution * resolution * SCALING_FACTOR * SCALING_FACTOR, 3)\n",
    "\n",
    "    # compute corresponding sdf\n",
    "    sdf = decoder_sdf(latent_code.unsqueeze(0).repeat([resolution * resolution * SCALING_FACTOR * SCALING_FACTOR,1]), pos_along_ray)[:,:]\n",
    "    rgb = decoder_rgb(latent_code.unsqueeze(0).repeat([resolution * resolution * SCALING_FACTOR * SCALING_FACTOR,1]), pos_along_ray)[:,:]\n",
    "    sdf = sdf.reshape(resolution * SCALING_FACTOR, resolution * SCALING_FACTOR)\n",
    "    rgb = rgb.reshape(resolution * SCALING_FACTOR, resolution * SCALING_FACTOR, 3)\n",
    "\n",
    "    # init image with white background\n",
    "    rendered_image = torch.ones([resolution * SCALING_FACTOR, resolution * SCALING_FACTOR,3]).cuda()\n",
    "\n",
    "    mask_car = sdf < THRESHOLD\n",
    "    rendered_image[mask_car] = rgb[mask_car]\n",
    "\n",
    "    return rendered_image, mask_car"
   ]
  },
  {
   "cell_type": "code",
   "execution_count": null,
   "metadata": {},
   "outputs": [],
   "source": []
  },
  {
   "cell_type": "code",
   "execution_count": 2,
   "metadata": {},
   "outputs": [
    {
     "ename": "AttributeError",
     "evalue": "'Decoder' object has no attribute 'sgm'",
     "output_type": "error",
     "traceback": [
      "\u001b[0;31m---------------------------------------------------------------------------\u001b[0m",
      "\u001b[0;31mAttributeError\u001b[0m                            Traceback (most recent call last)",
      "\u001b[0;32m/tmp/ipykernel_68888/1907278922.py\u001b[0m in \u001b[0;36m<module>\u001b[0;34m\u001b[0m\n\u001b[1;32m     13\u001b[0m \u001b[0;34m\u001b[0m\u001b[0m\n\u001b[1;32m     14\u001b[0m     \u001b[0;31m# rendered_image, mask_car = ray_marching_rendering(decoder, code_gt, pos_init_ray, ray_marching_vector, min_step, max_step)\u001b[0m\u001b[0;34m\u001b[0m\u001b[0;34m\u001b[0m\u001b[0;34m\u001b[0m\u001b[0m\n\u001b[0;32m---> 15\u001b[0;31m     \u001b[0mrendered_image\u001b[0m\u001b[0;34m,\u001b[0m \u001b[0mmask_car\u001b[0m \u001b[0;34m=\u001b[0m \u001b[0mray_marching_rendering\u001b[0m\u001b[0;34m(\u001b[0m\u001b[0mdecoder_sdf\u001b[0m\u001b[0;34m,\u001b[0m \u001b[0mdecoder_rgb\u001b[0m\u001b[0;34m,\u001b[0m \u001b[0mcode_gt\u001b[0m\u001b[0;34m,\u001b[0m \u001b[0mpos_init_ray\u001b[0m\u001b[0;34m,\u001b[0m \u001b[0mray_marching_vector\u001b[0m\u001b[0;34m,\u001b[0m \u001b[0mmin_step\u001b[0m\u001b[0;34m,\u001b[0m \u001b[0mmax_step\u001b[0m\u001b[0;34m)\u001b[0m\u001b[0;34m\u001b[0m\u001b[0;34m\u001b[0m\u001b[0m\n\u001b[0m\u001b[1;32m     16\u001b[0m     \u001b[0mrendered_image\u001b[0m \u001b[0;34m=\u001b[0m \u001b[0mrendered_image\u001b[0m\u001b[0;34m.\u001b[0m\u001b[0mcpu\u001b[0m\u001b[0;34m(\u001b[0m\u001b[0;34m)\u001b[0m\u001b[0;34m.\u001b[0m\u001b[0mnumpy\u001b[0m\u001b[0;34m(\u001b[0m\u001b[0;34m)\u001b[0m\u001b[0;34m\u001b[0m\u001b[0;34m\u001b[0m\u001b[0m\n\u001b[1;32m     17\u001b[0m     \u001b[0mmask_car\u001b[0m \u001b[0;34m=\u001b[0m \u001b[0mmask_car\u001b[0m\u001b[0;34m.\u001b[0m\u001b[0mcpu\u001b[0m\u001b[0;34m(\u001b[0m\u001b[0;34m)\u001b[0m\u001b[0;34m.\u001b[0m\u001b[0mnumpy\u001b[0m\u001b[0;34m(\u001b[0m\u001b[0;34m)\u001b[0m\u001b[0;34m\u001b[0m\u001b[0;34m\u001b[0m\u001b[0m\n",
      "\u001b[0;32m/tmp/ipykernel_68888/3105527832.py\u001b[0m in \u001b[0;36mray_marching_rendering\u001b[0;34m(decoder_sdf, decoder_rgb, latent_code, pos_init_ray, ray_marching_vector, min_step, max_step)\u001b[0m\n\u001b[1;32m    208\u001b[0m     \u001b[0;32mfor\u001b[0m \u001b[0miter\u001b[0m \u001b[0;32min\u001b[0m \u001b[0mrange\u001b[0m\u001b[0;34m(\u001b[0m\u001b[0mMAX_ITER\u001b[0m\u001b[0;34m)\u001b[0m\u001b[0;34m:\u001b[0m\u001b[0;34m\u001b[0m\u001b[0;34m\u001b[0m\u001b[0m\n\u001b[1;32m    209\u001b[0m         \u001b[0;31m# compute sdf values\u001b[0m\u001b[0;34m\u001b[0m\u001b[0;34m\u001b[0m\u001b[0;34m\u001b[0m\u001b[0m\n\u001b[0;32m--> 210\u001b[0;31m         \u001b[0msdf\u001b[0m\u001b[0;34m[\u001b[0m\u001b[0mmask_ray_still_marching\u001b[0m\u001b[0;34m]\u001b[0m \u001b[0;34m=\u001b[0m \u001b[0mdecoder_sdf\u001b[0m\u001b[0;34m(\u001b[0m\u001b[0mlatent_code\u001b[0m\u001b[0;34m.\u001b[0m\u001b[0munsqueeze\u001b[0m\u001b[0;34m(\u001b[0m\u001b[0;36m0\u001b[0m\u001b[0;34m)\u001b[0m\u001b[0;34m.\u001b[0m\u001b[0mrepeat\u001b[0m\u001b[0;34m(\u001b[0m\u001b[0;34m[\u001b[0m\u001b[0mmask_ray_still_marching\u001b[0m\u001b[0;34m.\u001b[0m\u001b[0mcount_nonzero\u001b[0m\u001b[0;34m(\u001b[0m\u001b[0;34m)\u001b[0m\u001b[0;34m,\u001b[0m\u001b[0;36m1\u001b[0m\u001b[0;34m]\u001b[0m\u001b[0;34m)\u001b[0m\u001b[0;34m,\u001b[0m \u001b[0mpos_along_ray\u001b[0m\u001b[0;34m[\u001b[0m\u001b[0mmask_ray_still_marching\u001b[0m\u001b[0;34m]\u001b[0m\u001b[0;34m)\u001b[0m\u001b[0;34m[\u001b[0m\u001b[0;34m:\u001b[0m\u001b[0;34m,\u001b[0m\u001b[0;36m0\u001b[0m\u001b[0;34m]\u001b[0m\u001b[0;34m.\u001b[0m\u001b[0mdetach\u001b[0m\u001b[0;34m(\u001b[0m\u001b[0;34m)\u001b[0m\u001b[0;34m\u001b[0m\u001b[0;34m\u001b[0m\u001b[0m\n\u001b[0m\u001b[1;32m    211\u001b[0m \u001b[0;34m\u001b[0m\u001b[0m\n\u001b[1;32m    212\u001b[0m         \u001b[0;31m# scaling: unit of 1 from the decoder's prediction correspond to a unit of 1 in the object coordinate\u001b[0m\u001b[0;34m\u001b[0m\u001b[0;34m\u001b[0m\u001b[0;34m\u001b[0m\u001b[0m\n",
      "\u001b[0;32m~/MasterPDM/codePDM/venv/lib/python3.9/site-packages/torch/nn/modules/module.py\u001b[0m in \u001b[0;36m_call_impl\u001b[0;34m(self, *input, **kwargs)\u001b[0m\n\u001b[1;32m   1049\u001b[0m         if not (self._backward_hooks or self._forward_hooks or self._forward_pre_hooks or _global_backward_hooks\n\u001b[1;32m   1050\u001b[0m                 or _global_forward_hooks or _global_forward_pre_hooks):\n\u001b[0;32m-> 1051\u001b[0;31m             \u001b[0;32mreturn\u001b[0m \u001b[0mforward_call\u001b[0m\u001b[0;34m(\u001b[0m\u001b[0;34m*\u001b[0m\u001b[0minput\u001b[0m\u001b[0;34m,\u001b[0m \u001b[0;34m**\u001b[0m\u001b[0mkwargs\u001b[0m\u001b[0;34m)\u001b[0m\u001b[0;34m\u001b[0m\u001b[0;34m\u001b[0m\u001b[0m\n\u001b[0m\u001b[1;32m   1052\u001b[0m         \u001b[0;31m# Do not call functions when jit is used\u001b[0m\u001b[0;34m\u001b[0m\u001b[0;34m\u001b[0m\u001b[0;34m\u001b[0m\u001b[0m\n\u001b[1;32m   1053\u001b[0m         \u001b[0mfull_backward_hooks\u001b[0m\u001b[0;34m,\u001b[0m \u001b[0mnon_full_backward_hooks\u001b[0m \u001b[0;34m=\u001b[0m \u001b[0;34m[\u001b[0m\u001b[0;34m]\u001b[0m\u001b[0;34m,\u001b[0m \u001b[0;34m[\u001b[0m\u001b[0;34m]\u001b[0m\u001b[0;34m\u001b[0m\u001b[0;34m\u001b[0m\u001b[0m\n",
      "\u001b[0;32m~/MasterPDM/codePDM/least_old_img2sdf_code/networks.py\u001b[0m in \u001b[0;36mforward\u001b[0;34m(self, latent_code, xyz)\u001b[0m\n\u001b[1;32m     80\u001b[0m \u001b[0;34m\u001b[0m\u001b[0m\n\u001b[1;32m     81\u001b[0m         \u001b[0;31m# activation function, only for rgb values\u001b[0m\u001b[0;34m\u001b[0m\u001b[0;34m\u001b[0m\u001b[0;34m\u001b[0m\u001b[0m\n\u001b[0;32m---> 82\u001b[0;31m         \u001b[0mx\u001b[0m\u001b[0;34m[\u001b[0m\u001b[0;34m:\u001b[0m\u001b[0;34m,\u001b[0m\u001b[0;36m1\u001b[0m\u001b[0;34m:\u001b[0m\u001b[0;34m]\u001b[0m \u001b[0;34m=\u001b[0m \u001b[0mself\u001b[0m\u001b[0;34m.\u001b[0m\u001b[0msgm\u001b[0m\u001b[0;34m(\u001b[0m\u001b[0mself\u001b[0m\u001b[0;34m.\u001b[0m\u001b[0mlambda_activation\u001b[0m \u001b[0;34m*\u001b[0m \u001b[0mx\u001b[0m\u001b[0;34m[\u001b[0m\u001b[0;34m:\u001b[0m\u001b[0;34m,\u001b[0m\u001b[0;36m1\u001b[0m\u001b[0;34m:\u001b[0m\u001b[0;34m]\u001b[0m\u001b[0;34m)\u001b[0m\u001b[0;34m\u001b[0m\u001b[0;34m\u001b[0m\u001b[0m\n\u001b[0m\u001b[1;32m     83\u001b[0m \u001b[0;34m\u001b[0m\u001b[0m\n\u001b[1;32m     84\u001b[0m \u001b[0;34m\u001b[0m\u001b[0m\n",
      "\u001b[0;32m~/MasterPDM/codePDM/venv/lib/python3.9/site-packages/torch/nn/modules/module.py\u001b[0m in \u001b[0;36m__getattr__\u001b[0;34m(self, name)\u001b[0m\n\u001b[1;32m   1128\u001b[0m             \u001b[0;32mif\u001b[0m \u001b[0mname\u001b[0m \u001b[0;32min\u001b[0m \u001b[0mmodules\u001b[0m\u001b[0;34m:\u001b[0m\u001b[0;34m\u001b[0m\u001b[0;34m\u001b[0m\u001b[0m\n\u001b[1;32m   1129\u001b[0m                 \u001b[0;32mreturn\u001b[0m \u001b[0mmodules\u001b[0m\u001b[0;34m[\u001b[0m\u001b[0mname\u001b[0m\u001b[0;34m]\u001b[0m\u001b[0;34m\u001b[0m\u001b[0;34m\u001b[0m\u001b[0m\n\u001b[0;32m-> 1130\u001b[0;31m         raise AttributeError(\"'{}' object has no attribute '{}'\".format(\n\u001b[0m\u001b[1;32m   1131\u001b[0m             type(self).__name__, name))\n\u001b[1;32m   1132\u001b[0m \u001b[0;34m\u001b[0m\u001b[0m\n",
      "\u001b[0;31mAttributeError\u001b[0m: 'Decoder' object has no attribute 'sgm'"
     ]
    },
    {
     "data": {
      "image/png": "[encoded data removed]",
      "text/plain": [
       "<Figure size 720x720 with 16 Axes>"
      ]
     },
     "metadata": {
      "needs_background": "light"
     },
     "output_type": "display_data"
    }
   ],
   "source": [
    "model_id = 0\n",
    "image_id = 3\n",
    "\n",
    "fig, axs = plt.subplots(4,4, figsize=(10,10))\n",
    "for model_id in range(16):\n",
    "\n",
    "    list_hash = list(dict_hash_2_code.keys())\n",
    "    model_hash = list_hash[model_id]\n",
    "    code_gt = dict_hash_2_code[model_hash].cuda()\n",
    "\n",
    "    ground_truth_image, pos_init_ray, ray_marching_vector, min_step, max_step = initialize_rendering(model_hash, image_id, annotations, IMAGES_PATH)\n",
    "    ground_truth_image = np.array(ground_truth_image)\n",
    "\n",
    "    # rendered_image, mask_car = ray_marching_rendering(decoder, code_gt, pos_init_ray, ray_marching_vector, min_step, max_step)\n",
    "    rendered_image, mask_car = ray_marching_rendering(decoder_sdf, decoder_rgb, code_gt, pos_init_ray, ray_marching_vector, min_step, max_step)\n",
    "    rendered_image = rendered_image.cpu().numpy()\n",
    "    mask_car = mask_car.cpu().numpy()\n",
    "    min_step = min_step.reshape(50,50)\n",
    "\n",
    "    rendered_image[mask_car == False] = 0\n",
    "    rendered_image[min_step == 0] = 1\n",
    "\n",
    "    axs[model_id%4, (int)((model_id - model_id%4)/4)].imshow(rendered_image)\n",
    "\n",
    "\n",
    "# rendered_image = rendered_image.cpu().numpy()\n",
    "# mask_car = mask_car.cpu().numpy()\n",
    "# downscale_ground_truth_image = cv2.resize(ground_truth_image, rendered_image.shape[:2])\n",
    "# error = np.zeros([100, 100, 3])\n",
    "# error[mask_car == False] = abs(downscale_ground_truth_image[mask_car == False] - rendered_image[mask_car == False])\n",
    "# error = error.mean(2)\n",
    "\n",
    "# fig, axs = plt.subplots(2,2, figsize=(10,10))\n",
    "# axs[0,0].imshow(rendered_image)\n",
    "# axs[0,1]. imshow(error)\n",
    "# axs[1,0]. imshow(downscale_ground_truth_image)\n",
    "# axs[1,1].imshow(ground_truth_image)\n",
    "\n"
   ]
  },
  {
   "cell_type": "code",
   "execution_count": 111,
   "metadata": {},
   "outputs": [
    {
     "data": {
      "text/plain": [
       "'rgb'"
      ]
     },
     "execution_count": 111,
     "metadata": {},
     "output_type": "execute_result"
    }
   ],
   "source": [
    "decoder_rgb.mode"
   ]
  },
  {
   "cell_type": "code",
   "execution_count": 339,
   "metadata": {},
   "outputs": [
    {
     "ename": "ZeroDivisionError",
     "evalue": "division by zero",
     "output_type": "error",
     "traceback": [
      "\u001b[0;31m---------------------------------------------------------------------------\u001b[0m",
      "\u001b[0;31mZeroDivisionError\u001b[0m                         Traceback (most recent call last)",
      "\u001b[0;32m/tmp/ipykernel_25661/2280160656.py\u001b[0m in \u001b[0;36m<module>\u001b[0;34m\u001b[0m\n\u001b[1;32m     90\u001b[0m \u001b[0;34m\u001b[0m\u001b[0m\n\u001b[1;32m     91\u001b[0m \u001b[0;34m\u001b[0m\u001b[0m\n\u001b[0;32m---> 92\u001b[0;31m \u001b[0;36m1\u001b[0m\u001b[0;34m/\u001b[0m\u001b[0;36m0\u001b[0m\u001b[0;34m\u001b[0m\u001b[0;34m\u001b[0m\u001b[0m\n\u001b[0m\u001b[1;32m     93\u001b[0m \u001b[0;34m\u001b[0m\u001b[0m\n\u001b[1;32m     94\u001b[0m \u001b[0;34m\u001b[0m\u001b[0m\n",
      "\u001b[0;31mZeroDivisionError\u001b[0m: division by zero"
     ]
    }
   ],
   "source": [
    "\n",
    "model_id = 3\n",
    "image_id = 4\n",
    "\n",
    "threshold = 1/64\n",
    "max_displacement = 1/16\n",
    "max_iter = 20\n",
    "resolution = 50\n",
    "\n",
    "scale_factor = 2\n",
    "\n",
    "# load decoder\n",
    "decoder = torch.load(DECODER_PATH).cuda()\n",
    "decoder.eval()\n",
    "\n",
    "\n",
    "model_hash = list_hash[model_id]\n",
    "# code_prediction = latent_code[model_id,:].squeeze()\n",
    "code_gt = dict_hash_2_code[model_hash].cuda()\n",
    "code_prediction = code_gt\n",
    "\n",
    "frame = annotations[model_hash][image_id]['frame'].copy()\n",
    "matrix_object_to_world = annotations[model_hash][image_id]['matrix_object_to_world'].copy()\n",
    "matrix_world_to_camera = pickle.load(open(MATRIX_PATH, 'rb'))\n",
    "\n",
    "matrix_world_to_camera = matrix_world_to_camera[[1,0,2,3]]\n",
    "matrix_object_to_world = matrix_object_to_world[:,[1,0,2,3]][[2,1,0,3]]\n",
    "\n",
    "matrix_camera_to_world = np.linalg.inv(matrix_world_to_camera)\n",
    "matrix_world_to_object = np.linalg.inv(matrix_object_to_world)\n",
    "\n",
    "matrix_camera_to_object = matrix_world_to_object.dot(matrix_camera_to_world)\n",
    "\n",
    "image_pth = IMAGES_PATH + model_hash + '/' + str(image_id) + '.png'\n",
    "input_im = imageio.imread(image_pth)\n",
    "\n",
    "cam_pos_cam_coord = np.array([0,0,0,1])\n",
    "cam_pos_obj_coord = matrix_camera_to_object.dot(cam_pos_cam_coord)\n",
    "\n",
    "pos_init_ray = np.ones([resolution * resolution, 3])\n",
    "pos_init_ray[:,0] *= cam_pos_obj_coord[0]\n",
    "pos_init_ray[:,1] *= cam_pos_obj_coord[1]\n",
    "pos_init_ray[:,2] *= cam_pos_obj_coord[2]\n",
    "\n",
    "ray_casting_vector = np.empty([resolution * resolution, 3])\n",
    "\n",
    "time_start = time.time()\n",
    "\n",
    "min_step_all = np.zeros([resolution * resolution])\n",
    "max_step_all = np.zeros([resolution * resolution])\n",
    "\n",
    "for i in range(resolution):\n",
    "    for j in range(resolution):\n",
    "\n",
    "        # select pixel to render\n",
    "        pixel_pos = np.array([i/(resolution-1),j/(resolution-1)])\n",
    "\n",
    "        # convert pixel in world coordinate\n",
    "        pixel_pos_cam_coord = convert_view_to_camera_coordinates(frame, pixel_pos)\n",
    "        pixel_pos_obj_coord = matrix_camera_to_object.dot(pixel_pos_cam_coord)\n",
    "\n",
    "        direction = ((pixel_pos_obj_coord - cam_pos_obj_coord)/np.linalg.norm(pixel_pos_obj_coord - cam_pos_obj_coord))[:3]\n",
    "        ray_casting_vector[i * resolution + j,:] = direction\n",
    "\n",
    "        bound_max_cube = 0.5\n",
    "        bound_min_cube = -0.5\n",
    "\n",
    "        min_step = 0\n",
    "        max_step = 1e38\n",
    "\n",
    "        for xyz in range(3):\n",
    "            if direction[xyz] > 0:\n",
    "                max = (bound_max_cube - pos_init_ray[i * resolution + j, xyz]) / direction[xyz]\n",
    "                min = (bound_min_cube - pos_init_ray[i * resolution + j, xyz]) / direction[xyz]\n",
    "\n",
    "            elif direction[xyz] < 0:\n",
    "                min = (bound_max_cube - pos_init_ray[i * resolution + j, xyz]) / direction[xyz]\n",
    "                max = (bound_min_cube - pos_init_ray[i * resolution + j, xyz]) / direction[xyz]\n",
    "            else:\n",
    "                if pos_init_ray[i * resolution + j, xyz] < bound_min_cube or pos_init_ray[i * resolution + j, xyz] > bound_max_cube:\n",
    "                    max = 0\n",
    "\n",
    "            if min > min_step:\n",
    "                min_step = min\n",
    "            if max < max_step:\n",
    "                max_step = max\n",
    "\n",
    "        if min_step < max_step:\n",
    "            min_step_all[i * resolution + j] = min_step\n",
    "            max_step_all[i * resolution + j] = max_step\n",
    "\n",
    "\n",
    "1/0\n",
    "\n",
    "\n",
    "print(f\"time for initialization: {time.time() - time_start}\")\n",
    "time_start = time.time()\n",
    "\n",
    "ray_casting_vector = torch.tensor(ray_casting_vector,dtype=torch.float).cuda()\n",
    "pos_init_ray = torch.tensor(pos_init_ray,dtype=torch.float).cuda()\n",
    "min_step_all = torch.tensor(min_step_all,dtype=torch.float).cuda()\n",
    "max_step_all = torch.tensor(max_step_all,dtype=torch.float).cuda()\n",
    "\n",
    "min_pos = pos_init_ray + min_step_all.unsqueeze(1).mul(ray_casting_vector)\n",
    "max_pos = pos_init_ray + max_step_all.unsqueeze(1).mul(ray_casting_vector)\n",
    "\n",
    "pos_along_ray = min_pos\n",
    "\n",
    "### first sdf iterartion\n",
    "sdf_and_rgb = decoder(code_prediction.unsqueeze(0).repeat([resolution * resolution,1]), pos_along_ray)[:,:].detach()\n",
    "sdf = sdf_and_rgb[:,0]\n",
    "sdf *= 1 # scaling: unit of 1 from the decoder's prediction correspond to a unit of 1 in the object coordinate\n",
    "old_sdf = sdf\n",
    "sdf = sdf.clamp(None, max_displacement)\n",
    "step = sdf\n",
    "\n",
    "pos_along_ray = pos_along_ray + step.unsqueeze(1).mul(ray_casting_vector)\n",
    "\n",
    "count_iter = torch.zeros([resolution * resolution]).cuda()\n",
    "\n",
    "cube_mask = (min_step_all != 0)\n",
    "\n",
    "sdf = torch.zeros([resolution * resolution]).cuda()\n",
    "\n",
    "# iterate\n",
    "for iter in range(max_iter):\n",
    "\n",
    "    # sdf_and_rgb = decoder(code_prediction.unsqueeze(0).repeat([resolution * resolution,1]), pos_along_ray)[:,:].detach()\n",
    "    sdf[cube_mask] = decoder(code_prediction.unsqueeze(0).repeat([cube_mask.count_nonzero(),1]), pos_along_ray[cube_mask])[:,0].detach()\n",
    "\n",
    "    sdf *= 1 # unit of 1 from the decoder's prediction correspond to a unit of 1 in the object coordinate\n",
    "\n",
    "    ratio = torch.ones([resolution * resolution]).cuda()\n",
    "    ratio[(sdf > threshold) * (sdf < old_sdf)] = old_sdf[(sdf > threshold) * (sdf < old_sdf)]/(old_sdf[(sdf > threshold) * (sdf < old_sdf)] - sdf[(sdf > threshold) * (sdf < old_sdf)])\n",
    "    old_sdf = sdf\n",
    "    sdf[sdf > threshold] *= ratio[sdf > threshold] # accelarating the step, this is only possible because the decoder tends to underestimate the distance due to the design of the loss\n",
    "\n",
    "    sdf = sdf.clamp(None, max_displacement)\n",
    "    step = sdf\n",
    "\n",
    "    pos_along_ray = pos_along_ray + step.unsqueeze(1).mul(ray_casting_vector)\n",
    "\n",
    "    count_iter[(sdf < threshold) * (count_iter == 0)] = iter + 1\n",
    "\n",
    "\n",
    "\n",
    "# pos_along_ray = pos_along_ray.reshape(resolution, resolution, 3).permute(2,0,1).unsqueeze(0)\n",
    "# pos_along_ray = torch.nn.functional.interpolate(pos_along_ray, scale_factor = scale_factor)\n",
    "# pos_along_ray = pos_along_ray.squeeze().permute(1,2,0).reshape(resolution * resolution * scale_factor *scale_factor, 3)\n",
    "\n",
    "sdf_and_rgb = decoder(code_prediction.unsqueeze(0).repeat([resolution * resolution,1]), pos_along_ray)[:,:].detach()\n",
    "# sdf_and_rgb = decoder(code_prediction.unsqueeze(0).repeat([resolution * resolution * scale_factor * scale_factor,1]), pos_along_ray)[:,:].detach()\n",
    "car_mask = sdf_and_rgb[:,0] < threshold\n",
    "\n",
    "sdf_and_rgb = sdf_and_rgb.reshape(resolution, resolution, 4).cpu().numpy()\n",
    "# sdf_and_rgb = sdf_and_rgb.reshape(resolution *scale_factor, resolution * scale_factor, 4).cpu().numpy()\n",
    "sdf = sdf_and_rgb[:,:,0]\n",
    "rgb = sdf_and_rgb[:,:,1:]\n",
    "\n",
    "rendered_image = np.ones([resolution,resolution,3])\n",
    "# rendered_image = np.ones([resolution * scale_factor, resolution * scale_factor,3])\n",
    "rendered_image[sdf < threshold] = rgb[sdf < threshold]\n",
    "\n",
    "### to show the cube\n",
    "# cube_mask = min_step_all.reshape(resolution, resolution).cpu().numpy() == 0\n",
    "# rendered_image[cube_mask] = np.zeros(3)\n",
    "\n",
    "renedered_image_upscaled = cv2.resize(rendered_image, (250,250))\n",
    "input_im_downscaled = cv2.resize(input_im, (100,100))\n",
    "        \n",
    "\n",
    "pos_along_ray = pos_along_ray.reshape(resolution, resolution, 3).permute(2,0,1).unsqueeze(0)\n",
    "pos_along_ray = torch.nn.functional.interpolate(pos_along_ray, scale_factor = scale_factor, mode='bilinear')\n",
    "pos_along_ray = pos_along_ray.squeeze().permute(1,2,0).reshape(resolution * resolution * scale_factor *scale_factor, 3)\n",
    "\n",
    "sdf_and_rgb = decoder(code_prediction.unsqueeze(0).repeat([resolution * resolution * scale_factor * scale_factor,1]), pos_along_ray)[:,:].detach()\n",
    "car_mask = sdf_and_rgb[:,0] < threshold\n",
    "\n",
    "# sdf_and_rgb = sdf_and_rgb.reshape(resolution, resolution, 4).cpu().numpy()\n",
    "sdf_and_rgb = sdf_and_rgb.reshape(resolution *scale_factor, resolution * scale_factor, 4).cpu().numpy()\n",
    "sdf = sdf_and_rgb[:,:,0]\n",
    "rgb = sdf_and_rgb[:,:,1:]\n",
    "\n",
    "# rendered_image = np.ones([resolution,resolution,3])\n",
    "rendered_image = np.ones([resolution * scale_factor, resolution * scale_factor,3])\n",
    "rendered_image[sdf < threshold] = rgb[sdf < threshold]\n",
    "\n",
    "\n",
    "# save = rendered_image\n",
    "\n",
    "# ray_casting_vector = ray_casting_vector.reshape(resolution, resolution, 3).permute(2,0,1).unsqueeze(0)\n",
    "# ray_casting_vector = torch.nn.functional.interpolate(ray_casting_vector, scale_factor = scale_factor, mode='bilinear')\n",
    "# ray_casting_vector = ray_casting_vector.squeeze().permute(1,2,0).reshape(resolution * resolution * scale_factor *scale_factor, 3)\n",
    "\n",
    "# # iterate\n",
    "# for iter in range(5):\n",
    "\n",
    "#     sdf_and_rgb = decoder(code_prediction.unsqueeze(0).repeat([resolution * resolution * scale_factor * scale_factor,1]), pos_along_ray)[:,:].detach()\n",
    "\n",
    "#     sdf = sdf_and_rgb[:,0]\n",
    "#     sdf *= 1 # unit of 1 from the decoder's prediction correspond to a unit of 1 in the object coordinate\n",
    "#     sdf = sdf.clamp(None, max_displacement)\n",
    "#     step = sdf\n",
    "\n",
    "#     pos_along_ray = pos_along_ray + step.unsqueeze(1).mul(ray_casting_vector)\n",
    "\n",
    "# sdf_and_rgb = decoder(code_prediction.unsqueeze(0).repeat([resolution * resolution * scale_factor * scale_factor,1]), pos_along_ray)[:,:].detach()\n",
    "# car_mask = sdf_and_rgb[:,0] < threshold\n",
    "\n",
    "# # sdf_and_rgb = sdf_and_rgb.reshape(resolution, resolution, 4).cpu().numpy()\n",
    "# sdf_and_rgb = sdf_and_rgb.reshape(resolution *scale_factor, resolution * scale_factor, 4).cpu().numpy()\n",
    "# sdf = sdf_and_rgb[:,:,0]\n",
    "# rgb = sdf_and_rgb[:,:,1:]\n",
    "\n",
    "# # rendered_image = np.ones([resolution,resolution,3])\n",
    "# rendered_image = np.ones([resolution * scale_factor, resolution * scale_factor,3])\n",
    "# rendered_image[sdf < threshold] = rgb[sdf < threshold]\n",
    "\n",
    "\n",
    "print(f\"time for rendering: {time.time() - time_start}\")\n",
    "time_start = time.time()\n",
    "\n",
    "fig, axs = plt.subplots(2,2, figsize=(10,10))\n",
    "axs[0,0].imshow(rendered_image)\n",
    "\n",
    "# axs[0,1].imshow(renedered_image_upscaled)\n",
    "axs[0,1].imshow(input_im_downscaled)\n",
    "axs[1,1].imshow(input_im)\n",
    "axs[1,0].imshow(rendered_image)\n",
    "\n",
    "# axs[0,1].imshow(save)\n",
    "# input_im_downscaled[rendered_image == 1] = 255\n",
    "# axs[1,1].imshow(abs(rendered_image * 255 - input_im_downscaled).mean(2)/255)\n",
    "\n",
    "print(f\"Average number of iteration needed: {count_iter.sum() / count_iter.count_nonzero()}\")\n",
    "print(f\"Maximum number of iteration needed: {count_iter.max()}\")\n",
    "print(f\"pixel mask of the car: {car_mask.count_nonzero()}\")\n",
    "\n",
    "\n",
    "\n"
   ]
  },
  {
   "cell_type": "code",
   "execution_count": 366,
   "metadata": {},
   "outputs": [],
   "source": [
    "\n",
    "min = np.zeros([resolution * resolution, 3])\n",
    "max = np.ones([resolution * resolution, 3]) * 1e38\n",
    "\n",
    "min[ray_casting_vector > 0] = (BOUND_MIN_CUBE - pos_init_ray[ray_casting_vector > 0]) / ray_casting_vector[ray_casting_vector > 0]\n",
    "min[ray_casting_vector < 0] = (BOUND_MAX_CUBE - pos_init_ray[ray_casting_vector < 0]) / ray_casting_vector[ray_casting_vector < 0]\n",
    "\n",
    "max[ray_casting_vector > 0] = (BOUND_MAX_CUBE - pos_init_ray[ray_casting_vector > 0]) / ray_casting_vector[ray_casting_vector > 0]\n",
    "max[ray_casting_vector < 0] = (BOUND_MIN_CUBE - pos_init_ray[ray_casting_vector < 0]) / ray_casting_vector[ray_casting_vector < 0]\n",
    "\n",
    "max[(ray_casting_vector == 0) * ~((pos_init_ray > BOUND_MIN_CUBE) * (pos_init_ray < BOUND_MAX_CUBE))] = 0\n",
    "\n",
    "min = min.max(1)\n",
    "max = max.min(1)\n",
    "\n",
    "max[min >= max] = 0\n",
    "min[min >= max] = 0"
   ]
  },
  {
   "cell_type": "code",
   "execution_count": 367,
   "metadata": {},
   "outputs": [],
   "source": [
    "max[min >= max] = 0\n",
    "min[min >= max] = 0"
   ]
  },
  {
   "cell_type": "code",
   "execution_count": 352,
   "metadata": {},
   "outputs": [
    {
     "data": {
      "text/plain": [
       "array([False,  True])"
      ]
     },
     "execution_count": 352,
     "metadata": {},
     "output_type": "execute_result"
    }
   ],
   "source": [
    "np.unique(min_step < max_step)"
   ]
  },
  {
   "cell_type": "code",
   "execution_count": 370,
   "metadata": {},
   "outputs": [
    {
     "data": {
      "text/plain": [
       "(1, 2500)"
      ]
     },
     "execution_count": 370,
     "metadata": {},
     "output_type": "execute_result"
    }
   ],
   "source": [
    "np.array(np.where(max == save2)).shape"
   ]
  },
  {
   "cell_type": "code",
   "execution_count": 313,
   "metadata": {},
   "outputs": [],
   "source": [
    "save = min"
   ]
  },
  {
   "cell_type": "code",
   "execution_count": 304,
   "metadata": {},
   "outputs": [
    {
     "data": {
      "text/plain": [
       "(6250,)"
      ]
     },
     "execution_count": 304,
     "metadata": {},
     "output_type": "execute_result"
    }
   ],
   "source": [
    "max[ray_marching_vector < 0].shape"
   ]
  },
  {
   "cell_type": "code",
   "execution_count": 322,
   "metadata": {},
   "outputs": [
    {
     "data": {
      "text/plain": [
       "1.012888730091416"
      ]
     },
     "execution_count": 322,
     "metadata": {},
     "output_type": "execute_result"
    }
   ],
   "source": [
    "max_step"
   ]
  },
  {
   "cell_type": "code",
   "execution_count": 321,
   "metadata": {},
   "outputs": [
    {
     "data": {
      "text/plain": [
       "array([1.01288873])"
      ]
     },
     "execution_count": 321,
     "metadata": {},
     "output_type": "execute_result"
    }
   ],
   "source": [
    "np.unique(max_step)"
   ]
  },
  {
   "cell_type": "code",
   "execution_count": 273,
   "metadata": {},
   "outputs": [
    {
     "data": {
      "text/plain": [
       "(1, 547)"
      ]
     },
     "execution_count": 273,
     "metadata": {},
     "output_type": "execute_result"
    }
   ],
   "source": [
    "np.array(np.where(test1 == min_step_all)).shape"
   ]
  },
  {
   "cell_type": "code",
   "execution_count": 285,
   "metadata": {},
   "outputs": [
    {
     "data": {
      "text/plain": [
       "(2500, 3)"
      ]
     },
     "execution_count": 285,
     "metadata": {},
     "output_type": "execute_result"
    }
   ],
   "source": [
    "(ray_marching_vector < 0).shape"
   ]
  },
  {
   "cell_type": "code",
   "execution_count": 40,
   "metadata": {},
   "outputs": [
    {
     "data": {
      "text/plain": [
       "tensor(547, device='cuda:0')"
      ]
     },
     "execution_count": 40,
     "metadata": {},
     "output_type": "execute_result"
    }
   ],
   "source": [
    "cube_mask.count_nonzero()"
   ]
  },
  {
   "cell_type": "code",
   "execution_count": 33,
   "metadata": {},
   "outputs": [],
   "source": [
    "test = pos_along_ray[:2500]"
   ]
  },
  {
   "cell_type": "code",
   "execution_count": 41,
   "metadata": {},
   "outputs": [
    {
     "data": {
      "text/plain": [
       "<matplotlib.image.AxesImage at 0x7fec705a9b80>"
      ]
     },
     "execution_count": 41,
     "metadata": {},
     "output_type": "execute_result"
    },
    {
     "data": {
      "image/png": "[encoded data removed]",
      "text/plain": [
       "<Figure size 432x288 with 1 Axes>"
      ]
     },
     "metadata": {
      "needs_background": "light"
     },
     "output_type": "display_data"
    }
   ],
   "source": [
    "plt.imshow(min_step_all.reshape(resolution, resolution).cpu().numpy())"
   ]
  },
  {
   "cell_type": "code",
   "execution_count": 86,
   "metadata": {},
   "outputs": [
    {
     "data": {
      "text/plain": [
       "<matplotlib.image.AxesImage at 0x7f4b8fee7310>"
      ]
     },
     "execution_count": 86,
     "metadata": {},
     "output_type": "execute_result"
    },
    {
     "data": {
      "image/png": "[encoded data removed]",
      "text/plain": [
       "<Figure size 432x288 with 1 Axes>"
      ]
     },
     "metadata": {
      "needs_background": "light"
     },
     "output_type": "display_data"
    }
   ],
   "source": [
    "plt.imshow(abs(rendered_image * 255 - input_im_downscaled).mean(2)/255)"
   ]
  },
  {
   "cell_type": "code",
   "execution_count": 88,
   "metadata": {},
   "outputs": [
    {
     "data": {
      "text/plain": [
       "<matplotlib.image.AxesImage at 0x7f4b8ff11c10>"
      ]
     },
     "execution_count": 88,
     "metadata": {},
     "output_type": "execute_result"
    },
    {
     "data": {
      "image/png": "[encoded data removed]",
      "text/plain": [
       "<Figure size 432x288 with 1 Axes>"
      ]
     },
     "metadata": {
      "needs_background": "light"
     },
     "output_type": "display_data"
    }
   ],
   "source": [
    "plt.imshow(abs(rendered_image * 255 - input_im_downscaled).mean(2)/255)"
   ]
  },
  {
   "cell_type": "code",
   "execution_count": 83,
   "metadata": {},
   "outputs": [
    {
     "data": {
      "text/plain": [
       "<matplotlib.image.AxesImage at 0x7f4bb0d1d040>"
      ]
     },
     "execution_count": 83,
     "metadata": {},
     "output_type": "execute_result"
    },
    {
     "data": {
      "image/png": "[encoded data removed]",
      "text/plain": [
       "<Figure size 432x288 with 1 Axes>"
      ]
     },
     "metadata": {
      "needs_background": "light"
     },
     "output_type": "display_data"
    }
   ],
   "source": [
    "plt.imshow(abs(rendered_image * 255 - input_im_downscaled).mean(2)/255)"
   ]
  },
  {
   "cell_type": "code",
   "execution_count": 74,
   "metadata": {},
   "outputs": [
    {
     "data": {
      "text/plain": [
       "<matplotlib.image.AxesImage at 0x7f4b90059fd0>"
      ]
     },
     "execution_count": 74,
     "metadata": {},
     "output_type": "execute_result"
    },
    {
     "data": {
      "image/png": "[encoded data removed]",
      "text/plain": [
       "<Figure size 432x288 with 1 Axes>"
      ]
     },
     "metadata": {
      "needs_background": "light"
     },
     "output_type": "display_data"
    }
   ],
   "source": [
    "plt.imshow(input_im_downscaled)"
   ]
  },
  {
   "cell_type": "code",
   "execution_count": 136,
   "metadata": {},
   "outputs": [
    {
     "data": {
      "text/plain": [
       "torch.Size([3, 50, 50])"
      ]
     },
     "execution_count": 136,
     "metadata": {},
     "output_type": "execute_result"
    }
   ],
   "source": [
    "test = test.permute(2,0,1)\n",
    "test.shape"
   ]
  },
  {
   "cell_type": "code",
   "execution_count": 61,
   "metadata": {},
   "outputs": [
    {
     "data": {
      "text/plain": [
       "tensor(28.8213, device='cuda:0')"
      ]
     },
     "execution_count": 61,
     "metadata": {},
     "output_type": "execute_result"
    }
   ],
   "source": [
    "(sdf[sdf > threshold] * ratio).max()"
   ]
  },
  {
   "cell_type": "code",
   "execution_count": 53,
   "metadata": {},
   "outputs": [
    {
     "data": {
      "text/plain": [
       "tensor(1., device='cuda:0')"
      ]
     },
     "execution_count": 53,
     "metadata": {},
     "output_type": "execute_result"
    }
   ],
   "source": [
    "ratio.min()"
   ]
  },
  {
   "cell_type": "code",
   "execution_count": 8,
   "metadata": {},
   "outputs": [
    {
     "name": "stdout",
     "output_type": "stream",
     "text": [
      "time for initialization: 0.20121240615844727\n",
      "time for rendering: 0.41420578956604004\n",
      "pixel mask of the car: 240\n"
     ]
    },
    {
     "data": {
      "image/png": "[encoded data removed]",
      "text/plain": [
       "<Figure size 1440x720 with 2 Axes>"
      ]
     },
     "metadata": {
      "needs_background": "light"
     },
     "output_type": "display_data"
    }
   ],
   "source": [
    "\n",
    "model_id = 3\n",
    "image_id = 4\n",
    "\n",
    "threshold = 1/64\n",
    "max_displacement = 0.1\n",
    "max_iter = 35\n",
    "resolution = 50\n",
    "\n",
    "\n",
    "# load decoder\n",
    "decoder = torch.load(DECODER_PATH).cuda()\n",
    "decoder.eval()\n",
    "\n",
    "\n",
    "model_hash = list_hash[model_id]\n",
    "code_prediction = latent_code[model_id,:].squeeze()\n",
    "code_gt = dict_hash_2_code[model_hash].cuda()\n",
    "\n",
    "frame = annotations[model_hash][image_id]['frame'].copy()\n",
    "matrix_object_to_world = annotations[model_hash][image_id]['matrix_object_to_world'].copy()\n",
    "matrix_world_to_camera = pickle.load(open(MATRIX_PATH, 'rb'))\n",
    "\n",
    "matrix_world_to_camera = matrix_world_to_camera[[1,0,2,3]]\n",
    "matrix_object_to_world = matrix_object_to_world[:,[1,0,2,3]][[2,1,0,3]]\n",
    "\n",
    "matrix_camera_to_world = np.linalg.inv(matrix_world_to_camera)\n",
    "matrix_world_to_object = np.linalg.inv(matrix_object_to_world)\n",
    "\n",
    "matrix_camera_to_object = matrix_world_to_object.dot(matrix_camera_to_world)\n",
    "\n",
    "image_pth = IMAGES_PATH + model_hash + '/' + str(image_id) + '.png'\n",
    "input_im = imageio.imread(image_pth)\n",
    "\n",
    "cam_pos_cam_coord = np.array([0,0,0,1])\n",
    "cam_pos_obj_coord = matrix_camera_to_object.dot(cam_pos_cam_coord)\n",
    "\n",
    "pos_init_ray = np.ones([resolution * resolution, 3])\n",
    "pos_init_ray[:,0] *= cam_pos_obj_coord[0]\n",
    "pos_init_ray[:,1] *= cam_pos_obj_coord[1]\n",
    "pos_init_ray[:,2] *= cam_pos_obj_coord[2]\n",
    "\n",
    "ray_casting_vector = np.empty([resolution * resolution, 3])\n",
    "\n",
    "time_start = time.time()\n",
    "\n",
    "min_step_all = torch.zeros([resolution * resolution]).cuda()\n",
    "max_step_all = torch.zeros([resolution * resolution]).cuda()\n",
    "\n",
    "for i in range(resolution):\n",
    "    for j in range(resolution):\n",
    "\n",
    "        # select pixel to render\n",
    "        pixel_pos = np.array([i/(resolution-1),j/(resolution-1)])\n",
    "\n",
    "        # convert pixel in world coordinate\n",
    "        pixel_pos_cam_coord = convert_view_to_camera_coordinates(frame, pixel_pos)\n",
    "        pixel_pos_obj_coord = matrix_camera_to_object.dot(pixel_pos_cam_coord)\n",
    "\n",
    "        direction = ((pixel_pos_obj_coord - cam_pos_obj_coord)/np.linalg.norm(pixel_pos_obj_coord - cam_pos_obj_coord))[:3]\n",
    "        ray_casting_vector[i * resolution + j,:] = direction\n",
    "\n",
    "        bound_max_cube = 0.5\n",
    "        bound_min_cube = -0.5\n",
    "\n",
    "        min_step = 0\n",
    "        max_step = 1e38\n",
    "\n",
    "        for xyz in range(3):\n",
    "            if direction[xyz] > 0:\n",
    "                max = (bound_max_cube - pos_init_ray[i * resolution + j, xyz]) / direction[xyz]\n",
    "                min = (bound_min_cube - pos_init_ray[i * resolution + j, xyz]) / direction[xyz]\n",
    "\n",
    "            elif direction[xyz] < 0:\n",
    "                min = (bound_max_cube - pos_init_ray[i * resolution + j, xyz]) / direction[xyz]\n",
    "                max = (bound_min_cube - pos_init_ray[i * resolution + j, xyz]) / direction[xyz]\n",
    "            else:\n",
    "                if pos_init_ray[i * resolution + j, xyz] < bound_min_cube or pos_init_ray[i * resolution + j, xyz] > bound_max_cube:\n",
    "                    continue\n",
    "\n",
    "            if min > min_step:\n",
    "                min_step = min\n",
    "            if max < max_step:\n",
    "                max_step = max\n",
    "\n",
    "        if min_step < max_step:\n",
    "            # pos_init_ray[i * resolution + j, :] = pos_init_ray[i * resolution + j, :] + min_step * direction\n",
    "            min_step_all[i * resolution + j] = min_step\n",
    "            max_step_all[i * resolution + j] = max_step\n",
    "            \n",
    "\n",
    "\n",
    "ray_casting_vector = torch.tensor(ray_casting_vector,dtype=torch.float).cuda()\n",
    "pos_init_ray = torch.tensor(pos_init_ray,dtype=torch.float).cuda()\n",
    "\n",
    "\n",
    "min_pos = pos_init_ray + min_step_all.unsqueeze(1).mul(ray_casting_vector)\n",
    "max_pos = pos_init_ray + max_step_all.unsqueeze(1).mul(ray_casting_vector)\n",
    "\n",
    "\n",
    "print(f\"time for initialization: {time.time() - time_start}\")\n",
    "time_start = time.time()\n",
    "\n",
    "nb_interp = 21\n",
    "idx = np.array([0,0.2,0.26,0.29,0.32,0.35,0.38,0.41,0.44,0.47,0.5,0.53,0.56,0.59,0.62,0.65,0.68,0.71,0.74,0.8, 1])\n",
    "grid = torch.empty(nb_interp, resolution * resolution, 3).cuda()\n",
    "\n",
    "for i in range(nb_interp):\n",
    "    # grid[i] = torch.lerp(min_pos, max_pos, i / (nb_interp - 1))\n",
    "    grid[i] = torch.lerp(min_pos, max_pos, idx[i])\n",
    "\n",
    "grid_input = grid.reshape(nb_interp * resolution* resolution, 3)\n",
    "\n",
    "sdf_and_rgb = decoder(code_prediction.unsqueeze(0).repeat([resolution * resolution * nb_interp,1]), grid_input).detach()\n",
    "sdf = sdf_and_rgb[:,0].reshape(nb_interp, resolution * resolution)\n",
    "\n",
    "\n",
    "intersection_idx = torch.zeros(resolution * resolution, dtype=torch.long).cuda()\n",
    "for i in range(nb_interp):\n",
    "    intersection_idx[(sdf[i] < 0) * (intersection_idx == 0)] = i\n",
    "\n",
    "for i in range(resolution * resolution):\n",
    "    if intersection_idx[i] != 0:\n",
    "        min_pos[i] = grid[intersection_idx[i] - 1, i, :]\n",
    "        max_pos[i] = grid[intersection_idx[i], i, :]\n",
    "\n",
    "for i in range(nb_interp):\n",
    "    grid[i] = torch.lerp(min_pos, max_pos, i / (nb_interp - 1))\n",
    "    # grid[i] = torch.lerp(min_pos, max_pos, idx[i])\n",
    "\n",
    "grid_input = grid.reshape(nb_interp * resolution* resolution, 3)\n",
    "\n",
    "\n",
    "sdf_and_rgb = decoder(code_prediction.unsqueeze(0).repeat([resolution * resolution * nb_interp,1]), grid_input).detach()\n",
    "\n",
    "\n",
    "sdf = sdf_and_rgb[:,0].reshape(nb_interp, resolution * resolution)\n",
    "\n",
    "\n",
    "nb_interp = 20\n",
    "intersection_idx = torch.zeros(resolution * resolution, dtype=torch.long).cuda()\n",
    "for i in range(nb_interp):\n",
    "    intersection_idx[(sdf[i] < 0) * (intersection_idx == 0)] = i\n",
    "\n",
    "sdf_and_rgb_prediction = torch.empty([resolution * resolution, 4], dtype=torch.float).cuda()\n",
    "for i in range(resolution * resolution):\n",
    "    sdf_and_rgb_prediction[i] = sdf_and_rgb[i + resolution * resolution * (intersection_idx[i] - 1)]\n",
    "\n",
    "\n",
    "car_mask = sdf_and_rgb_prediction[:,0] < threshold\n",
    "sdf_and_rgb_prediction = sdf_and_rgb_prediction.reshape(resolution, resolution, 4).cpu().numpy()\n",
    "sdf = sdf_and_rgb_prediction[:,:,0]\n",
    "rgb = sdf_and_rgb_prediction[:,:,1:]\n",
    "\n",
    "rendered_image = np.ones([resolution,resolution,3])\n",
    "rendered_image[sdf < threshold] = rgb[sdf < threshold]\n",
    "\n",
    "### show cube\n",
    "# cube_mask = min_step_all.reshape(resolution, resolution).cpu().numpy() == 0\n",
    "# rendered_image[cube_mask] = np.zeros(3)\n",
    "\n",
    "\n",
    "print(f\"time for rendering: {time.time() - time_start}\")\n",
    "time_start = time.time()\n",
    "        \n",
    "\n",
    "\n",
    "image_upscaled2 = cv2.resize(rendered_image, (100,100))\n",
    "# rendered_image_ray_marching = cv2.resize(rendered_image_ray_marching, (100,100))\n",
    "\n",
    "fig, axs = plt.subplots(1,2, figsize=(20,10))\n",
    "axs[0].imshow(rendered_image)\n",
    "# axs[1].imshow(image_upscaled2)\n",
    "# axs[2].imshow(rendered_image_ray_marching)\n",
    "axs[1].imshow(input_im)\n",
    "\n",
    "\n",
    "print(f\"pixel mask of the car: {car_mask.count_nonzero()}\")\n",
    "\n"
   ]
  },
  {
   "cell_type": "code",
   "execution_count": 100,
   "metadata": {},
   "outputs": [
    {
     "data": {
      "text/plain": [
       "<matplotlib.image.AxesImage at 0x7ff1754d1bb0>"
      ]
     },
     "execution_count": 100,
     "metadata": {},
     "output_type": "execute_result"
    },
    {
     "data": {
      "image/png": "[encoded data removed]",
      "text/plain": [
       "<Figure size 432x288 with 1 Axes>"
      ]
     },
     "metadata": {
      "needs_background": "light"
     },
     "output_type": "display_data"
    }
   ],
   "source": [
    "test = intersection_idx.reshape(resolution, resolution).cpu().numpy()\n",
    "plt.imshow(test)"
   ]
  },
  {
   "cell_type": "code",
   "execution_count": 89,
   "metadata": {},
   "outputs": [
    {
     "data": {
      "text/plain": [
       "(50, 50, 4)"
      ]
     },
     "execution_count": 89,
     "metadata": {},
     "output_type": "execute_result"
    }
   ],
   "source": [
    "sdf_and_rgb_prediction.shape"
   ]
  },
  {
   "cell_type": "code",
   "execution_count": 355,
   "metadata": {},
   "outputs": [
    {
     "data": {
      "text/plain": [
       "torch.Size([52500, 3])"
      ]
     },
     "execution_count": 355,
     "metadata": {},
     "output_type": "execute_result"
    }
   ],
   "source": [
    "grid_input.shape"
   ]
  },
  {
   "cell_type": "code",
   "execution_count": 460,
   "metadata": {},
   "outputs": [
    {
     "name": "stdout",
     "output_type": "stream",
     "text": [
      "time for decoding: 0.10049271583557129\n"
     ]
    }
   ],
   "source": [
    "time_start = time.time()\n",
    "for i in range(nb_interp):\n",
    "    sdf_and_rgb = decoder(code_prediction.unsqueeze(0).repeat([resolution * resolution * 1,1]), grid_input[ : resolution * resolution]).detach()\n",
    "\n",
    "sdf_and_rgb[0,0].cpu()\n",
    "print(f\"time for decoding: {time.time() - time_start}\")"
   ]
  },
  {
   "cell_type": "code",
   "execution_count": 448,
   "metadata": {},
   "outputs": [
    {
     "name": "stdout",
     "output_type": "stream",
     "text": [
      "time for decoding: 0.09473514556884766\n"
     ]
    }
   ],
   "source": [
    "time_start = time.time()\n",
    "sdf_and_rgb = decoder(code_prediction.unsqueeze(0).repeat([resolution * resolution * nb_interp,1]), grid_input).detach()\n",
    "\n",
    "sdf_and_rgb[0,0].cpu()\n",
    "print(f\"time for decoding: {time.time() - time_start}\")"
   ]
  },
  {
   "cell_type": "code",
   "execution_count": 359,
   "metadata": {},
   "outputs": [
    {
     "data": {
      "text/plain": [
       "torch.Size([2500, 3])"
      ]
     },
     "execution_count": 359,
     "metadata": {},
     "output_type": "execute_result"
    }
   ],
   "source": [
    "grid_input[:resolution * resolution].shape"
   ]
  },
  {
   "cell_type": "code",
   "execution_count": null,
   "metadata": {},
   "outputs": [],
   "source": []
  },
  {
   "cell_type": "code",
   "execution_count": null,
   "metadata": {},
   "outputs": [],
   "source": []
  },
  {
   "cell_type": "code",
   "execution_count": null,
   "metadata": {},
   "outputs": [],
   "source": []
  },
  {
   "cell_type": "code",
   "execution_count": null,
   "metadata": {},
   "outputs": [],
   "source": []
  }
 ],
 "metadata": {
  "interpreter": {
   "hash": "291e51bb05a4c9218d99f39795406b37ff6c7246ecca2b9929e7834afc0867c4"
  },
  "kernelspec": {
   "display_name": "Python 3.9.2 64-bit ('venv': venv)",
   "language": "python",
   "name": "python3"
  },
  "language_info": {
   "codemirror_mode": {
    "name": "ipython",
    "version": 3
   },
   "file_extension": ".py",
   "mimetype": "text/x-python",
   "name": "python",
   "nbconvert_exporter": "python",
   "pygments_lexer": "ipython3",
   "version": "3.9.2"
  },
  "orig_nbformat": 4
 },
 "nbformat": 4,
 "nbformat_minor": 2
}
