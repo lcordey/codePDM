{
 "cells": [
  {
   "cell_type": "code",
   "execution_count": null,
   "source": [
    "import numpy as np\n",
    "import matplotlib.pyplot as plt\n",
    "import pickle\n",
    "\n",
    "LOGS_PATH = \"../../image2sdf/logs/decoder/log.pkl\"\n"
   ],
   "outputs": [],
   "metadata": {}
  },
  {
   "cell_type": "code",
   "execution_count": null,
   "source": [
    "logs = pickle.load(open(LOGS_PATH, 'rb'))"
   ],
   "outputs": [],
   "metadata": {}
  },
  {
   "cell_type": "code",
   "execution_count": null,
   "source": [
    "logs.keys()"
   ],
   "outputs": [],
   "metadata": {}
  },
  {
   "cell_type": "code",
   "execution_count": null,
   "source": [
    "len(logs[\"sdf\"])"
   ],
   "outputs": [],
   "metadata": {}
  },
  {
   "cell_type": "code",
   "execution_count": null,
   "source": [
    "avrg_sdf = []\n",
    "for i in range(len(logs[\"sdf\"]) - 246):\n",
    "    if i%1000 == 0:\n",
    "        print(i)\n",
    "    avrg_sdf.append(np.mean(logs[\"sdf\"][i : i + 246]))"
   ],
   "outputs": [],
   "metadata": {}
  },
  {
   "cell_type": "code",
   "execution_count": null,
   "source": [
    "print(np.mean(logs[\"sdf\"][-246:]))"
   ],
   "outputs": [],
   "metadata": {}
  },
  {
   "cell_type": "code",
   "execution_count": null,
   "source": [],
   "outputs": [],
   "metadata": {}
  },
  {
   "cell_type": "code",
   "execution_count": 3,
   "source": [
    "import h5py\n",
    "import torch\n",
    "import time\n",
    "import numpy as np"
   ],
   "outputs": [],
   "metadata": {}
  },
  {
   "cell_type": "code",
   "execution_count": 16,
   "source": [
    "\n",
    "time_start = time.time()\n",
    "\n",
    "sdf_dir_pth = \"../../image2sdf/sdf/\"\n",
    "\n",
    "num_samples_per_model = 64 * 64 * 64\n",
    "\n",
    "model_hash = \"1a0bc9ab92c915167ae33d942430658c\"\n",
    "\n",
    "print(f\"time passed: {time.time()-time_start}\")\n",
    "\n",
    "h5f = h5py.File(sdf_dir_pth + model_hash + '.h5', 'r')\n",
    "h5f_tensor = torch.tensor(h5f[\"tensor\"][()], dtype = torch.float)\n",
    "\n",
    "print(f\"time passed: {time.time()-time_start}\")\n",
    "\n",
    "num_total_point_in_model = (int)(h5f_tensor.numel()/4)\n",
    "\n",
    "print(f\"time passed: {time.time()-time_start}\")\n",
    "\n",
    "\n",
    "sdf_gt = np.reshape(h5f_tensor[:,:,:,0], [num_total_point_in_model])\n",
    "rgb_gt = np.reshape(h5f_tensor[:,:,:,1:], [num_total_point_in_model , 3])\n",
    "\n",
    "print(f\"time passed: {time.time()-time_start}\")\n",
    "\n",
    "\n",
    "xyz_idx = np.random.randint(num_total_point_in_model, size = num_samples_per_model)\n",
    "\n",
    "sdf_gt = sdf_gt[xyz_idx]\n",
    "rgb_gt = rgb_gt[xyz_idx]\n",
    "\n",
    "print(f\"time passed: {time.time()-time_start}\")\n",
    "\n",
    "\n",
    "sdf_gt = sdf_gt / 64\n",
    "rgb_gt = rgb_gt / 255\n",
    "\n",
    "print(f\"time passed: {time.time()-time_start}\")\n"
   ],
   "outputs": [
    {
     "output_type": "stream",
     "name": "stdout",
     "text": [
      "time passed: 0.00014519691467285156\n"
     ]
    }
   ],
   "metadata": {}
  },
  {
   "cell_type": "code",
   "execution_count": null,
   "source": [
    "xyz[xyz_idx[0]]"
   ],
   "outputs": [],
   "metadata": {}
  },
  {
   "cell_type": "code",
   "execution_count": null,
   "source": [
    "code_mu.unsqueeze(0).repeat_interleave(2,dim=0).shape"
   ],
   "outputs": [],
   "metadata": {}
  },
  {
   "cell_type": "code",
   "execution_count": null,
   "source": [
    "sdf_gt.reshape(20000)"
   ],
   "outputs": [],
   "metadata": {}
  },
  {
   "cell_type": "code",
   "execution_count": null,
   "source": [
    "sdf_gt.reshape(10000)"
   ],
   "outputs": [],
   "metadata": {}
  },
  {
   "cell_type": "code",
   "execution_count": null,
   "source": [
    "IPython.embed()"
   ],
   "outputs": [],
   "metadata": {}
  },
  {
   "cell_type": "code",
   "execution_count": null,
   "source": [
    "\n",
    "loss_sdf, loss_rgb, loss_kl = compute_loss(pred_sdf, pred_rgb, sdf_gt.reshape(10000), rgb_gt.reshape(10000,3), threshold_precision, param)"
   ],
   "outputs": [],
   "metadata": {}
  },
  {
   "cell_type": "code",
   "execution_count": null,
   "source": [
    "a = torch.tensor([[1,2,2],[3,4,3]])"
   ],
   "outputs": [],
   "metadata": {}
  },
  {
   "cell_type": "code",
   "execution_count": null,
   "source": [
    "a[0]"
   ],
   "outputs": [],
   "metadata": {}
  },
  {
   "cell_type": "code",
   "execution_count": null,
   "source": [
    "rgb_gt[:2,100:102]"
   ],
   "outputs": [],
   "metadata": {}
  },
  {
   "cell_type": "code",
   "execution_count": null,
   "source": [
    "rgb_gt[:2,100:102].reshape(4,3)"
   ],
   "outputs": [],
   "metadata": {}
  },
  {
   "cell_type": "code",
   "execution_count": null,
   "source": [],
   "outputs": [],
   "metadata": {}
  }
 ],
 "metadata": {
  "orig_nbformat": 4,
  "language_info": {
   "name": "python",
   "version": "3.9.2",
   "mimetype": "text/x-python",
   "codemirror_mode": {
    "name": "ipython",
    "version": 3
   },
   "pygments_lexer": "ipython3",
   "nbconvert_exporter": "python",
   "file_extension": ".py"
  },
  "kernelspec": {
   "name": "python3",
   "display_name": "Python 3.9.2 64-bit"
  },
  "interpreter": {
   "hash": "e7370f93d1d0cde622a1f8e1c04877d8463912d04d973331ad4851f04de6915a"
  }
 },
 "nbformat": 4,
 "nbformat_minor": 2
}