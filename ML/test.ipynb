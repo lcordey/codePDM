{
 "cells": [
  {
   "cell_type": "code",
   "execution_count": 212,
   "source": [
    "import h5py\n",
    "import math\n",
    "import numpy as np\n",
    "import torch\n",
    "import importlib\n",
    "\n",
    "from decoderSDF_rgb import DecoderSDF\n",
    "from marching_cubes_rgb import *\n",
    "\n",
    "###### parameter #####\n",
    "\n",
    "TESTING = True\n",
    "\n",
    "MODEL_PATH = \"models_pth/decoderSDF.pth\"\n",
    "LATENT_VECS_PATH = \"models_pth/latent_vecs.pth\"\n",
    "\n",
    "MODEL_PATH_TEST = \"models_pth/decoderSDF_TEST.pth\"\n",
    "LATENT_VECS_PATH_TEST = \"models_pth/latent_vecs_TEST.pth\"\n",
    "\n",
    "input_file = \"../../data_processing/sdf/sdf_2_cars.h5\"\n",
    "# input_file = \"../../data_processing/sdf/sdf_1.h5\"\n",
    "\n",
    "latent_size = 16\n",
    "num_epoch = 1000\n",
    "batch_size = 10000\n",
    "\n",
    "eta_decoder = 5e-3\n",
    "eta_latent_space = 1e-2\n",
    "\n",
    "# load file\n",
    "h5f = h5py.File(input_file, 'r')\n",
    "\n",
    "sdf_data = torch.tensor(h5f[\"tensor\"][()], dtype = torch.float16)\n",
    "# sdf_data = sdf_data.type(torch.float16)\n",
    "\n",
    "# sdf_data = sdf_data[:2,:,:,:,:]\n",
    "\n",
    "resolution = sdf_data.shape[1]\n",
    "num_samples_per_scene = resolution * resolution * resolution\n",
    "num_scenes = len(sdf_data)\n",
    "\n",
    "assert(len(sdf_data.shape) == 5), \"sdf data shoud have dimension: num_scenes x X_dim x Y_dim x Z_dim\"\n",
    "assert(sdf_data.shape[1] == sdf_data.shape[2] and sdf_data.shape[2] == sdf_data.shape[3]),\"resolution should be the same in every direction\"\n",
    "\n",
    "#fill tensors\n",
    "idx = torch.arange(num_scenes).type(torch.LongTensor).cuda()\n",
    "xyz = torch.empty(num_samples_per_scene, 3,  dtype=torch.float16).cuda()\n",
    "# xyz = torch.empty(num_samples_per_scene, 3,  dtype=torch.float32).cuda()\n",
    "\n",
    "for x in range(resolution):\n",
    "    for y in range(resolution):\n",
    "        for z in range(resolution):\n",
    "            xyz[x * resolution * resolution + y * resolution + z, :] = torch.Tensor([x/(resolution-1)-0.5,y/(resolution-1)-0.5,z/(resolution-1)-0.5])\n",
    "\n",
    "\n",
    "print(torch.cuda.memory_allocated(0)/torch.cuda.memory_reserved(0))"
   ],
   "outputs": [
    {
     "output_type": "stream",
     "name": "stdout",
     "text": [
      "0.19893152573529413\n"
     ]
    }
   ],
   "metadata": {}
  },
  {
   "cell_type": "code",
   "execution_count": 262,
   "source": [
    "xyz = torch.empty(num_samples_per_scene, 3,  dtype=torch.float16).cuda()\n",
    "# xyz = torch.empty(num_samples_per_scene, 3,  dtype=torch.float32).cuda()\n",
    "\n",
    "for x in range(resolution):\n",
    "    for y in range(resolution):\n",
    "        for z in range(resolution):\n",
    "            xyz[x * resolution * resolution + y * resolution + z, :] = torch.Tensor([x/(resolution-1)-0.5,y/(resolution-1)-0.5,z/(resolution-1)-0.5])\n",
    "\n"
   ],
   "outputs": [],
   "metadata": {}
  },
  {
   "cell_type": "code",
   "execution_count": 284,
   "source": [
    "np.reshape(np.linspace(-0.5, 0.5, 11).repeat(11), [11,11])"
   ],
   "outputs": [
    {
     "output_type": "execute_result",
     "data": {
      "text/plain": [
       "array([[-0.5, -0.5, -0.5, -0.5, -0.5, -0.5, -0.5, -0.5, -0.5, -0.5, -0.5],\n",
       "       [-0.4, -0.4, -0.4, -0.4, -0.4, -0.4, -0.4, -0.4, -0.4, -0.4, -0.4],\n",
       "       [-0.3, -0.3, -0.3, -0.3, -0.3, -0.3, -0.3, -0.3, -0.3, -0.3, -0.3],\n",
       "       [-0.2, -0.2, -0.2, -0.2, -0.2, -0.2, -0.2, -0.2, -0.2, -0.2, -0.2],\n",
       "       [-0.1, -0.1, -0.1, -0.1, -0.1, -0.1, -0.1, -0.1, -0.1, -0.1, -0.1],\n",
       "       [ 0. ,  0. ,  0. ,  0. ,  0. ,  0. ,  0. ,  0. ,  0. ,  0. ,  0. ],\n",
       "       [ 0.1,  0.1,  0.1,  0.1,  0.1,  0.1,  0.1,  0.1,  0.1,  0.1,  0.1],\n",
       "       [ 0.2,  0.2,  0.2,  0.2,  0.2,  0.2,  0.2,  0.2,  0.2,  0.2,  0.2],\n",
       "       [ 0.3,  0.3,  0.3,  0.3,  0.3,  0.3,  0.3,  0.3,  0.3,  0.3,  0.3],\n",
       "       [ 0.4,  0.4,  0.4,  0.4,  0.4,  0.4,  0.4,  0.4,  0.4,  0.4,  0.4],\n",
       "       [ 0.5,  0.5,  0.5,  0.5,  0.5,  0.5,  0.5,  0.5,  0.5,  0.5,  0.5]])"
      ]
     },
     "metadata": {},
     "execution_count": 284
    }
   ],
   "metadata": {}
  },
  {
   "cell_type": "code",
   "execution_count": 266,
   "source": [
    "xyz_test = \n",
    "\n"
   ],
   "outputs": [
    {
     "output_type": "stream",
     "name": "stderr",
     "text": [
      "/tmp/ipykernel_8957/3212046719.py:5: VisibleDeprecationWarning: Creating an ndarray from ragged nested sequences (which is a list-or-tuple of lists-or-tuples-or ndarrays with different lengths or shapes) is deprecated. If you meant to do this, you must specify 'dtype=object' when creating the ndarray\n",
      "  xyz_test[x,y,:,:] = torch.tensor(np.array([x,y,np.linspace(-0.5, 0.5, resolution)]))\n"
     ]
    },
    {
     "output_type": "error",
     "ename": "TypeError",
     "evalue": "can't convert np.ndarray of type numpy.object_. The only supported types are: float64, float32, float16, complex64, complex128, int64, int32, int16, int8, uint8, and bool.",
     "traceback": [
      "\u001b[0;31m---------------------------------------------------------------------------\u001b[0m",
      "\u001b[0;31mTypeError\u001b[0m                                 Traceback (most recent call last)",
      "\u001b[0;32m/tmp/ipykernel_8957/3212046719.py\u001b[0m in \u001b[0;36m<module>\u001b[0;34m\u001b[0m\n\u001b[1;32m      3\u001b[0m \u001b[0;32mfor\u001b[0m \u001b[0mx\u001b[0m \u001b[0;32min\u001b[0m \u001b[0mrange\u001b[0m\u001b[0;34m(\u001b[0m\u001b[0mresolution\u001b[0m\u001b[0;34m)\u001b[0m\u001b[0;34m:\u001b[0m\u001b[0;34m\u001b[0m\u001b[0;34m\u001b[0m\u001b[0m\n\u001b[1;32m      4\u001b[0m     \u001b[0;32mfor\u001b[0m \u001b[0my\u001b[0m \u001b[0;32min\u001b[0m \u001b[0mrange\u001b[0m\u001b[0;34m(\u001b[0m\u001b[0mresolution\u001b[0m\u001b[0;34m)\u001b[0m\u001b[0;34m:\u001b[0m\u001b[0;34m\u001b[0m\u001b[0;34m\u001b[0m\u001b[0m\n\u001b[0;32m----> 5\u001b[0;31m         \u001b[0mxyz_test\u001b[0m\u001b[0;34m[\u001b[0m\u001b[0mx\u001b[0m\u001b[0;34m,\u001b[0m\u001b[0my\u001b[0m\u001b[0;34m,\u001b[0m\u001b[0;34m:\u001b[0m\u001b[0;34m,\u001b[0m\u001b[0;34m:\u001b[0m\u001b[0;34m]\u001b[0m \u001b[0;34m=\u001b[0m \u001b[0mtorch\u001b[0m\u001b[0;34m.\u001b[0m\u001b[0mtensor\u001b[0m\u001b[0;34m(\u001b[0m\u001b[0mnp\u001b[0m\u001b[0;34m.\u001b[0m\u001b[0marray\u001b[0m\u001b[0;34m(\u001b[0m\u001b[0;34m[\u001b[0m\u001b[0mx\u001b[0m\u001b[0;34m,\u001b[0m\u001b[0my\u001b[0m\u001b[0;34m,\u001b[0m\u001b[0mnp\u001b[0m\u001b[0;34m.\u001b[0m\u001b[0mlinspace\u001b[0m\u001b[0;34m(\u001b[0m\u001b[0;34m-\u001b[0m\u001b[0;36m0.5\u001b[0m\u001b[0;34m,\u001b[0m \u001b[0;36m0.5\u001b[0m\u001b[0;34m,\u001b[0m \u001b[0mresolution\u001b[0m\u001b[0;34m)\u001b[0m\u001b[0;34m]\u001b[0m\u001b[0;34m)\u001b[0m\u001b[0;34m)\u001b[0m\u001b[0;34m\u001b[0m\u001b[0;34m\u001b[0m\u001b[0m\n\u001b[0m\u001b[1;32m      6\u001b[0m         \u001b[0;31m# for z in range(resolution):\u001b[0m\u001b[0;34m\u001b[0m\u001b[0;34m\u001b[0m\u001b[0;34m\u001b[0m\u001b[0m\n\u001b[1;32m      7\u001b[0m             \u001b[0;31m# xyz_test[x,y,z,:] = torch.tensor([x,y,z])\u001b[0m\u001b[0;34m\u001b[0m\u001b[0;34m\u001b[0m\u001b[0;34m\u001b[0m\u001b[0m\n",
      "\u001b[0;31mTypeError\u001b[0m: can't convert np.ndarray of type numpy.object_. The only supported types are: float64, float32, float16, complex64, complex128, int64, int32, int16, int8, uint8, and bool."
     ]
    }
   ],
   "metadata": {}
  },
  {
   "cell_type": "code",
   "execution_count": 170,
   "source": [
    "# initialize random latent code for every shape\n",
    "lat_vecs = torch.nn.Embedding(num_scenes, latent_size, dtype=torch.float16).cuda()\n",
    "# lat_vecs = torch.nn.Embedding(num_scenes, latent_size, dtype=torch.float32).cuda()\n",
    "torch.nn.init.normal_(\n",
    "    lat_vecs.weight.data,\n",
    "    0.0,\n",
    "    1.0 / math.sqrt(latent_size),\n",
    ")\n",
    "\n",
    "# decoder\n",
    "import decoderSDF_rgb\n",
    "importlib.reload(decoderSDF_rgb)\n",
    "\n",
    "decoder = decoderSDF_rgb.DecoderSDF(latent_size).cuda()\n",
    "\n",
    "\n",
    "eta_decoder = 1e-4\n",
    "eta_latent_space = 2e-3\n",
    "\n",
    "#optimizer\n",
    "optimizer = torch.optim.Adam(\n",
    "    [\n",
    "        {\n",
    "            \"params\": decoder.parameters(),\n",
    "            \"lr\": eta_decoder,\n",
    "            \"eps\": 1e-6,\n",
    "        },\n",
    "        {\n",
    "            \"params\": lat_vecs.parameters(),\n",
    "            \"lr\": eta_latent_space,\n",
    "            \"eps\": 1e-6,\n",
    "        },\n",
    "    ]\n",
    ")\n",
    "\n",
    "scheduler = torch.optim.lr_scheduler.ExponentialLR(optimizer, gamma=0.9999)\n",
    "\n",
    "log_loss = []\n",
    "log_loss_sdf = []\n",
    "log_loss_rgb = []\n",
    "log_loss_reg = []\n",
    "\n",
    "print(torch.cuda.memory_allocated(0)/torch.cuda.memory_reserved(0))\n"
   ],
   "outputs": [
    {
     "output_type": "stream",
     "name": "stdout",
     "text": [
      "0.19264746914390757\n"
     ]
    }
   ],
   "metadata": {}
  },
  {
   "cell_type": "code",
   "execution_count": 233,
   "source": [
    "num_samples_per_scene"
   ],
   "outputs": [
    {
     "output_type": "execute_result",
     "data": {
      "text/plain": [
       "262144"
      ]
     },
     "metadata": {},
     "execution_count": 233
    }
   ],
   "metadata": {}
  },
  {
   "cell_type": "code",
   "execution_count": 171,
   "source": [
    "\n",
    "####################### Training loop ##########################\n",
    "\n",
    "loss = torch.nn.MSELoss\n",
    "# loss = torch.nn.L1Loss\n",
    "\n",
    "num_epoch = 300\n",
    "batch_size = 10000\n",
    "\n",
    "decoder.train()\n",
    "decoder.half()\n",
    "\n",
    "for epoch in range(num_epoch):\n",
    "    optimizer.zero_grad()\n",
    "\n",
    "    #get random scene and samples\n",
    "    batch_sample_idx = np.random.randint(num_samples_per_scene, size = batch_size)\n",
    "    batch_scenes_idx = np.random.randint(num_scenes, size = batch_size)\n",
    "\n",
    "    sdf_pred = decoder(lat_vecs(idx[batch_scenes_idx]), xyz[batch_sample_idx])\n",
    "\n",
    "    # assign weight of 0 for easy samples that are well trained\n",
    "    weight_sdf = ~((sdf_pred[:,0] > threshold_precision).squeeze() * (sdf_gt[batch_scenes_idx * num_samples_per_scene + batch_sample_idx] > threshold_precision).squeeze()) \\\n",
    "        * ~((sdf_pred[:,0] < -threshold_precision).squeeze() * (sdf_gt[batch_scenes_idx * num_samples_per_scene + batch_sample_idx] < -threshold_precision).squeeze())\n",
    "\n",
    "    \n",
    "    #L1 loss, only for hard samples\n",
    "    loss_sdf = loss(reduction='none')(sdf_pred[:,0].squeeze(), sdf_gt[batch_scenes_idx * num_samples_per_scene + batch_sample_idx])\n",
    "    loss_sdf = (loss_sdf * weight_sdf).mean() * weight_sdf.numel()/weight_sdf.count_nonzero()\n",
    "\n",
    "    # loss rgb\n",
    "    # lambda_rgb = min(1/10, max(0, (epoch-1000)/50000))\n",
    "    lambda_rgb = 1/10\n",
    "    # lambda_rgb = 0\n",
    "    \n",
    "    rgb_gt_normalized = (rgb_gt[batch_scenes_idx * num_samples_per_scene + batch_sample_idx,:].type(torch.float16)/255)\n",
    "    # rgb_gt_normalized = (rgb_gt[batch_scenes_idx * num_samples_per_scene + batch_sample_idx,:]/255).type(torch.float32)\n",
    "    loss_rgb = loss(reduction='none')(sdf_pred[:,1:], rgb_gt_normalized)\n",
    "    loss_rgb = ((loss_rgb[:,0] * weight_sdf) + (loss_rgb[:,1] * weight_sdf) + (loss_rgb[:,2] * weight_sdf)).mean() * weight_sdf.numel()/weight_sdf.count_nonzero() * lambda_rgb\n",
    "    \n",
    "\n",
    "    #regularization loss\n",
    "    lambda_reg_std = 1/1000\n",
    "    lambda_reg_mean = 1/1000\n",
    "    loss_reg_std = (lambda_reg_std * abs(1.0 / math.sqrt(latent_size) - (lat_vecs.weight).std()))\n",
    "    loss_reg_mean = (lambda_reg_mean * abs((lat_vecs.weight).mean()))\n",
    "    loss_reg = loss_reg_mean + loss_reg_std\n",
    "\n",
    "\n",
    "    loss_pred = loss_sdf + loss_rgb + loss_reg_std + loss_reg_mean\n",
    "    # loss_pred = loss_sdf + loss_reg_std + loss_reg_mean\n",
    "\n",
    "    #log\n",
    "    log_loss.append(loss_pred.detach().cpu())\n",
    "    log_loss_sdf.append(loss_sdf.detach().cpu())\n",
    "    log_loss_rgb.append(loss_rgb.detach().cpu())\n",
    "    log_loss_reg.append(loss_reg.detach().cpu())\n",
    "\n",
    "\n",
    "    # loss_pred = loss_pred.type(torch.float16)\n",
    "    #update weights\n",
    "    loss_pred.backward()\n",
    "\n",
    "    # print(decoder.linearStart.weight)\n",
    "    # print(decoder.linearStart.weight.grad)\n",
    "    optimizer.step()\n",
    "    # print(decoder.linearStart.weight)\n",
    "    scheduler.step()\n",
    "\n",
    "    print(\"After {} epoch,  loss sdf: {:.5f}, loss rgb: {:.5f}, loss reg: {:.5f}, min/max sdf: {:.2f}/{:.2f}, min/max rgb: {:.2f}/{:.2f}, lr: {:f}, lat_vec mean/std: {:.2f}/{:.2f}\".format(\\\n",
    "        epoch, torch.Tensor(log_loss_sdf[-10:]).mean(), torch.Tensor(log_loss_rgb[-10:]).mean(), torch.Tensor(log_loss_reg[-10:]).mean(), sdf_pred[:,0].min() * resolution, \\\n",
    "        sdf_pred[:,0].max() * resolution, sdf_pred[:,1:].min() * 255, sdf_pred[:,1:].max() * 255, optimizer.param_groups[0]['lr'], (lat_vecs.weight).std(), (lat_vecs.weight).mean()))\n",
    "\n",
    "\n"
   ],
   "outputs": [
    {
     "output_type": "stream",
     "name": "stdout",
     "text": [
      "After 0 epoch,  loss sdf: 0.36670, loss rgb: 0.04974, loss reg: 0.00008, min/max sdf: -91.31/104.31, min/max rgb: 0.63/254.00, lr: 0.000100, lat_vec mean/std: 0.22/-0.05\n",
      "After 1 epoch,  loss sdf: 1.03101, loss rgb: 0.08606, loss reg: 0.00008, min/max sdf: -281.00/287.00, min/max rgb: 0.00/255.00, lr: 0.000100, lat_vec mean/std: 0.22/-0.05\n",
      "After 2 epoch,  loss sdf: 1.69059, loss rgb: 0.09550, loss reg: 0.00008, min/max sdf: -256.50/568.00, min/max rgb: 0.00/255.00, lr: 0.000100, lat_vec mean/std: 0.22/-0.05\n",
      "After 3 epoch,  loss sdf: 1.63904, loss rgb: 0.10101, loss reg: 0.00008, min/max sdf: -139.25/542.50, min/max rgb: 0.00/255.00, lr: 0.000100, lat_vec mean/std: 0.22/-0.05\n",
      "After 4 epoch,  loss sdf: 1.36387, loss rgb: 0.10403, loss reg: 0.00008, min/max sdf: -95.12/297.75, min/max rgb: 0.00/255.00, lr: 0.000100, lat_vec mean/std: 0.22/-0.05\n",
      "After 5 epoch,  loss sdf: 1.17834, loss rgb: 0.10722, loss reg: 0.00008, min/max sdf: -47.84/220.75, min/max rgb: 0.00/255.00, lr: 0.000100, lat_vec mean/std: 0.22/-0.05\n",
      "After 6 epoch,  loss sdf: 1.02501, loss rgb: 0.10885, loss reg: 0.00008, min/max sdf: -25.47/229.12, min/max rgb: 0.00/255.00, lr: 0.000100, lat_vec mean/std: 0.22/-0.05\n",
      "After 7 epoch,  loss sdf: 0.90467, loss rgb: 0.11014, loss reg: 0.00008, min/max sdf: -37.59/227.12, min/max rgb: 0.00/255.00, lr: 0.000100, lat_vec mean/std: 0.22/-0.05\n",
      "After 8 epoch,  loss sdf: 0.80952, loss rgb: 0.11058, loss reg: 0.00008, min/max sdf: -40.91/234.75, min/max rgb: 0.00/255.00, lr: 0.000100, lat_vec mean/std: 0.22/-0.05\n",
      "After 9 epoch,  loss sdf: 0.73152, loss rgb: 0.11093, loss reg: 0.00008, min/max sdf: -31.59/236.00, min/max rgb: 0.00/255.00, lr: 0.000100, lat_vec mean/std: 0.22/-0.05\n",
      "After 10 epoch,  loss sdf: 0.69730, loss rgb: 0.11755, loss reg: 0.00008, min/max sdf: -23.00/226.75, min/max rgb: 0.00/255.00, lr: 0.000100, lat_vec mean/std: 0.22/-0.05\n",
      "After 11 epoch,  loss sdf: 0.53085, loss rgb: 0.11711, loss reg: 0.00008, min/max sdf: -17.83/220.88, min/max rgb: 0.00/255.00, lr: 0.000100, lat_vec mean/std: 0.22/-0.05\n",
      "After 12 epoch,  loss sdf: 0.23235, loss rgb: 0.11763, loss reg: 0.00008, min/max sdf: -15.04/209.25, min/max rgb: 0.00/255.00, lr: 0.000100, lat_vec mean/std: 0.22/-0.05\n",
      "After 13 epoch,  loss sdf: 0.08551, loss rgb: 0.11804, loss reg: 0.00008, min/max sdf: -18.55/217.88, min/max rgb: 0.00/255.00, lr: 0.000100, lat_vec mean/std: 0.22/-0.05\n",
      "After 14 epoch,  loss sdf: 0.06084, loss rgb: 0.11849, loss reg: 0.00008, min/max sdf: -20.91/218.88, min/max rgb: 0.00/255.00, lr: 0.000100, lat_vec mean/std: 0.22/-0.05\n",
      "After 15 epoch,  loss sdf: 0.03720, loss rgb: 0.11870, loss reg: 0.00008, min/max sdf: -22.72/217.25, min/max rgb: 0.00/255.00, lr: 0.000100, lat_vec mean/std: 0.22/-0.05\n",
      "After 16 epoch,  loss sdf: 0.02812, loss rgb: 0.11920, loss reg: 0.00008, min/max sdf: -23.33/222.00, min/max rgb: 0.00/255.00, lr: 0.000100, lat_vec mean/std: 0.22/-0.05\n",
      "After 17 epoch,  loss sdf: 0.02308, loss rgb: 0.11951, loss reg: 0.00008, min/max sdf: -19.08/222.62, min/max rgb: 0.00/255.00, lr: 0.000100, lat_vec mean/std: 0.22/-0.05\n",
      "After 18 epoch,  loss sdf: 0.01932, loss rgb: 0.11995, loss reg: 0.00008, min/max sdf: -15.23/229.12, min/max rgb: 0.00/255.00, lr: 0.000100, lat_vec mean/std: 0.22/-0.05\n",
      "After 19 epoch,  loss sdf: 0.01725, loss rgb: 0.12047, loss reg: 0.00008, min/max sdf: -13.73/229.25, min/max rgb: 0.00/255.00, lr: 0.000100, lat_vec mean/std: 0.22/-0.05\n",
      "After 20 epoch,  loss sdf: 0.01569, loss rgb: 0.12042, loss reg: 0.00008, min/max sdf: -12.62/228.38, min/max rgb: 0.00/255.00, lr: 0.000100, lat_vec mean/std: 0.22/-0.05\n",
      "After 21 epoch,  loss sdf: 0.01336, loss rgb: 0.12061, loss reg: 0.00008, min/max sdf: -10.85/228.88, min/max rgb: 0.00/255.00, lr: 0.000100, lat_vec mean/std: 0.22/-0.05\n",
      "After 22 epoch,  loss sdf: 0.01171, loss rgb: 0.12039, loss reg: 0.00008, min/max sdf: -12.82/229.62, min/max rgb: 0.00/255.00, lr: 0.000100, lat_vec mean/std: 0.22/-0.05\n",
      "After 23 epoch,  loss sdf: 0.01080, loss rgb: 0.11964, loss reg: 0.00008, min/max sdf: -14.63/229.62, min/max rgb: 0.00/255.00, lr: 0.000100, lat_vec mean/std: 0.22/-0.05\n",
      "After 24 epoch,  loss sdf: 0.00972, loss rgb: 0.11915, loss reg: 0.00008, min/max sdf: -11.24/226.62, min/max rgb: 0.00/255.00, lr: 0.000100, lat_vec mean/std: 0.22/-0.05\n",
      "After 25 epoch,  loss sdf: 0.00874, loss rgb: 0.11826, loss reg: 0.00008, min/max sdf: -11.87/219.38, min/max rgb: 0.00/255.00, lr: 0.000100, lat_vec mean/std: 0.22/-0.05\n",
      "After 26 epoch,  loss sdf: 0.00779, loss rgb: 0.11759, loss reg: 0.00008, min/max sdf: -13.23/229.62, min/max rgb: 0.00/255.00, lr: 0.000100, lat_vec mean/std: 0.22/-0.05\n",
      "After 27 epoch,  loss sdf: 0.00714, loss rgb: 0.11686, loss reg: 0.00008, min/max sdf: -13.15/232.38, min/max rgb: 0.00/255.00, lr: 0.000100, lat_vec mean/std: 0.22/-0.05\n",
      "After 28 epoch,  loss sdf: 0.00662, loss rgb: 0.11680, loss reg: 0.00008, min/max sdf: -14.59/232.88, min/max rgb: 0.00/255.00, lr: 0.000100, lat_vec mean/std: 0.22/-0.05\n",
      "After 29 epoch,  loss sdf: 0.00624, loss rgb: 0.11674, loss reg: 0.00008, min/max sdf: -13.50/236.50, min/max rgb: 0.00/255.00, lr: 0.000100, lat_vec mean/std: 0.22/-0.05\n",
      "After 30 epoch,  loss sdf: 0.00572, loss rgb: 0.11704, loss reg: 0.00008, min/max sdf: -10.62/229.38, min/max rgb: 0.00/255.00, lr: 0.000100, lat_vec mean/std: 0.22/-0.05\n",
      "After 31 epoch,  loss sdf: 0.00527, loss rgb: 0.11679, loss reg: 0.00008, min/max sdf: -10.48/229.50, min/max rgb: 0.00/255.00, lr: 0.000100, lat_vec mean/std: 0.22/-0.05\n",
      "After 32 epoch,  loss sdf: 0.00470, loss rgb: 0.11684, loss reg: 0.00008, min/max sdf: -9.96/227.75, min/max rgb: 0.00/255.00, lr: 0.000100, lat_vec mean/std: 0.22/-0.05\n",
      "After 33 epoch,  loss sdf: 0.00427, loss rgb: 0.11760, loss reg: 0.00008, min/max sdf: -9.35/230.12, min/max rgb: 0.00/255.00, lr: 0.000100, lat_vec mean/std: 0.22/-0.05\n",
      "After 34 epoch,  loss sdf: 0.00404, loss rgb: 0.11783, loss reg: 0.00008, min/max sdf: -12.96/232.25, min/max rgb: 0.00/255.00, lr: 0.000100, lat_vec mean/std: 0.22/-0.05\n",
      "After 35 epoch,  loss sdf: 0.00396, loss rgb: 0.11802, loss reg: 0.00008, min/max sdf: -10.70/228.12, min/max rgb: 0.00/255.00, lr: 0.000100, lat_vec mean/std: 0.22/-0.05\n",
      "After 36 epoch,  loss sdf: 0.00376, loss rgb: 0.11859, loss reg: 0.00008, min/max sdf: -10.96/229.12, min/max rgb: 0.00/255.00, lr: 0.000100, lat_vec mean/std: 0.22/-0.05\n",
      "After 37 epoch,  loss sdf: 0.00345, loss rgb: 0.11934, loss reg: 0.00008, min/max sdf: -7.78/227.12, min/max rgb: 0.00/255.00, lr: 0.000100, lat_vec mean/std: 0.22/-0.05\n",
      "After 38 epoch,  loss sdf: 0.00309, loss rgb: 0.11966, loss reg: 0.00008, min/max sdf: -9.46/234.12, min/max rgb: 0.00/255.00, lr: 0.000100, lat_vec mean/std: 0.22/-0.05\n",
      "After 39 epoch,  loss sdf: 0.00282, loss rgb: 0.12000, loss reg: 0.00008, min/max sdf: -10.06/228.12, min/max rgb: 0.00/255.00, lr: 0.000100, lat_vec mean/std: 0.22/-0.05\n",
      "After 40 epoch,  loss sdf: 0.00270, loss rgb: 0.12004, loss reg: 0.00008, min/max sdf: -9.24/227.25, min/max rgb: 0.00/255.00, lr: 0.000100, lat_vec mean/std: 0.22/-0.05\n",
      "After 41 epoch,  loss sdf: 0.00263, loss rgb: 0.12034, loss reg: 0.00008, min/max sdf: -10.50/225.50, min/max rgb: 0.00/255.00, lr: 0.000100, lat_vec mean/std: 0.22/-0.05\n",
      "After 42 epoch,  loss sdf: 0.00258, loss rgb: 0.12051, loss reg: 0.00008, min/max sdf: -9.88/230.00, min/max rgb: 0.00/255.00, lr: 0.000100, lat_vec mean/std: 0.22/-0.05\n",
      "After 43 epoch,  loss sdf: 0.00253, loss rgb: 0.12007, loss reg: 0.00008, min/max sdf: -9.94/232.38, min/max rgb: 0.00/255.00, lr: 0.000100, lat_vec mean/std: 0.22/-0.05\n",
      "After 44 epoch,  loss sdf: 0.00236, loss rgb: 0.11999, loss reg: 0.00008, min/max sdf: -8.76/231.00, min/max rgb: 0.00/255.00, lr: 0.000100, lat_vec mean/std: 0.22/-0.05\n",
      "After 45 epoch,  loss sdf: 0.00217, loss rgb: 0.11999, loss reg: 0.00008, min/max sdf: -8.87/230.38, min/max rgb: 0.00/255.00, lr: 0.000100, lat_vec mean/std: 0.22/-0.05\n",
      "After 46 epoch,  loss sdf: 0.00206, loss rgb: 0.12001, loss reg: 0.00008, min/max sdf: -9.12/226.38, min/max rgb: 0.00/255.00, lr: 0.000100, lat_vec mean/std: 0.22/-0.05\n",
      "After 47 epoch,  loss sdf: 0.00200, loss rgb: 0.11942, loss reg: 0.00008, min/max sdf: -7.95/230.88, min/max rgb: 0.00/255.00, lr: 0.000100, lat_vec mean/std: 0.22/-0.05\n",
      "After 48 epoch,  loss sdf: 0.00197, loss rgb: 0.11918, loss reg: 0.00008, min/max sdf: -8.62/229.62, min/max rgb: 0.00/255.00, lr: 0.000100, lat_vec mean/std: 0.22/-0.05\n",
      "After 49 epoch,  loss sdf: 0.00190, loss rgb: 0.11853, loss reg: 0.00008, min/max sdf: -7.80/229.12, min/max rgb: 0.00/255.00, lr: 0.000100, lat_vec mean/std: 0.22/-0.05\n",
      "After 50 epoch,  loss sdf: 0.00178, loss rgb: 0.11860, loss reg: 0.00008, min/max sdf: -8.14/230.88, min/max rgb: 0.00/255.00, lr: 0.000099, lat_vec mean/std: 0.22/-0.05\n",
      "After 51 epoch,  loss sdf: 0.00172, loss rgb: 0.11892, loss reg: 0.00008, min/max sdf: -6.50/227.75, min/max rgb: 0.00/255.00, lr: 0.000099, lat_vec mean/std: 0.22/-0.05\n",
      "After 52 epoch,  loss sdf: 0.00163, loss rgb: 0.11877, loss reg: 0.00008, min/max sdf: -7.43/227.38, min/max rgb: 0.00/255.00, lr: 0.000099, lat_vec mean/std: 0.22/-0.05\n",
      "After 53 epoch,  loss sdf: 0.00156, loss rgb: 0.11926, loss reg: 0.00008, min/max sdf: -6.91/235.50, min/max rgb: 0.00/255.00, lr: 0.000099, lat_vec mean/std: 0.22/-0.05\n",
      "After 54 epoch,  loss sdf: 0.00151, loss rgb: 0.11971, loss reg: 0.00008, min/max sdf: -7.65/227.25, min/max rgb: 0.00/255.00, lr: 0.000099, lat_vec mean/std: 0.22/-0.05\n",
      "After 55 epoch,  loss sdf: 0.00147, loss rgb: 0.11990, loss reg: 0.00008, min/max sdf: -8.73/233.25, min/max rgb: 0.00/255.00, lr: 0.000099, lat_vec mean/std: 0.22/-0.05\n",
      "After 56 epoch,  loss sdf: 0.00143, loss rgb: 0.11976, loss reg: 0.00008, min/max sdf: -8.45/232.00, min/max rgb: 0.00/255.00, lr: 0.000099, lat_vec mean/std: 0.22/-0.05\n",
      "After 57 epoch,  loss sdf: 0.00138, loss rgb: 0.11963, loss reg: 0.00008, min/max sdf: -9.35/232.25, min/max rgb: 0.00/255.00, lr: 0.000099, lat_vec mean/std: 0.22/-0.05\n",
      "After 58 epoch,  loss sdf: 0.00133, loss rgb: 0.11993, loss reg: 0.00008, min/max sdf: -8.32/231.38, min/max rgb: 0.00/255.00, lr: 0.000099, lat_vec mean/std: 0.22/-0.05\n",
      "After 59 epoch,  loss sdf: 0.00129, loss rgb: 0.12018, loss reg: 0.00008, min/max sdf: -7.65/228.50, min/max rgb: 0.00/255.00, lr: 0.000099, lat_vec mean/std: 0.22/-0.05\n",
      "After 60 epoch,  loss sdf: 0.00127, loss rgb: 0.11999, loss reg: 0.00008, min/max sdf: -7.64/234.50, min/max rgb: 0.00/255.00, lr: 0.000099, lat_vec mean/std: 0.22/-0.05\n",
      "After 61 epoch,  loss sdf: 0.00122, loss rgb: 0.11953, loss reg: 0.00008, min/max sdf: -7.75/228.75, min/max rgb: 0.00/255.00, lr: 0.000099, lat_vec mean/std: 0.22/-0.05\n",
      "After 62 epoch,  loss sdf: 0.00122, loss rgb: 0.11953, loss reg: 0.00008, min/max sdf: -7.82/227.00, min/max rgb: 0.00/255.00, lr: 0.000099, lat_vec mean/std: 0.22/-0.05\n",
      "After 63 epoch,  loss sdf: 0.00121, loss rgb: 0.11907, loss reg: 0.00008, min/max sdf: -7.22/227.75, min/max rgb: 0.00/255.00, lr: 0.000099, lat_vec mean/std: 0.22/-0.05\n",
      "After 64 epoch,  loss sdf: 0.00119, loss rgb: 0.11854, loss reg: 0.00008, min/max sdf: -7.43/229.50, min/max rgb: 0.00/255.00, lr: 0.000099, lat_vec mean/std: 0.22/-0.05\n",
      "After 65 epoch,  loss sdf: 0.00118, loss rgb: 0.11846, loss reg: 0.00008, min/max sdf: -6.74/230.38, min/max rgb: 0.00/255.00, lr: 0.000099, lat_vec mean/std: 0.22/-0.05\n",
      "After 66 epoch,  loss sdf: 0.00115, loss rgb: 0.11787, loss reg: 0.00008, min/max sdf: -7.34/233.62, min/max rgb: 0.00/255.00, lr: 0.000099, lat_vec mean/std: 0.22/-0.05\n",
      "After 67 epoch,  loss sdf: 0.00114, loss rgb: 0.11810, loss reg: 0.00008, min/max sdf: -6.39/230.50, min/max rgb: 0.00/255.00, lr: 0.000099, lat_vec mean/std: 0.22/-0.05\n",
      "After 68 epoch,  loss sdf: 0.00112, loss rgb: 0.11778, loss reg: 0.00008, min/max sdf: -6.85/229.12, min/max rgb: 0.00/255.00, lr: 0.000099, lat_vec mean/std: 0.22/-0.05\n",
      "After 69 epoch,  loss sdf: 0.00108, loss rgb: 0.11801, loss reg: 0.00008, min/max sdf: -6.37/229.75, min/max rgb: 0.00/255.00, lr: 0.000099, lat_vec mean/std: 0.22/-0.05\n",
      "After 70 epoch,  loss sdf: 0.00106, loss rgb: 0.11830, loss reg: 0.00008, min/max sdf: -6.98/230.50, min/max rgb: 0.00/255.00, lr: 0.000099, lat_vec mean/std: 0.22/-0.05\n",
      "After 71 epoch,  loss sdf: 0.00105, loss rgb: 0.11814, loss reg: 0.00008, min/max sdf: -7.41/228.88, min/max rgb: 0.00/255.00, lr: 0.000099, lat_vec mean/std: 0.22/-0.05\n",
      "After 72 epoch,  loss sdf: 0.00102, loss rgb: 0.11821, loss reg: 0.00008, min/max sdf: -7.59/230.50, min/max rgb: 0.00/255.00, lr: 0.000099, lat_vec mean/std: 0.22/-0.05\n",
      "After 73 epoch,  loss sdf: 0.00100, loss rgb: 0.11807, loss reg: 0.00008, min/max sdf: -6.78/235.75, min/max rgb: 0.00/255.00, lr: 0.000099, lat_vec mean/std: 0.22/-0.05\n",
      "After 74 epoch,  loss sdf: 0.00096, loss rgb: 0.11834, loss reg: 0.00008, min/max sdf: -6.96/231.12, min/max rgb: 0.00/255.00, lr: 0.000099, lat_vec mean/std: 0.22/-0.05\n",
      "After 75 epoch,  loss sdf: 0.00093, loss rgb: 0.11821, loss reg: 0.00008, min/max sdf: -6.66/228.50, min/max rgb: 0.00/255.00, lr: 0.000099, lat_vec mean/std: 0.22/-0.05\n",
      "After 76 epoch,  loss sdf: 0.00091, loss rgb: 0.11870, loss reg: 0.00008, min/max sdf: -6.07/224.00, min/max rgb: 0.00/255.00, lr: 0.000099, lat_vec mean/std: 0.22/-0.05\n",
      "After 77 epoch,  loss sdf: 0.00089, loss rgb: 0.11912, loss reg: 0.00008, min/max sdf: -6.02/232.38, min/max rgb: 0.00/255.00, lr: 0.000099, lat_vec mean/std: 0.22/-0.05\n",
      "After 78 epoch,  loss sdf: 0.00089, loss rgb: 0.11921, loss reg: 0.00008, min/max sdf: -6.86/229.62, min/max rgb: 0.00/255.00, lr: 0.000099, lat_vec mean/std: 0.22/-0.05\n",
      "After 79 epoch,  loss sdf: 0.00089, loss rgb: 0.11900, loss reg: 0.00008, min/max sdf: -6.48/234.38, min/max rgb: 0.00/255.00, lr: 0.000099, lat_vec mean/std: 0.22/-0.05\n",
      "After 80 epoch,  loss sdf: 0.00088, loss rgb: 0.11904, loss reg: 0.00008, min/max sdf: -7.68/232.50, min/max rgb: 0.00/255.00, lr: 0.000099, lat_vec mean/std: 0.22/-0.05\n",
      "After 81 epoch,  loss sdf: 0.00086, loss rgb: 0.11885, loss reg: 0.00008, min/max sdf: -6.63/226.62, min/max rgb: 0.00/255.00, lr: 0.000099, lat_vec mean/std: 0.22/-0.05\n",
      "After 82 epoch,  loss sdf: 0.00084, loss rgb: 0.11858, loss reg: 0.00008, min/max sdf: -6.00/232.00, min/max rgb: 0.00/255.00, lr: 0.000099, lat_vec mean/std: 0.22/-0.05\n",
      "After 83 epoch,  loss sdf: 0.00084, loss rgb: 0.11893, loss reg: 0.00008, min/max sdf: -6.26/232.88, min/max rgb: 0.00/255.00, lr: 0.000099, lat_vec mean/std: 0.22/-0.05\n",
      "After 84 epoch,  loss sdf: 0.00084, loss rgb: 0.11860, loss reg: 0.00008, min/max sdf: -6.55/225.75, min/max rgb: 0.00/255.00, lr: 0.000099, lat_vec mean/std: 0.22/-0.05\n",
      "After 85 epoch,  loss sdf: 0.00083, loss rgb: 0.11885, loss reg: 0.00008, min/max sdf: -7.62/231.25, min/max rgb: 0.00/255.00, lr: 0.000099, lat_vec mean/std: 0.22/-0.05\n",
      "After 86 epoch,  loss sdf: 0.00083, loss rgb: 0.11909, loss reg: 0.00008, min/max sdf: -6.97/236.25, min/max rgb: 0.00/255.00, lr: 0.000099, lat_vec mean/std: 0.22/-0.05\n",
      "After 87 epoch,  loss sdf: 0.00083, loss rgb: 0.11826, loss reg: 0.00008, min/max sdf: -5.95/229.38, min/max rgb: 0.00/255.00, lr: 0.000099, lat_vec mean/std: 0.22/-0.05\n",
      "After 88 epoch,  loss sdf: 0.00081, loss rgb: 0.11844, loss reg: 0.00008, min/max sdf: -6.25/229.62, min/max rgb: 0.00/255.00, lr: 0.000099, lat_vec mean/std: 0.22/-0.05\n",
      "After 89 epoch,  loss sdf: 0.00082, loss rgb: 0.11832, loss reg: 0.00008, min/max sdf: -6.53/223.12, min/max rgb: 0.00/255.00, lr: 0.000099, lat_vec mean/std: 0.22/-0.05\n",
      "After 90 epoch,  loss sdf: 0.00080, loss rgb: 0.11829, loss reg: 0.00008, min/max sdf: -6.41/225.38, min/max rgb: 0.00/255.00, lr: 0.000099, lat_vec mean/std: 0.22/-0.05\n",
      "After 91 epoch,  loss sdf: 0.00080, loss rgb: 0.11863, loss reg: 0.00008, min/max sdf: -7.58/225.12, min/max rgb: 0.00/255.00, lr: 0.000099, lat_vec mean/std: 0.22/-0.05\n",
      "After 92 epoch,  loss sdf: 0.00080, loss rgb: 0.11874, loss reg: 0.00008, min/max sdf: -6.55/229.88, min/max rgb: 0.00/255.00, lr: 0.000099, lat_vec mean/std: 0.22/-0.05\n",
      "After 93 epoch,  loss sdf: 0.00077, loss rgb: 0.11849, loss reg: 0.00008, min/max sdf: -7.52/235.12, min/max rgb: 0.00/255.00, lr: 0.000099, lat_vec mean/std: 0.22/-0.05\n",
      "After 94 epoch,  loss sdf: 0.00078, loss rgb: 0.11895, loss reg: 0.00008, min/max sdf: -6.47/229.00, min/max rgb: 0.00/255.00, lr: 0.000099, lat_vec mean/std: 0.22/-0.05\n",
      "After 95 epoch,  loss sdf: 0.00077, loss rgb: 0.11923, loss reg: 0.00008, min/max sdf: -5.84/230.12, min/max rgb: 0.00/255.00, lr: 0.000099, lat_vec mean/std: 0.22/-0.05\n",
      "After 96 epoch,  loss sdf: 0.00078, loss rgb: 0.11889, loss reg: 0.00008, min/max sdf: -6.10/227.62, min/max rgb: 0.00/255.00, lr: 0.000099, lat_vec mean/std: 0.22/-0.05\n",
      "After 97 epoch,  loss sdf: 0.00076, loss rgb: 0.11949, loss reg: 0.00008, min/max sdf: -6.31/233.88, min/max rgb: 0.00/255.00, lr: 0.000099, lat_vec mean/std: 0.22/-0.05\n",
      "After 98 epoch,  loss sdf: 0.00076, loss rgb: 0.11949, loss reg: 0.00008, min/max sdf: -7.00/232.75, min/max rgb: 0.00/255.00, lr: 0.000099, lat_vec mean/std: 0.22/-0.05\n",
      "After 99 epoch,  loss sdf: 0.00075, loss rgb: 0.11989, loss reg: 0.00008, min/max sdf: -7.58/225.00, min/max rgb: 0.00/255.00, lr: 0.000099, lat_vec mean/std: 0.22/-0.05\n",
      "After 100 epoch,  loss sdf: 0.00075, loss rgb: 0.11982, loss reg: 0.00008, min/max sdf: -7.00/228.75, min/max rgb: 0.00/255.00, lr: 0.000099, lat_vec mean/std: 0.22/-0.05\n",
      "After 101 epoch,  loss sdf: 0.00073, loss rgb: 0.11964, loss reg: 0.00008, min/max sdf: -7.02/230.12, min/max rgb: 0.00/255.00, lr: 0.000099, lat_vec mean/std: 0.22/-0.05\n",
      "After 102 epoch,  loss sdf: 0.00073, loss rgb: 0.11956, loss reg: 0.00008, min/max sdf: -7.26/231.75, min/max rgb: 0.00/255.00, lr: 0.000099, lat_vec mean/std: 0.22/-0.05\n",
      "After 103 epoch,  loss sdf: 0.00072, loss rgb: 0.11932, loss reg: 0.00008, min/max sdf: -6.44/226.25, min/max rgb: 0.00/255.00, lr: 0.000099, lat_vec mean/std: 0.22/-0.05\n",
      "After 104 epoch,  loss sdf: 0.00072, loss rgb: 0.11950, loss reg: 0.00008, min/max sdf: -5.78/227.88, min/max rgb: 0.00/255.00, lr: 0.000099, lat_vec mean/std: 0.22/-0.05\n",
      "After 105 epoch,  loss sdf: 0.00073, loss rgb: 0.11911, loss reg: 0.00008, min/max sdf: -6.34/231.50, min/max rgb: 0.00/255.00, lr: 0.000099, lat_vec mean/std: 0.22/-0.05\n",
      "After 106 epoch,  loss sdf: 0.00071, loss rgb: 0.11894, loss reg: 0.00008, min/max sdf: -5.96/230.88, min/max rgb: 0.00/255.00, lr: 0.000099, lat_vec mean/std: 0.22/-0.05\n",
      "After 107 epoch,  loss sdf: 0.00071, loss rgb: 0.11877, loss reg: 0.00008, min/max sdf: -6.70/229.12, min/max rgb: 0.00/255.00, lr: 0.000099, lat_vec mean/std: 0.22/-0.05\n",
      "After 108 epoch,  loss sdf: 0.00070, loss rgb: 0.11879, loss reg: 0.00008, min/max sdf: -7.06/233.00, min/max rgb: 0.00/255.00, lr: 0.000099, lat_vec mean/std: 0.22/-0.05\n",
      "After 109 epoch,  loss sdf: 0.00070, loss rgb: 0.11891, loss reg: 0.00008, min/max sdf: -7.28/237.88, min/max rgb: 0.00/255.00, lr: 0.000099, lat_vec mean/std: 0.22/-0.05\n",
      "After 110 epoch,  loss sdf: 0.00072, loss rgb: 0.11865, loss reg: 0.00008, min/max sdf: -6.52/225.25, min/max rgb: 0.00/255.00, lr: 0.000099, lat_vec mean/std: 0.22/-0.05\n",
      "After 111 epoch,  loss sdf: 0.00074, loss rgb: 0.11880, loss reg: 0.00008, min/max sdf: -6.05/228.88, min/max rgb: 0.00/255.00, lr: 0.000099, lat_vec mean/std: 0.22/-0.05\n",
      "After 112 epoch,  loss sdf: 0.00073, loss rgb: 0.11924, loss reg: 0.00008, min/max sdf: -6.48/232.00, min/max rgb: 0.00/255.00, lr: 0.000099, lat_vec mean/std: 0.22/-0.05\n",
      "After 113 epoch,  loss sdf: 0.00074, loss rgb: 0.11938, loss reg: 0.00008, min/max sdf: -6.45/227.38, min/max rgb: 0.00/255.00, lr: 0.000099, lat_vec mean/std: 0.22/-0.05\n",
      "After 114 epoch,  loss sdf: 0.00073, loss rgb: 0.11921, loss reg: 0.00008, min/max sdf: -6.61/230.50, min/max rgb: 0.00/255.00, lr: 0.000099, lat_vec mean/std: 0.22/-0.05\n",
      "After 115 epoch,  loss sdf: 0.00073, loss rgb: 0.11964, loss reg: 0.00008, min/max sdf: -6.29/231.88, min/max rgb: 0.00/255.00, lr: 0.000099, lat_vec mean/std: 0.22/-0.05\n",
      "After 116 epoch,  loss sdf: 0.00072, loss rgb: 0.12001, loss reg: 0.00008, min/max sdf: -6.87/227.38, min/max rgb: 0.00/255.00, lr: 0.000099, lat_vec mean/std: 0.22/-0.05\n",
      "After 117 epoch,  loss sdf: 0.00072, loss rgb: 0.12017, loss reg: 0.00008, min/max sdf: -6.12/228.00, min/max rgb: 0.00/255.00, lr: 0.000099, lat_vec mean/std: 0.22/-0.05\n",
      "After 118 epoch,  loss sdf: 0.00073, loss rgb: 0.12003, loss reg: 0.00008, min/max sdf: -6.50/231.50, min/max rgb: 0.00/255.00, lr: 0.000099, lat_vec mean/std: 0.22/-0.05\n",
      "After 119 epoch,  loss sdf: 0.00070, loss rgb: 0.11980, loss reg: 0.00008, min/max sdf: -5.66/229.75, min/max rgb: 0.00/255.00, lr: 0.000099, lat_vec mean/std: 0.22/-0.05\n",
      "After 120 epoch,  loss sdf: 0.00068, loss rgb: 0.12001, loss reg: 0.00008, min/max sdf: -5.86/232.62, min/max rgb: 0.00/255.00, lr: 0.000099, lat_vec mean/std: 0.22/-0.05\n",
      "After 121 epoch,  loss sdf: 0.00068, loss rgb: 0.12002, loss reg: 0.00008, min/max sdf: -7.28/229.50, min/max rgb: 0.00/255.00, lr: 0.000099, lat_vec mean/std: 0.22/-0.05\n",
      "After 122 epoch,  loss sdf: 0.00069, loss rgb: 0.11970, loss reg: 0.00008, min/max sdf: -5.83/225.00, min/max rgb: 0.00/255.00, lr: 0.000099, lat_vec mean/std: 0.22/-0.05\n",
      "After 123 epoch,  loss sdf: 0.00070, loss rgb: 0.11959, loss reg: 0.00008, min/max sdf: -6.79/231.88, min/max rgb: 0.00/255.00, lr: 0.000099, lat_vec mean/std: 0.22/-0.05\n",
      "After 124 epoch,  loss sdf: 0.00070, loss rgb: 0.11952, loss reg: 0.00008, min/max sdf: -5.81/233.00, min/max rgb: 0.00/255.00, lr: 0.000099, lat_vec mean/std: 0.22/-0.05\n",
      "After 125 epoch,  loss sdf: 0.00070, loss rgb: 0.11886, loss reg: 0.00008, min/max sdf: -7.70/227.12, min/max rgb: 0.00/255.00, lr: 0.000099, lat_vec mean/std: 0.22/-0.05\n",
      "After 126 epoch,  loss sdf: 0.00071, loss rgb: 0.11879, loss reg: 0.00008, min/max sdf: -7.56/232.50, min/max rgb: 0.00/255.00, lr: 0.000099, lat_vec mean/std: 0.22/-0.05\n",
      "After 127 epoch,  loss sdf: 0.00071, loss rgb: 0.11889, loss reg: 0.00008, min/max sdf: -7.04/233.75, min/max rgb: 0.00/255.00, lr: 0.000099, lat_vec mean/std: 0.22/-0.05\n",
      "After 128 epoch,  loss sdf: 0.00070, loss rgb: 0.11866, loss reg: 0.00008, min/max sdf: -7.16/234.00, min/max rgb: 0.00/255.00, lr: 0.000099, lat_vec mean/std: 0.22/-0.05\n",
      "After 129 epoch,  loss sdf: 0.00071, loss rgb: 0.11860, loss reg: 0.00008, min/max sdf: -7.06/229.88, min/max rgb: 0.00/255.00, lr: 0.000099, lat_vec mean/std: 0.22/-0.05\n",
      "After 130 epoch,  loss sdf: 0.00072, loss rgb: 0.11876, loss reg: 0.00008, min/max sdf: -6.12/232.00, min/max rgb: 0.00/255.00, lr: 0.000099, lat_vec mean/std: 0.22/-0.05\n",
      "After 131 epoch,  loss sdf: 0.00071, loss rgb: 0.11879, loss reg: 0.00008, min/max sdf: -6.45/233.25, min/max rgb: 0.00/255.00, lr: 0.000099, lat_vec mean/std: 0.22/-0.05\n",
      "After 132 epoch,  loss sdf: 0.00070, loss rgb: 0.11871, loss reg: 0.00008, min/max sdf: -6.77/231.50, min/max rgb: 0.00/255.00, lr: 0.000099, lat_vec mean/std: 0.22/-0.05\n",
      "After 133 epoch,  loss sdf: 0.00069, loss rgb: 0.11923, loss reg: 0.00008, min/max sdf: -5.60/229.62, min/max rgb: 0.00/255.00, lr: 0.000099, lat_vec mean/std: 0.22/-0.05\n",
      "After 134 epoch,  loss sdf: 0.00069, loss rgb: 0.11913, loss reg: 0.00008, min/max sdf: -5.11/222.62, min/max rgb: 0.00/255.00, lr: 0.000099, lat_vec mean/std: 0.22/-0.05\n",
      "After 135 epoch,  loss sdf: 0.00068, loss rgb: 0.11948, loss reg: 0.00008, min/max sdf: -6.09/232.12, min/max rgb: 0.00/255.00, lr: 0.000099, lat_vec mean/std: 0.22/-0.05\n",
      "After 136 epoch,  loss sdf: 0.00067, loss rgb: 0.11920, loss reg: 0.00008, min/max sdf: -5.86/229.62, min/max rgb: 0.00/255.00, lr: 0.000099, lat_vec mean/std: 0.22/-0.05\n",
      "After 137 epoch,  loss sdf: 0.00066, loss rgb: 0.11933, loss reg: 0.00008, min/max sdf: -5.16/225.88, min/max rgb: 0.00/255.00, lr: 0.000099, lat_vec mean/std: 0.22/-0.05\n",
      "After 138 epoch,  loss sdf: 0.00068, loss rgb: 0.11913, loss reg: 0.00008, min/max sdf: -6.96/233.38, min/max rgb: 0.00/255.00, lr: 0.000099, lat_vec mean/std: 0.22/-0.05\n",
      "After 139 epoch,  loss sdf: 0.00068, loss rgb: 0.11876, loss reg: 0.00008, min/max sdf: -6.47/229.75, min/max rgb: 0.00/255.00, lr: 0.000099, lat_vec mean/std: 0.22/-0.05\n",
      "After 140 epoch,  loss sdf: 0.00067, loss rgb: 0.11874, loss reg: 0.00008, min/max sdf: -6.45/228.00, min/max rgb: 0.00/255.00, lr: 0.000099, lat_vec mean/std: 0.22/-0.05\n",
      "After 141 epoch,  loss sdf: 0.00066, loss rgb: 0.11879, loss reg: 0.00008, min/max sdf: -6.49/226.88, min/max rgb: 0.00/255.00, lr: 0.000099, lat_vec mean/std: 0.22/-0.05\n",
      "After 142 epoch,  loss sdf: 0.00065, loss rgb: 0.11890, loss reg: 0.00008, min/max sdf: -5.88/230.88, min/max rgb: 0.00/255.00, lr: 0.000099, lat_vec mean/std: 0.22/-0.05\n",
      "After 143 epoch,  loss sdf: 0.00064, loss rgb: 0.11910, loss reg: 0.00008, min/max sdf: -6.66/225.50, min/max rgb: 0.00/255.00, lr: 0.000099, lat_vec mean/std: 0.22/-0.05\n",
      "After 144 epoch,  loss sdf: 0.00063, loss rgb: 0.11917, loss reg: 0.00008, min/max sdf: -5.87/228.50, min/max rgb: 0.00/255.00, lr: 0.000099, lat_vec mean/std: 0.22/-0.05\n",
      "After 145 epoch,  loss sdf: 0.00063, loss rgb: 0.11910, loss reg: 0.00008, min/max sdf: -5.61/229.88, min/max rgb: 0.00/255.00, lr: 0.000099, lat_vec mean/std: 0.22/-0.05\n",
      "After 146 epoch,  loss sdf: 0.00064, loss rgb: 0.11906, loss reg: 0.00008, min/max sdf: -5.57/228.75, min/max rgb: 0.00/255.00, lr: 0.000099, lat_vec mean/std: 0.22/-0.05\n",
      "After 147 epoch,  loss sdf: 0.00064, loss rgb: 0.11860, loss reg: 0.00008, min/max sdf: -5.68/233.75, min/max rgb: 0.00/255.00, lr: 0.000099, lat_vec mean/std: 0.22/-0.05\n",
      "After 148 epoch,  loss sdf: 0.00062, loss rgb: 0.11871, loss reg: 0.00008, min/max sdf: -6.45/223.12, min/max rgb: 0.00/255.00, lr: 0.000099, lat_vec mean/std: 0.22/-0.05\n",
      "After 149 epoch,  loss sdf: 0.00062, loss rgb: 0.11883, loss reg: 0.00008, min/max sdf: -6.83/231.75, min/max rgb: 0.00/255.00, lr: 0.000099, lat_vec mean/std: 0.22/-0.05\n",
      "After 150 epoch,  loss sdf: 0.00062, loss rgb: 0.11852, loss reg: 0.00008, min/max sdf: -6.11/229.00, min/max rgb: 0.00/255.00, lr: 0.000099, lat_vec mean/std: 0.22/-0.05\n",
      "After 151 epoch,  loss sdf: 0.00064, loss rgb: 0.11836, loss reg: 0.00008, min/max sdf: -5.64/231.12, min/max rgb: 0.00/255.00, lr: 0.000098, lat_vec mean/std: 0.22/-0.05\n",
      "After 152 epoch,  loss sdf: 0.00063, loss rgb: 0.11838, loss reg: 0.00008, min/max sdf: -6.64/225.62, min/max rgb: 0.00/255.00, lr: 0.000098, lat_vec mean/std: 0.22/-0.05\n",
      "After 153 epoch,  loss sdf: 0.00062, loss rgb: 0.11807, loss reg: 0.00008, min/max sdf: -6.63/227.50, min/max rgb: 0.00/255.00, lr: 0.000098, lat_vec mean/std: 0.22/-0.05\n",
      "After 154 epoch,  loss sdf: 0.00062, loss rgb: 0.11785, loss reg: 0.00008, min/max sdf: -5.91/224.25, min/max rgb: 0.00/255.00, lr: 0.000098, lat_vec mean/std: 0.22/-0.05\n",
      "After 155 epoch,  loss sdf: 0.00061, loss rgb: 0.11768, loss reg: 0.00008, min/max sdf: -5.94/231.50, min/max rgb: 0.00/255.00, lr: 0.000098, lat_vec mean/std: 0.22/-0.05\n",
      "After 156 epoch,  loss sdf: 0.00060, loss rgb: 0.11761, loss reg: 0.00008, min/max sdf: -6.28/227.62, min/max rgb: 0.00/255.00, lr: 0.000098, lat_vec mean/std: 0.22/-0.05\n",
      "After 157 epoch,  loss sdf: 0.00060, loss rgb: 0.11748, loss reg: 0.00008, min/max sdf: -6.32/229.88, min/max rgb: 0.00/255.00, lr: 0.000098, lat_vec mean/std: 0.22/-0.05\n",
      "After 158 epoch,  loss sdf: 0.00058, loss rgb: 0.11752, loss reg: 0.00008, min/max sdf: -6.84/231.88, min/max rgb: 0.00/255.00, lr: 0.000098, lat_vec mean/std: 0.22/-0.05\n",
      "After 159 epoch,  loss sdf: 0.00058, loss rgb: 0.11799, loss reg: 0.00008, min/max sdf: -4.96/231.75, min/max rgb: 0.00/255.00, lr: 0.000098, lat_vec mean/std: 0.22/-0.05\n",
      "After 160 epoch,  loss sdf: 0.00057, loss rgb: 0.11843, loss reg: 0.00008, min/max sdf: -6.63/228.12, min/max rgb: 0.00/255.00, lr: 0.000098, lat_vec mean/std: 0.22/-0.05\n",
      "After 161 epoch,  loss sdf: 0.00056, loss rgb: 0.11866, loss reg: 0.00008, min/max sdf: -5.51/231.62, min/max rgb: 0.00/255.00, lr: 0.000098, lat_vec mean/std: 0.22/-0.05\n",
      "After 162 epoch,  loss sdf: 0.00057, loss rgb: 0.11882, loss reg: 0.00008, min/max sdf: -6.57/232.88, min/max rgb: 0.00/255.00, lr: 0.000098, lat_vec mean/std: 0.22/-0.05\n",
      "After 163 epoch,  loss sdf: 0.00056, loss rgb: 0.11902, loss reg: 0.00008, min/max sdf: -6.07/227.75, min/max rgb: 0.00/255.00, lr: 0.000098, lat_vec mean/std: 0.22/-0.05\n",
      "After 164 epoch,  loss sdf: 0.00056, loss rgb: 0.11931, loss reg: 0.00008, min/max sdf: -6.16/231.38, min/max rgb: 0.00/255.00, lr: 0.000098, lat_vec mean/std: 0.22/-0.05\n",
      "After 165 epoch,  loss sdf: 0.00056, loss rgb: 0.11964, loss reg: 0.00008, min/max sdf: -6.28/227.50, min/max rgb: 0.00/255.00, lr: 0.000098, lat_vec mean/std: 0.22/-0.05\n",
      "After 166 epoch,  loss sdf: 0.00056, loss rgb: 0.11985, loss reg: 0.00008, min/max sdf: -6.17/227.62, min/max rgb: 0.00/255.00, lr: 0.000098, lat_vec mean/std: 0.22/-0.05\n",
      "After 167 epoch,  loss sdf: 0.00058, loss rgb: 0.12050, loss reg: 0.00008, min/max sdf: -6.35/227.62, min/max rgb: 0.00/255.00, lr: 0.000098, lat_vec mean/std: 0.22/-0.05\n",
      "After 168 epoch,  loss sdf: 0.00058, loss rgb: 0.12043, loss reg: 0.00008, min/max sdf: -6.11/226.75, min/max rgb: 0.00/255.00, lr: 0.000098, lat_vec mean/std: 0.22/-0.05\n",
      "After 169 epoch,  loss sdf: 0.00058, loss rgb: 0.12000, loss reg: 0.00008, min/max sdf: -6.06/224.00, min/max rgb: 0.00/255.00, lr: 0.000098, lat_vec mean/std: 0.22/-0.05\n",
      "After 170 epoch,  loss sdf: 0.00057, loss rgb: 0.11964, loss reg: 0.00008, min/max sdf: -6.16/233.12, min/max rgb: 0.00/255.00, lr: 0.000098, lat_vec mean/std: 0.22/-0.05\n",
      "After 171 epoch,  loss sdf: 0.00058, loss rgb: 0.11948, loss reg: 0.00008, min/max sdf: -5.61/230.88, min/max rgb: 0.00/255.00, lr: 0.000098, lat_vec mean/std: 0.22/-0.05\n",
      "After 172 epoch,  loss sdf: 0.00058, loss rgb: 0.11945, loss reg: 0.00008, min/max sdf: -5.01/232.38, min/max rgb: 0.00/255.00, lr: 0.000098, lat_vec mean/std: 0.22/-0.05\n",
      "After 173 epoch,  loss sdf: 0.00059, loss rgb: 0.11908, loss reg: 0.00008, min/max sdf: -4.93/231.50, min/max rgb: 0.00/255.00, lr: 0.000098, lat_vec mean/std: 0.22/-0.05\n",
      "After 174 epoch,  loss sdf: 0.00058, loss rgb: 0.11881, loss reg: 0.00008, min/max sdf: -6.31/230.75, min/max rgb: 0.00/255.00, lr: 0.000098, lat_vec mean/std: 0.22/-0.05\n",
      "After 175 epoch,  loss sdf: 0.00058, loss rgb: 0.11819, loss reg: 0.00008, min/max sdf: -5.55/225.25, min/max rgb: 0.00/255.00, lr: 0.000098, lat_vec mean/std: 0.22/-0.05\n",
      "After 176 epoch,  loss sdf: 0.00059, loss rgb: 0.11838, loss reg: 0.00008, min/max sdf: -6.11/229.75, min/max rgb: 0.00/255.00, lr: 0.000098, lat_vec mean/std: 0.22/-0.05\n",
      "After 177 epoch,  loss sdf: 0.00057, loss rgb: 0.11804, loss reg: 0.00008, min/max sdf: -5.81/231.88, min/max rgb: 0.00/255.00, lr: 0.000098, lat_vec mean/std: 0.22/-0.05\n",
      "After 178 epoch,  loss sdf: 0.00057, loss rgb: 0.11825, loss reg: 0.00008, min/max sdf: -5.67/230.75, min/max rgb: 0.00/255.00, lr: 0.000098, lat_vec mean/std: 0.22/-0.05\n",
      "After 179 epoch,  loss sdf: 0.00057, loss rgb: 0.11826, loss reg: 0.00008, min/max sdf: -6.13/234.12, min/max rgb: 0.00/255.00, lr: 0.000098, lat_vec mean/std: 0.22/-0.05\n",
      "After 180 epoch,  loss sdf: 0.00057, loss rgb: 0.11841, loss reg: 0.00008, min/max sdf: -5.85/230.88, min/max rgb: 0.00/255.00, lr: 0.000098, lat_vec mean/std: 0.22/-0.05\n",
      "After 181 epoch,  loss sdf: 0.00056, loss rgb: 0.11859, loss reg: 0.00008, min/max sdf: -4.85/232.62, min/max rgb: 0.00/255.00, lr: 0.000098, lat_vec mean/std: 0.22/-0.05\n",
      "After 182 epoch,  loss sdf: 0.00056, loss rgb: 0.11878, loss reg: 0.00008, min/max sdf: -5.39/232.38, min/max rgb: 0.00/255.00, lr: 0.000098, lat_vec mean/std: 0.22/-0.05\n",
      "After 183 epoch,  loss sdf: 0.00056, loss rgb: 0.11882, loss reg: 0.00008, min/max sdf: -4.45/231.50, min/max rgb: 0.00/255.00, lr: 0.000098, lat_vec mean/std: 0.22/-0.05\n",
      "After 184 epoch,  loss sdf: 0.00058, loss rgb: 0.11887, loss reg: 0.00008, min/max sdf: -5.20/227.50, min/max rgb: 0.00/255.00, lr: 0.000098, lat_vec mean/std: 0.22/-0.05\n",
      "After 185 epoch,  loss sdf: 0.00061, loss rgb: 0.11944, loss reg: 0.00008, min/max sdf: -4.74/229.00, min/max rgb: 0.00/255.00, lr: 0.000098, lat_vec mean/std: 0.22/-0.05\n",
      "After 186 epoch,  loss sdf: 0.00062, loss rgb: 0.11913, loss reg: 0.00008, min/max sdf: -5.35/226.50, min/max rgb: 0.00/255.00, lr: 0.000098, lat_vec mean/std: 0.22/-0.05\n",
      "After 187 epoch,  loss sdf: 0.00061, loss rgb: 0.11901, loss reg: 0.00008, min/max sdf: -6.55/234.50, min/max rgb: 0.00/255.00, lr: 0.000098, lat_vec mean/std: 0.22/-0.05\n",
      "After 188 epoch,  loss sdf: 0.00063, loss rgb: 0.11904, loss reg: 0.00008, min/max sdf: -7.35/233.62, min/max rgb: 0.00/255.00, lr: 0.000098, lat_vec mean/std: 0.22/-0.05\n",
      "After 189 epoch,  loss sdf: 0.00067, loss rgb: 0.11951, loss reg: 0.00008, min/max sdf: -7.15/235.75, min/max rgb: 0.00/255.00, lr: 0.000098, lat_vec mean/std: 0.22/-0.05\n",
      "After 190 epoch,  loss sdf: 0.00067, loss rgb: 0.11962, loss reg: 0.00008, min/max sdf: -6.91/228.50, min/max rgb: 0.00/255.00, lr: 0.000098, lat_vec mean/std: 0.22/-0.05\n",
      "After 191 epoch,  loss sdf: 0.00066, loss rgb: 0.11946, loss reg: 0.00008, min/max sdf: -5.79/235.00, min/max rgb: 0.00/255.00, lr: 0.000098, lat_vec mean/std: 0.22/-0.05\n",
      "After 192 epoch,  loss sdf: 0.00065, loss rgb: 0.11947, loss reg: 0.00008, min/max sdf: -6.25/222.88, min/max rgb: 0.00/255.00, lr: 0.000098, lat_vec mean/std: 0.22/-0.05\n",
      "After 193 epoch,  loss sdf: 0.00065, loss rgb: 0.11968, loss reg: 0.00008, min/max sdf: -6.21/233.25, min/max rgb: 0.00/255.00, lr: 0.000098, lat_vec mean/std: 0.22/-0.05\n",
      "After 194 epoch,  loss sdf: 0.00062, loss rgb: 0.11991, loss reg: 0.00008, min/max sdf: -6.07/225.88, min/max rgb: 0.00/255.00, lr: 0.000098, lat_vec mean/std: 0.22/-0.05\n",
      "After 195 epoch,  loss sdf: 0.00058, loss rgb: 0.11993, loss reg: 0.00008, min/max sdf: -6.35/232.62, min/max rgb: 0.00/255.00, lr: 0.000098, lat_vec mean/std: 0.22/-0.05\n",
      "After 196 epoch,  loss sdf: 0.00058, loss rgb: 0.11985, loss reg: 0.00008, min/max sdf: -5.96/230.00, min/max rgb: 0.00/255.00, lr: 0.000098, lat_vec mean/std: 0.22/-0.05\n",
      "After 197 epoch,  loss sdf: 0.00058, loss rgb: 0.11984, loss reg: 0.00008, min/max sdf: -5.99/226.50, min/max rgb: 0.00/255.00, lr: 0.000098, lat_vec mean/std: 0.22/-0.05\n",
      "After 198 epoch,  loss sdf: 0.00055, loss rgb: 0.11980, loss reg: 0.00008, min/max sdf: -5.53/232.12, min/max rgb: 0.00/255.00, lr: 0.000098, lat_vec mean/std: 0.22/-0.05\n",
      "After 199 epoch,  loss sdf: 0.00052, loss rgb: 0.11973, loss reg: 0.00008, min/max sdf: -5.09/227.12, min/max rgb: 0.00/255.00, lr: 0.000098, lat_vec mean/std: 0.22/-0.05\n",
      "After 200 epoch,  loss sdf: 0.00053, loss rgb: 0.11971, loss reg: 0.00008, min/max sdf: -4.66/234.75, min/max rgb: 0.00/255.00, lr: 0.000098, lat_vec mean/std: 0.22/-0.05\n",
      "After 201 epoch,  loss sdf: 0.00052, loss rgb: 0.11970, loss reg: 0.00008, min/max sdf: -5.42/226.88, min/max rgb: 0.00/255.00, lr: 0.000098, lat_vec mean/std: 0.22/-0.05\n",
      "After 202 epoch,  loss sdf: 0.00053, loss rgb: 0.11926, loss reg: 0.00008, min/max sdf: -5.40/234.00, min/max rgb: 0.00/255.00, lr: 0.000098, lat_vec mean/std: 0.22/-0.05\n",
      "After 203 epoch,  loss sdf: 0.00053, loss rgb: 0.11927, loss reg: 0.00008, min/max sdf: -6.05/233.38, min/max rgb: 0.00/255.00, lr: 0.000098, lat_vec mean/std: 0.22/-0.05\n",
      "After 204 epoch,  loss sdf: 0.00054, loss rgb: 0.11895, loss reg: 0.00008, min/max sdf: -5.12/226.12, min/max rgb: 0.00/255.00, lr: 0.000098, lat_vec mean/std: 0.22/-0.05\n",
      "After 205 epoch,  loss sdf: 0.00055, loss rgb: 0.11855, loss reg: 0.00008, min/max sdf: -6.14/225.75, min/max rgb: 0.00/255.00, lr: 0.000098, lat_vec mean/std: 0.22/-0.05\n",
      "After 206 epoch,  loss sdf: 0.00055, loss rgb: 0.11884, loss reg: 0.00008, min/max sdf: -6.01/231.12, min/max rgb: 0.00/255.00, lr: 0.000098, lat_vec mean/std: 0.22/-0.05\n",
      "After 207 epoch,  loss sdf: 0.00055, loss rgb: 0.11900, loss reg: 0.00008, min/max sdf: -5.70/231.50, min/max rgb: 0.00/255.00, lr: 0.000098, lat_vec mean/std: 0.22/-0.05\n",
      "After 208 epoch,  loss sdf: 0.00055, loss rgb: 0.11889, loss reg: 0.00008, min/max sdf: -5.48/228.50, min/max rgb: 0.00/255.00, lr: 0.000098, lat_vec mean/std: 0.22/-0.05\n",
      "After 209 epoch,  loss sdf: 0.00054, loss rgb: 0.11877, loss reg: 0.00008, min/max sdf: -6.76/228.75, min/max rgb: 0.00/255.00, lr: 0.000098, lat_vec mean/std: 0.22/-0.05\n",
      "After 210 epoch,  loss sdf: 0.00055, loss rgb: 0.11841, loss reg: 0.00008, min/max sdf: -5.90/225.50, min/max rgb: 0.00/255.00, lr: 0.000098, lat_vec mean/std: 0.22/-0.05\n",
      "After 211 epoch,  loss sdf: 0.00057, loss rgb: 0.11828, loss reg: 0.00008, min/max sdf: -6.56/232.62, min/max rgb: 0.00/255.00, lr: 0.000098, lat_vec mean/std: 0.22/-0.05\n",
      "After 212 epoch,  loss sdf: 0.00057, loss rgb: 0.11807, loss reg: 0.00008, min/max sdf: -5.78/224.00, min/max rgb: 0.00/255.00, lr: 0.000098, lat_vec mean/std: 0.22/-0.05\n",
      "After 213 epoch,  loss sdf: 0.00057, loss rgb: 0.11801, loss reg: 0.00008, min/max sdf: -4.97/229.38, min/max rgb: 0.00/255.00, lr: 0.000098, lat_vec mean/std: 0.22/-0.05\n",
      "After 214 epoch,  loss sdf: 0.00056, loss rgb: 0.11808, loss reg: 0.00008, min/max sdf: -5.06/231.50, min/max rgb: 0.00/255.00, lr: 0.000098, lat_vec mean/std: 0.22/-0.05\n",
      "After 215 epoch,  loss sdf: 0.00055, loss rgb: 0.11838, loss reg: 0.00008, min/max sdf: -6.00/227.38, min/max rgb: 0.00/255.00, lr: 0.000098, lat_vec mean/std: 0.22/-0.05\n",
      "After 216 epoch,  loss sdf: 0.00056, loss rgb: 0.11862, loss reg: 0.00008, min/max sdf: -5.64/226.25, min/max rgb: 0.00/255.00, lr: 0.000098, lat_vec mean/std: 0.22/-0.05\n",
      "After 217 epoch,  loss sdf: 0.00056, loss rgb: 0.11887, loss reg: 0.00008, min/max sdf: -5.66/232.00, min/max rgb: 0.00/255.00, lr: 0.000098, lat_vec mean/std: 0.22/-0.05\n",
      "After 218 epoch,  loss sdf: 0.00057, loss rgb: 0.11879, loss reg: 0.00008, min/max sdf: -5.46/230.75, min/max rgb: 0.00/255.00, lr: 0.000098, lat_vec mean/std: 0.22/-0.05\n",
      "After 219 epoch,  loss sdf: 0.00056, loss rgb: 0.11890, loss reg: 0.00008, min/max sdf: -5.26/230.50, min/max rgb: 0.00/255.00, lr: 0.000098, lat_vec mean/std: 0.22/-0.05\n",
      "After 220 epoch,  loss sdf: 0.00055, loss rgb: 0.11939, loss reg: 0.00008, min/max sdf: -5.07/226.62, min/max rgb: 0.00/255.00, lr: 0.000098, lat_vec mean/std: 0.22/-0.05\n",
      "After 221 epoch,  loss sdf: 0.00054, loss rgb: 0.11918, loss reg: 0.00008, min/max sdf: -6.34/226.88, min/max rgb: 0.00/255.00, lr: 0.000098, lat_vec mean/std: 0.22/-0.05\n",
      "After 222 epoch,  loss sdf: 0.00052, loss rgb: 0.11977, loss reg: 0.00008, min/max sdf: -5.35/230.00, min/max rgb: 0.00/255.00, lr: 0.000098, lat_vec mean/std: 0.22/-0.05\n",
      "After 223 epoch,  loss sdf: 0.00051, loss rgb: 0.11998, loss reg: 0.00008, min/max sdf: -6.31/229.88, min/max rgb: 0.00/255.00, lr: 0.000098, lat_vec mean/std: 0.22/-0.05\n",
      "After 224 epoch,  loss sdf: 0.00052, loss rgb: 0.12030, loss reg: 0.00008, min/max sdf: -6.20/229.25, min/max rgb: 0.00/255.00, lr: 0.000098, lat_vec mean/std: 0.22/-0.05\n",
      "After 225 epoch,  loss sdf: 0.00052, loss rgb: 0.11995, loss reg: 0.00008, min/max sdf: -5.95/226.88, min/max rgb: 0.00/255.00, lr: 0.000098, lat_vec mean/std: 0.22/-0.05\n",
      "After 226 epoch,  loss sdf: 0.00051, loss rgb: 0.11958, loss reg: 0.00008, min/max sdf: -5.21/228.62, min/max rgb: 0.00/255.00, lr: 0.000098, lat_vec mean/std: 0.22/-0.05\n",
      "After 227 epoch,  loss sdf: 0.00050, loss rgb: 0.11921, loss reg: 0.00008, min/max sdf: -4.65/230.25, min/max rgb: 0.00/255.00, lr: 0.000098, lat_vec mean/std: 0.22/-0.05\n",
      "After 228 epoch,  loss sdf: 0.00050, loss rgb: 0.11913, loss reg: 0.00008, min/max sdf: -5.65/227.38, min/max rgb: 0.00/255.00, lr: 0.000098, lat_vec mean/std: 0.22/-0.05\n",
      "After 229 epoch,  loss sdf: 0.00049, loss rgb: 0.11909, loss reg: 0.00008, min/max sdf: -5.00/233.62, min/max rgb: 0.00/255.00, lr: 0.000098, lat_vec mean/std: 0.22/-0.05\n",
      "After 230 epoch,  loss sdf: 0.00049, loss rgb: 0.11863, loss reg: 0.00008, min/max sdf: -5.74/225.38, min/max rgb: 0.00/255.00, lr: 0.000098, lat_vec mean/std: 0.22/-0.05\n",
      "After 231 epoch,  loss sdf: 0.00049, loss rgb: 0.11918, loss reg: 0.00008, min/max sdf: -5.95/224.88, min/max rgb: 0.00/255.00, lr: 0.000098, lat_vec mean/std: 0.22/-0.05\n",
      "After 232 epoch,  loss sdf: 0.00049, loss rgb: 0.11901, loss reg: 0.00008, min/max sdf: -5.27/226.75, min/max rgb: 0.00/255.00, lr: 0.000098, lat_vec mean/std: 0.22/-0.05\n",
      "After 233 epoch,  loss sdf: 0.00049, loss rgb: 0.11879, loss reg: 0.00008, min/max sdf: -6.07/230.00, min/max rgb: 0.00/255.00, lr: 0.000098, lat_vec mean/std: 0.22/-0.05\n",
      "After 234 epoch,  loss sdf: 0.00049, loss rgb: 0.11849, loss reg: 0.00008, min/max sdf: -5.28/230.12, min/max rgb: 0.00/255.00, lr: 0.000098, lat_vec mean/std: 0.22/-0.05\n",
      "After 235 epoch,  loss sdf: 0.00048, loss rgb: 0.11855, loss reg: 0.00008, min/max sdf: -6.29/225.12, min/max rgb: 0.00/255.00, lr: 0.000098, lat_vec mean/std: 0.22/-0.05\n",
      "After 236 epoch,  loss sdf: 0.00050, loss rgb: 0.11871, loss reg: 0.00008, min/max sdf: -6.91/232.12, min/max rgb: 0.00/255.00, lr: 0.000098, lat_vec mean/std: 0.22/-0.05\n",
      "After 237 epoch,  loss sdf: 0.00049, loss rgb: 0.11891, loss reg: 0.00008, min/max sdf: -5.55/223.88, min/max rgb: 0.00/255.00, lr: 0.000098, lat_vec mean/std: 0.22/-0.05\n",
      "After 238 epoch,  loss sdf: 0.00048, loss rgb: 0.11943, loss reg: 0.00008, min/max sdf: -5.64/229.50, min/max rgb: 0.00/255.00, lr: 0.000098, lat_vec mean/std: 0.22/-0.05\n",
      "After 239 epoch,  loss sdf: 0.00048, loss rgb: 0.11926, loss reg: 0.00008, min/max sdf: -5.43/228.50, min/max rgb: 0.00/255.00, lr: 0.000098, lat_vec mean/std: 0.22/-0.05\n",
      "After 240 epoch,  loss sdf: 0.00049, loss rgb: 0.11940, loss reg: 0.00008, min/max sdf: -4.80/228.75, min/max rgb: 0.00/255.00, lr: 0.000098, lat_vec mean/std: 0.22/-0.05\n",
      "After 241 epoch,  loss sdf: 0.00048, loss rgb: 0.11918, loss reg: 0.00008, min/max sdf: -5.19/228.38, min/max rgb: 0.00/255.00, lr: 0.000098, lat_vec mean/std: 0.22/-0.05\n",
      "After 242 epoch,  loss sdf: 0.00048, loss rgb: 0.11923, loss reg: 0.00008, min/max sdf: -4.99/230.50, min/max rgb: 0.00/255.00, lr: 0.000098, lat_vec mean/std: 0.22/-0.05\n",
      "After 243 epoch,  loss sdf: 0.00048, loss rgb: 0.11927, loss reg: 0.00008, min/max sdf: -5.53/231.75, min/max rgb: 0.00/255.00, lr: 0.000098, lat_vec mean/std: 0.22/-0.05\n",
      "After 244 epoch,  loss sdf: 0.00048, loss rgb: 0.11957, loss reg: 0.00008, min/max sdf: -4.87/230.38, min/max rgb: 0.00/255.00, lr: 0.000098, lat_vec mean/std: 0.22/-0.05\n",
      "After 245 epoch,  loss sdf: 0.00047, loss rgb: 0.12002, loss reg: 0.00008, min/max sdf: -5.50/227.38, min/max rgb: 0.00/255.00, lr: 0.000098, lat_vec mean/std: 0.22/-0.05\n",
      "After 246 epoch,  loss sdf: 0.00046, loss rgb: 0.11985, loss reg: 0.00008, min/max sdf: -5.69/229.88, min/max rgb: 0.00/255.00, lr: 0.000098, lat_vec mean/std: 0.22/-0.05\n",
      "After 247 epoch,  loss sdf: 0.00047, loss rgb: 0.11998, loss reg: 0.00008, min/max sdf: -5.59/226.00, min/max rgb: 0.00/255.00, lr: 0.000098, lat_vec mean/std: 0.22/-0.05\n",
      "After 248 epoch,  loss sdf: 0.00047, loss rgb: 0.11976, loss reg: 0.00008, min/max sdf: -5.72/232.75, min/max rgb: 0.00/255.00, lr: 0.000098, lat_vec mean/std: 0.22/-0.05\n",
      "After 249 epoch,  loss sdf: 0.00046, loss rgb: 0.11971, loss reg: 0.00008, min/max sdf: -5.30/230.25, min/max rgb: 0.00/255.00, lr: 0.000098, lat_vec mean/std: 0.22/-0.05\n",
      "After 250 epoch,  loss sdf: 0.00045, loss rgb: 0.11961, loss reg: 0.00008, min/max sdf: -5.80/226.00, min/max rgb: 0.00/255.00, lr: 0.000098, lat_vec mean/std: 0.22/-0.05\n",
      "After 251 epoch,  loss sdf: 0.00045, loss rgb: 0.11985, loss reg: 0.00008, min/max sdf: -5.61/232.50, min/max rgb: 0.00/255.00, lr: 0.000098, lat_vec mean/std: 0.22/-0.05\n",
      "After 252 epoch,  loss sdf: 0.00045, loss rgb: 0.11949, loss reg: 0.00008, min/max sdf: -5.48/225.50, min/max rgb: 0.00/255.00, lr: 0.000098, lat_vec mean/std: 0.22/-0.05\n",
      "After 253 epoch,  loss sdf: 0.00046, loss rgb: 0.11959, loss reg: 0.00008, min/max sdf: -5.23/223.00, min/max rgb: 0.00/255.00, lr: 0.000097, lat_vec mean/std: 0.22/-0.05\n",
      "After 254 epoch,  loss sdf: 0.00045, loss rgb: 0.11937, loss reg: 0.00008, min/max sdf: -5.83/227.00, min/max rgb: 0.00/255.00, lr: 0.000097, lat_vec mean/std: 0.22/-0.05\n",
      "After 255 epoch,  loss sdf: 0.00045, loss rgb: 0.11901, loss reg: 0.00008, min/max sdf: -5.14/231.50, min/max rgb: 0.00/255.00, lr: 0.000097, lat_vec mean/std: 0.22/-0.05\n",
      "After 256 epoch,  loss sdf: 0.00044, loss rgb: 0.11930, loss reg: 0.00008, min/max sdf: -4.91/227.50, min/max rgb: 0.00/255.00, lr: 0.000097, lat_vec mean/std: 0.22/-0.05\n",
      "After 257 epoch,  loss sdf: 0.00043, loss rgb: 0.11920, loss reg: 0.00008, min/max sdf: -5.31/229.62, min/max rgb: 0.00/255.00, lr: 0.000097, lat_vec mean/std: 0.22/-0.05\n",
      "After 258 epoch,  loss sdf: 0.00043, loss rgb: 0.11896, loss reg: 0.00008, min/max sdf: -5.47/226.00, min/max rgb: 0.00/255.00, lr: 0.000097, lat_vec mean/std: 0.22/-0.05\n",
      "After 259 epoch,  loss sdf: 0.00043, loss rgb: 0.11916, loss reg: 0.00008, min/max sdf: -5.49/229.00, min/max rgb: 0.00/255.00, lr: 0.000097, lat_vec mean/std: 0.22/-0.05\n",
      "After 260 epoch,  loss sdf: 0.00043, loss rgb: 0.11971, loss reg: 0.00008, min/max sdf: -5.11/229.50, min/max rgb: 0.00/255.00, lr: 0.000097, lat_vec mean/std: 0.22/-0.05\n",
      "After 261 epoch,  loss sdf: 0.00042, loss rgb: 0.11946, loss reg: 0.00008, min/max sdf: -4.43/230.25, min/max rgb: 0.00/255.00, lr: 0.000097, lat_vec mean/std: 0.22/-0.05\n",
      "After 262 epoch,  loss sdf: 0.00042, loss rgb: 0.11997, loss reg: 0.00008, min/max sdf: -5.68/228.38, min/max rgb: 0.00/255.00, lr: 0.000097, lat_vec mean/std: 0.22/-0.05\n",
      "After 263 epoch,  loss sdf: 0.00042, loss rgb: 0.12004, loss reg: 0.00008, min/max sdf: -5.64/227.38, min/max rgb: 0.00/255.00, lr: 0.000097, lat_vec mean/std: 0.22/-0.05\n",
      "After 264 epoch,  loss sdf: 0.00043, loss rgb: 0.12019, loss reg: 0.00008, min/max sdf: -5.77/228.25, min/max rgb: 0.00/255.00, lr: 0.000097, lat_vec mean/std: 0.22/-0.05\n",
      "After 265 epoch,  loss sdf: 0.00043, loss rgb: 0.12043, loss reg: 0.00008, min/max sdf: -5.66/227.12, min/max rgb: 0.00/255.00, lr: 0.000097, lat_vec mean/std: 0.22/-0.05\n",
      "After 266 epoch,  loss sdf: 0.00043, loss rgb: 0.12012, loss reg: 0.00008, min/max sdf: -5.92/224.62, min/max rgb: 0.00/255.00, lr: 0.000097, lat_vec mean/std: 0.22/-0.05\n",
      "After 267 epoch,  loss sdf: 0.00043, loss rgb: 0.11973, loss reg: 0.00008, min/max sdf: -5.78/230.38, min/max rgb: 0.00/255.00, lr: 0.000097, lat_vec mean/std: 0.22/-0.05\n",
      "After 268 epoch,  loss sdf: 0.00043, loss rgb: 0.12018, loss reg: 0.00008, min/max sdf: -5.61/224.62, min/max rgb: 0.00/255.00, lr: 0.000097, lat_vec mean/std: 0.22/-0.05\n",
      "After 269 epoch,  loss sdf: 0.00044, loss rgb: 0.11951, loss reg: 0.00008, min/max sdf: -5.27/234.88, min/max rgb: 0.00/255.00, lr: 0.000097, lat_vec mean/std: 0.22/-0.05\n",
      "After 270 epoch,  loss sdf: 0.00044, loss rgb: 0.11891, loss reg: 0.00008, min/max sdf: -6.34/226.62, min/max rgb: 0.00/255.00, lr: 0.000097, lat_vec mean/std: 0.22/-0.05\n",
      "After 271 epoch,  loss sdf: 0.00043, loss rgb: 0.11887, loss reg: 0.00008, min/max sdf: -5.65/228.62, min/max rgb: 0.00/255.00, lr: 0.000097, lat_vec mean/std: 0.22/-0.05\n"
     ]
    },
    {
     "output_type": "error",
     "ename": "KeyboardInterrupt",
     "evalue": "",
     "traceback": [
      "\u001b[0;31m---------------------------------------------------------------------------\u001b[0m",
      "\u001b[0;31mKeyboardInterrupt\u001b[0m                         Traceback (most recent call last)",
      "\u001b[0;32m/tmp/ipykernel_8957/2312649887.py\u001b[0m in \u001b[0;36m<module>\u001b[0;34m\u001b[0m\n\u001b[1;32m     59\u001b[0m     \u001b[0;31m# loss_pred = loss_pred.type(torch.float16)\u001b[0m\u001b[0;34m\u001b[0m\u001b[0;34m\u001b[0m\u001b[0;34m\u001b[0m\u001b[0m\n\u001b[1;32m     60\u001b[0m     \u001b[0;31m#update weights\u001b[0m\u001b[0;34m\u001b[0m\u001b[0;34m\u001b[0m\u001b[0;34m\u001b[0m\u001b[0m\n\u001b[0;32m---> 61\u001b[0;31m     \u001b[0mloss_pred\u001b[0m\u001b[0;34m.\u001b[0m\u001b[0mbackward\u001b[0m\u001b[0;34m(\u001b[0m\u001b[0;34m)\u001b[0m\u001b[0;34m\u001b[0m\u001b[0;34m\u001b[0m\u001b[0m\n\u001b[0m\u001b[1;32m     62\u001b[0m \u001b[0;34m\u001b[0m\u001b[0m\n\u001b[1;32m     63\u001b[0m     \u001b[0;31m# print(decoder.linearStart.weight)\u001b[0m\u001b[0;34m\u001b[0m\u001b[0;34m\u001b[0m\u001b[0;34m\u001b[0m\u001b[0m\n",
      "\u001b[0;32m/usr/local/lib/python3.9/dist-packages/torch/_tensor.py\u001b[0m in \u001b[0;36mbackward\u001b[0;34m(self, gradient, retain_graph, create_graph, inputs)\u001b[0m\n\u001b[1;32m    253\u001b[0m                 \u001b[0mcreate_graph\u001b[0m\u001b[0;34m=\u001b[0m\u001b[0mcreate_graph\u001b[0m\u001b[0;34m,\u001b[0m\u001b[0;34m\u001b[0m\u001b[0;34m\u001b[0m\u001b[0m\n\u001b[1;32m    254\u001b[0m                 inputs=inputs)\n\u001b[0;32m--> 255\u001b[0;31m         \u001b[0mtorch\u001b[0m\u001b[0;34m.\u001b[0m\u001b[0mautograd\u001b[0m\u001b[0;34m.\u001b[0m\u001b[0mbackward\u001b[0m\u001b[0;34m(\u001b[0m\u001b[0mself\u001b[0m\u001b[0;34m,\u001b[0m \u001b[0mgradient\u001b[0m\u001b[0;34m,\u001b[0m \u001b[0mretain_graph\u001b[0m\u001b[0;34m,\u001b[0m \u001b[0mcreate_graph\u001b[0m\u001b[0;34m,\u001b[0m \u001b[0minputs\u001b[0m\u001b[0;34m=\u001b[0m\u001b[0minputs\u001b[0m\u001b[0;34m)\u001b[0m\u001b[0;34m\u001b[0m\u001b[0;34m\u001b[0m\u001b[0m\n\u001b[0m\u001b[1;32m    256\u001b[0m \u001b[0;34m\u001b[0m\u001b[0m\n\u001b[1;32m    257\u001b[0m     \u001b[0;32mdef\u001b[0m \u001b[0mregister_hook\u001b[0m\u001b[0;34m(\u001b[0m\u001b[0mself\u001b[0m\u001b[0;34m,\u001b[0m \u001b[0mhook\u001b[0m\u001b[0;34m)\u001b[0m\u001b[0;34m:\u001b[0m\u001b[0;34m\u001b[0m\u001b[0;34m\u001b[0m\u001b[0m\n",
      "\u001b[0;32m/usr/local/lib/python3.9/dist-packages/torch/autograd/__init__.py\u001b[0m in \u001b[0;36mbackward\u001b[0;34m(tensors, grad_tensors, retain_graph, create_graph, grad_variables, inputs)\u001b[0m\n\u001b[1;32m    145\u001b[0m         \u001b[0mretain_graph\u001b[0m \u001b[0;34m=\u001b[0m \u001b[0mcreate_graph\u001b[0m\u001b[0;34m\u001b[0m\u001b[0;34m\u001b[0m\u001b[0m\n\u001b[1;32m    146\u001b[0m \u001b[0;34m\u001b[0m\u001b[0m\n\u001b[0;32m--> 147\u001b[0;31m     Variable._execution_engine.run_backward(\n\u001b[0m\u001b[1;32m    148\u001b[0m         \u001b[0mtensors\u001b[0m\u001b[0;34m,\u001b[0m \u001b[0mgrad_tensors_\u001b[0m\u001b[0;34m,\u001b[0m \u001b[0mretain_graph\u001b[0m\u001b[0;34m,\u001b[0m \u001b[0mcreate_graph\u001b[0m\u001b[0;34m,\u001b[0m \u001b[0minputs\u001b[0m\u001b[0;34m,\u001b[0m\u001b[0;34m\u001b[0m\u001b[0;34m\u001b[0m\u001b[0m\n\u001b[1;32m    149\u001b[0m         allow_unreachable=True, accumulate_grad=True)  # allow_unreachable flag\n",
      "\u001b[0;31mKeyboardInterrupt\u001b[0m: "
     ]
    }
   ],
   "metadata": {}
  },
  {
   "cell_type": "code",
   "execution_count": 11,
   "source": [
    "loss_pred.dtype"
   ],
   "outputs": [
    {
     "output_type": "execute_result",
     "data": {
      "text/plain": [
       "torch.float16"
      ]
     },
     "metadata": {},
     "execution_count": 11
    }
   ],
   "metadata": {}
  },
  {
   "cell_type": "code",
   "execution_count": 112,
   "source": [
    "lat_vecs(idx[0])"
   ],
   "outputs": [
    {
     "output_type": "execute_result",
     "data": {
      "text/plain": [
       "tensor([nan, nan, nan, nan, nan, nan, nan, nan, nan, nan, nan, nan, nan, nan, nan, nan],\n",
       "       device='cuda:0', dtype=torch.float16, grad_fn=<EmbeddingBackward>)"
      ]
     },
     "metadata": {},
     "execution_count": 112
    }
   ],
   "metadata": {}
  },
  {
   "cell_type": "code",
   "execution_count": 110,
   "source": [
    "sdf_gt * 64\n",
    "\n",
    "\n"
   ],
   "outputs": [
    {
     "output_type": "execute_result",
     "data": {
      "text/plain": [
       "tensor([31.2188, 30.9219, 30.6406,  ...,  0.0000,  0.0000,  0.0000],\n",
       "       device='cuda:0', dtype=torch.float16)"
      ]
     },
     "metadata": {},
     "execution_count": 110
    }
   ],
   "metadata": {}
  },
  {
   "cell_type": "code",
   "execution_count": 20,
   "source": [
    "#save logs plot\n",
    "\n",
    "avrg_loss = []\n",
    "avrg_loss_sdf = []\n",
    "avrg_loss_rgb = []\n",
    "for i in range(0,len(log_loss)):\n",
    "    avrg_loss.append(torch.Tensor(log_loss[i-20:i]).mean())\n",
    "    avrg_loss_sdf.append(torch.Tensor(log_loss_sdf[i-20:i]).mean())\n",
    "    avrg_loss_rgb.append(torch.Tensor(log_loss_rgb[i-20:i]).mean())\n",
    "\n",
    "# import pickle\n",
    "# with open(\"logs/log.txt\", \"wb\") as fp:\n",
    "#     pickle.dump(avrg_loss, fp)"
   ],
   "outputs": [],
   "metadata": {}
  },
  {
   "cell_type": "code",
   "execution_count": 21,
   "source": [
    "from matplotlib import pyplot as plt\n",
    "plt.figure()\n",
    "plt.title(\"Total loss\")\n",
    "plt.semilogy(avrg_loss[:])\n",
    "# plt.savefig(\"../../data_processing/logs/log_total\")\n",
    "plt.figure()\n",
    "plt.title(\"SDF loss\")\n",
    "plt.semilogy(avrg_loss_sdf[:])\n",
    "# plt.savefig(\"../../data_processing/logs/log_sdf\")\n",
    "plt.figure()\n",
    "plt.title(\"RGB loss\")\n",
    "plt.semilogy(avrg_loss_rgb[:])\n",
    "# plt.savefig(\"../../data_processing/logs/log_rgb\")\n",
    "\n",
    "\n",
    "print(\"final loss: {:f}\".format(torch.Tensor(log_loss_sdf[-100:]).mean()))"
   ],
   "outputs": [
    {
     "output_type": "stream",
     "name": "stdout",
     "text": [
      "final loss: 0.000079\n"
     ]
    },
    {
     "output_type": "display_data",
     "data": {
      "image/png": "[encoded data removed]",
      "text/plain": [
       "<Figure size 432x288 with 1 Axes>"
      ]
     },
     "metadata": {
      "needs_background": "light"
     }
    },
    {
     "output_type": "display_data",
     "data": {
      "image/png": "[encoded data removed]",
      "text/plain": [
       "<Figure size 432x288 with 1 Axes>"
      ]
     },
     "metadata": {
      "needs_background": "light"
     }
    },
    {
     "output_type": "display_data",
     "data": {
      "image/png": "[encoded data removed]",
      "text/plain": [
       "<Figure size 432x288 with 1 Axes>"
      ]
     },
     "metadata": {
      "needs_background": "light"
     }
    }
   ],
   "metadata": {}
  },
  {
   "cell_type": "code",
   "execution_count": 22,
   "source": [
    "############## save model ############\n",
    "\n",
    "# if (TESTING == True):\n",
    "#     torch.save(decoder, MODEL_PATH_TEST)\n",
    "#     torch.save(lat_vecs, LATENT_VECS_PATH_TEST)\n",
    "# else:\n",
    "#     torch.save(decoder, MODEL_PATH)\n",
    "#     torch.save(lat_vecs, LATENT_VECS_PATH)\n",
    "\n",
    "############## load model ############\n",
    "\n",
    "# if (TESTING == True):\n",
    "#     decoder = torch.load(MODEL_PATH_TEST).cuda()\n",
    "#     lat_vecs = torch.load(LATENT_VECS_PATH_TEST).cuda()\n",
    "# else:\n",
    "#     decoder = torch.load(MODEL_PATH).cuda()\n",
    "#     lat_vecs = torch.load(LATENT_VECS_PATH).cuda()\n",
    "\n",
    "sdf_output = np.empty([num_scenes , resolution, resolution, resolution, 4])\n",
    "\n",
    "decoder.eval()\n",
    "for i in range(num_scenes):\n",
    "    \n",
    "    # free variable for memory space\n",
    "    try:\n",
    "        del sdf_pred\n",
    "    except:\n",
    "        print(\"sdf_pred wasn't defined\")\n",
    "\n",
    "    # decode\n",
    "    sdf_result = np.empty([resolution, resolution, resolution, 4])\n",
    "\n",
    "    for x in range(resolution):\n",
    "        \n",
    "        sdf_pred = decoder(lat_vecs(idx[i].repeat(resolution * resolution)),xyz[x * resolution * resolution: (x+1) * resolution * resolution])\n",
    "\n",
    "        sdf_pred[:,0] = sdf_pred[:,0] * resolution\n",
    "        sdf_pred[:,1:] = torch.clamp(sdf_pred[:,1:], 0, 1)\n",
    "        sdf_pred[:,1:] = sdf_pred[:,1:] * 255\n",
    "\n",
    "        for y in range(resolution):\n",
    "            for z in range(resolution):\n",
    "                sdf_result[x,y,z,:] = sdf_pred[y * resolution + z,:].detach().cpu()\n",
    "\n",
    "    sdf_output[i] = sdf_result\n",
    "\n",
    "    print('Minimum and maximum value: %f and %f. ' % (np.min(sdf_result[:,:,:,0]), np.max(sdf_result[:,:,:,0])))\n",
    "    if(np.min(sdf_result[:,:,:,0]) < 0 and np.max(sdf_result[:,:,:,0]) > 0):\n",
    "        vertices, faces = marching_cubes(sdf_result[:,:,:,0])\n",
    "        colors_v = exctract_colors_v(vertices, sdf_result)\n",
    "        colors_f = exctract_colors_f(colors_v, faces)\n",
    "        off_file = '../../data_processing/output_prediction/_test_%d.off' % i\n",
    "        write_off(off_file, vertices, faces, colors_f)\n",
    "        print('Wrote %s.' % off_file)\n",
    "    else:\n",
    "        print(\"surface level: 0, should be comprise in between the minimum and maximum value\")\n",
    "\n"
   ],
   "outputs": [
    {
     "output_type": "stream",
     "name": "stdout",
     "text": [
      "Minimum and maximum value: -3.023583 and 5884.135254. \n"
     ]
    },
    {
     "output_type": "stream",
     "name": "stderr",
     "text": [
      "/home/loic/MasterPDM/codePDM/ML/marching_cubes_rgb.py:100: FutureWarning: marching_cubes_lewiner is deprecated in favor of marching_cubes. marching_cubes_lewiner will be removed in version 0.19\n",
      "  vertices, faces, normals, values = measure.marching_cubes_lewiner(tensor.transpose(1, 0, 2), 0)\n"
     ]
    },
    {
     "output_type": "stream",
     "name": "stdout",
     "text": [
      "Wrote ../../data_processing/output_prediction/_test_0.off.\n"
     ]
    }
   ],
   "metadata": {}
  },
  {
   "cell_type": "code",
   "execution_count": 26,
   "source": [
    "with h5py.File('../sdf/sdf_output.h5', 'w') as f:\n",
    "    dset = f.create_dataset(\"tensor\", data = sdf_output)"
   ],
   "outputs": [],
   "metadata": {}
  },
  {
   "cell_type": "code",
   "execution_count": 50,
   "source": [
    "# num_interp = 10\n",
    "# id_car_A = 0\n",
    "# id_car_B = 1\n",
    "\n",
    "# decoder.eval()\n",
    "# for i in range(num_interp):\n",
    "#     # interp_late_vecs = (i/(num_interp-1) * lat_vecs(idx[id_car_A]) + (1 - i/(num_interp-1)) * lat_vecs(idx[id_car_B])).repeat(num_samples_per_scene,1)\n",
    "#     interp_late_vecs = (i/(num_interp-1) * lat_vecs(idx[id_car_A]) + (1 - i/(num_interp-1)) * lat_vecs(idx[id_car_B])).repeat(resolution * resolution,1)\n",
    "    \n",
    "#     # free variable for memory space\n",
    "#     try:\n",
    "#         del sdf_pred\n",
    "#     except:\n",
    "#         print(\"sdf_pred wasn't defined\")\n",
    "\n",
    "#     # decode\n",
    "#     # sdf_pred = decoder(interp_late_vecs,xyz)\n",
    "    \n",
    "#     # sdf_pred[:,0] = sdf_pred[:,0] * resolution\n",
    "#     # sdf_pred[:,1:] = torch.clamp(sdf_pred[:,1:], 0, 1)\n",
    "#     # sdf_pred[:,1:] = sdf_pred[:,1:] * 255\n",
    "\n",
    "#     sdf_result = np.empty([resolution, resolution, resolution, 4])\n",
    "\n",
    "#     for x in range(resolution):\n",
    "\n",
    "#         sdf_pred = decoder(interp_late_vecs,xyz[x * resolution * resolution: (x+1) * resolution * resolution])\n",
    "#         sdf_pred[:,0] = sdf_pred[:,0] * resolution\n",
    "#         sdf_pred[:,1:] = torch.clamp(sdf_pred[:,1:], 0, 1)\n",
    "#         sdf_pred[:,1:] = sdf_pred[:,1:] * 255\n",
    "\n",
    "#         for y in range(resolution):\n",
    "#             for z in range(resolution):\n",
    "#                 sdf_result[x,y,z,:] = sdf_pred[y * resolution + z,:].detach().cpu()\n",
    "#                 # sdf_result[x,y,z,:] = sdf_pred[x * resolution * resolution + y * resolution + z,:].detach().cpu()\n",
    "\n",
    "#     print('Minimum and maximum value: %f and %f. ' % (np.min(sdf_result[:,:,:,0]), np.max(sdf_result[:,:,:,0])))\n",
    "#     if(np.min(sdf_result[:,:,:,0]) < 0 and np.max(sdf_result[:,:,:,0]) > 0):\n",
    "#         vertices, faces = marching_cubes(sdf_result[:,:,:,0])\n",
    "#         colors_v = exctract_colors_v(vertices, sdf_result)\n",
    "#         colors_f = exctract_colors_f(colors_v, faces)\n",
    "#         off_file = '../../data_processing/output_interpolation/%d.off' % i\n",
    "#         write_off(off_file, vertices, faces, colors_f)\n",
    "#         print('Wrote %s.' % off_file)\n",
    "#     else:\n",
    "#         print(\"surface level: 0, should be comprise in between the minimum and maximum value\")"
   ],
   "outputs": [
    {
     "output_type": "stream",
     "name": "stdout",
     "text": [
      "Minimum and maximum value: -3.179944 and 26.584064. \n"
     ]
    },
    {
     "output_type": "stream",
     "name": "stderr",
     "text": [
      "/home/loic/masterPDM_0/ML/rgb/marching_cubes_rgb.py:100: FutureWarning: marching_cubes_lewiner is deprecated in favor of marching_cubes. marching_cubes_lewiner will be removed in version 0.19\n",
      "  vertices, faces, normals, values = measure.marching_cubes_lewiner(tensor.transpose(1, 0, 2), 0)\n"
     ]
    },
    {
     "output_type": "stream",
     "name": "stdout",
     "text": [
      "Wrote output/interpolation/0.off.\n",
      "Minimum and maximum value: -2.736576 and 26.447989. \n",
      "Wrote output/interpolation/1.off.\n",
      "Minimum and maximum value: -3.062799 and 26.168612. \n",
      "Wrote output/interpolation/2.off.\n",
      "Minimum and maximum value: -3.481607 and 29.564978. \n",
      "Wrote output/interpolation/3.off.\n",
      "Minimum and maximum value: -3.304924 and 32.617123. \n",
      "Wrote output/interpolation/4.off.\n",
      "Minimum and maximum value: -3.178566 and 38.145210. \n",
      "Wrote output/interpolation/5.off.\n",
      "Minimum and maximum value: -3.342341 and 42.483875. \n",
      "Wrote output/interpolation/6.off.\n",
      "Minimum and maximum value: -3.544979 and 47.362499. \n",
      "Wrote output/interpolation/7.off.\n",
      "Minimum and maximum value: -4.007718 and 53.244766. \n",
      "Wrote output/interpolation/8.off.\n",
      "Minimum and maximum value: -3.823768 and 56.872467. \n",
      "Wrote output/interpolation/9.off.\n"
     ]
    }
   ],
   "metadata": {}
  },
  {
   "cell_type": "code",
   "execution_count": 41,
   "source": [
    "import torch\n",
    "import math\n",
    "from marching_cubes_rgb import *\n",
    "\n",
    "num_synthesized_scene = 10\n",
    "\n",
    "TESTING = False\n",
    "\n",
    "resolution = 64\n",
    "num_samples_per_scene = resolution * resolution * resolution\n",
    "\n",
    "MODEL_PATH = \"models_pth/decoderSDF.pth\"\n",
    "# LATENT_VECS_PATH = \"models_pth/latent_vecs.pth\"\n",
    "\n",
    "MODEL_PATH_TEST = \"models_pth/decoderSDF_TEST.pth\"\n",
    "# LATENT_VECS_PATH_TEST = \"models_pth/latent_vecs_TEST.pth\"\n",
    "\n",
    "\n",
    "\n",
    "\n",
    "if (TESTING == True):\n",
    "    decoder = torch.load(MODEL_PATH_TEST).cuda()\n",
    "    lat_vecs = torch.load(LATENT_VECS_PATH_TEST).cuda()\n",
    "else:\n",
    "    decoder = torch.load(MODEL_PATH).cuda()\n",
    "    lat_vecs = torch.load(LATENT_VECS_PATH).cuda()\n",
    "\n",
    "\n",
    "# initialize random latent code \n",
    "lat_vecs_synthesized = torch.nn.Embedding(num_synthesized_scene, lat_vecs.weight.shape[1]).cuda()\n",
    "torch.nn.init.normal_(\n",
    "    lat_vecs_synthesized.weight.data,\n",
    "    0.0,\n",
    "    1.0 / math.sqrt(lat_vecs.weight.shape[1]),\n",
    ")\n",
    "\n",
    "num_scenes = len(lat_vecs_synthesized.weight)\n",
    "idx = torch.arange(num_scenes).cuda()\n",
    "xyz = torch.empty(num_samples_per_scene, 3,  dtype=torch.float).cuda()\n",
    "for x in range(resolution):\n",
    "    for y in range(resolution):\n",
    "        for z in range(resolution):\n",
    "            xyz[x * resolution * resolution + y * resolution + z, :] = torch.Tensor([x/(resolution-1)-0.5,y/(resolution-1)-0.5,z/(resolution-1)-0.5])\n",
    "\n"
   ],
   "outputs": [],
   "metadata": {}
  },
  {
   "cell_type": "code",
   "execution_count": 42,
   "source": [
    "decoder.eval()\n",
    "for i in range(num_scenes):\n",
    "    \n",
    "    # free variable for memory space\n",
    "    try:\n",
    "        del sdf_pred\n",
    "    except:\n",
    "        print(\"sdf_pred wasn't defined\")\n",
    "\n",
    "    # decode\n",
    "    sdf_result = np.empty([resolution, resolution, resolution, 4])\n",
    "\n",
    "    for x in range(resolution):\n",
    "        \n",
    "        sdf_pred = decoder(lat_vecs_synthesized(idx[i].repeat(resolution * resolution)),xyz[x * resolution * resolution: (x+1) * resolution * resolution])\n",
    "\n",
    "        sdf_pred[:,0] = sdf_pred[:,0] * resolution\n",
    "        sdf_pred[:,1:] = torch.clamp(sdf_pred[:,1:], 0, 1)\n",
    "        sdf_pred[:,1:] = sdf_pred[:,1:] * 255\n",
    "\n",
    "        for y in range(resolution):\n",
    "            for z in range(resolution):\n",
    "                sdf_result[x,y,z,:] = sdf_pred[y * resolution + z,:].detach().cpu()\n",
    "\n",
    "    print('Minimum and maximum value: %f and %f. ' % (np.min(sdf_result[:,:,:,0]), np.max(sdf_result[:,:,:,0])))\n",
    "    if(np.min(sdf_result[:,:,:,0]) < 0 and np.max(sdf_result[:,:,:,0]) > 0):\n",
    "        vertices, faces = marching_cubes(sdf_result[:,:,:,0])\n",
    "        colors_v = exctract_colors_v(vertices, sdf_result)\n",
    "        colors_f = exctract_colors_f(colors_v, faces)\n",
    "        off_file = '../../data_processing/output_synthesized/%d.off' % i\n",
    "        write_off(off_file, vertices, faces, colors_f)\n",
    "        print('Wrote %s.' % off_file)\n",
    "    else:\n",
    "        print(\"surface level: 0, should be comprise in between the minimum and maximum value\")"
   ],
   "outputs": [
    {
     "output_type": "stream",
     "name": "stdout",
     "text": [
      "Minimum and maximum value: -4.009142 and 386.242096. \n"
     ]
    },
    {
     "output_type": "stream",
     "name": "stderr",
     "text": [
      "/home/loic/MasterPDM/codePDM/ML/marching_cubes_rgb.py:100: FutureWarning: marching_cubes_lewiner is deprecated in favor of marching_cubes. marching_cubes_lewiner will be removed in version 0.19\n",
      "  vertices, faces, normals, values = measure.marching_cubes_lewiner(tensor.transpose(1, 0, 2), 0)\n"
     ]
    },
    {
     "output_type": "stream",
     "name": "stdout",
     "text": [
      "Wrote ../../data_processing/output_synthesized/0.off.\n",
      "Minimum and maximum value: -3.563911 and 356.961487. \n",
      "Wrote ../../data_processing/output_synthesized/1.off.\n",
      "Minimum and maximum value: -3.401089 and 217.859421. \n",
      "Wrote ../../data_processing/output_synthesized/2.off.\n",
      "Minimum and maximum value: -3.362883 and 251.419861. \n",
      "Wrote ../../data_processing/output_synthesized/3.off.\n",
      "Minimum and maximum value: -4.254247 and 330.965027. \n",
      "Wrote ../../data_processing/output_synthesized/4.off.\n",
      "Minimum and maximum value: -3.698163 and 353.955383. \n",
      "Wrote ../../data_processing/output_synthesized/5.off.\n",
      "Minimum and maximum value: -4.549558 and 309.992554. \n",
      "Wrote ../../data_processing/output_synthesized/6.off.\n",
      "Minimum and maximum value: -3.965209 and 332.110199. \n",
      "Wrote ../../data_processing/output_synthesized/7.off.\n",
      "Minimum and maximum value: -5.084322 and 390.547760. \n",
      "Wrote ../../data_processing/output_synthesized/8.off.\n",
      "Minimum and maximum value: -3.360685 and 254.855148. \n",
      "Wrote ../../data_processing/output_synthesized/9.off.\n"
     ]
    }
   ],
   "metadata": {}
  },
  {
   "cell_type": "code",
   "execution_count": 10,
   "source": [
    "import torch\n",
    "import math\n",
    "from marching_cubes_rgb import *\n",
    "\n",
    "num_synthesized_scene = 1\n",
    "\n",
    "TESTING = False\n",
    "\n",
    "resolution = 32\n",
    "num_samples_per_scene = resolution * resolution * resolution\n",
    "\n",
    "MODEL_PATH = \"models_pth/decoderSDF.pth\"\n",
    "LATENT_VECS_PATH = \"models_pth/latent_vecs.pth\"\n",
    "\n",
    "MODEL_PATH_TEST = \"models_pth/decoderSDF_TEST.pth\"\n",
    "LATENT_VECS_PATH_TEST = \"models_pth/latent_vecs_TEST.pth\"\n",
    "\n",
    "\n",
    "if (TESTING == True):\n",
    "    decoder = torch.load(MODEL_PATH_TEST).cuda()\n",
    "    lat_vecs = torch.load(LATENT_VECS_PATH_TEST).cuda()\n",
    "else:\n",
    "    decoder = torch.load(MODEL_PATH).cuda()\n",
    "    lat_vecs = torch.load(LATENT_VECS_PATH).cuda()\n",
    "\n",
    "\n",
    "# initialize random latent code \n",
    "lat_vecs_mean = torch.nn.Embedding(num_synthesized_scene, lat_vecs.weight.shape[1]).cuda()\n",
    "torch.nn.init.normal_(\n",
    "    lat_vecs_mean.weight.data,\n",
    "    0.0,\n",
    "    0.0,\n",
    ")\n",
    "\n",
    "num_scenes = len(lat_vecs_mean.weight)\n",
    "idx = torch.arange(num_scenes).cuda()\n",
    "xyz = torch.empty(num_samples_per_scene, 3,  dtype=torch.float).cuda()\n",
    "for x in range(resolution):\n",
    "    for y in range(resolution):\n",
    "        for z in range(resolution):\n",
    "            xyz[x * resolution * resolution + y * resolution + z, :] = torch.Tensor([x/(resolution-1)-0.5,y/(resolution-1)-0.5,z/(resolution-1)-0.5])\n",
    "\n",
    "\n",
    "# free variable for memory space\n",
    "try:\n",
    "    del sdf_pred\n",
    "except:\n",
    "    print(\"sdf_pred wasn't defined\")\n",
    "\n",
    "# decode\n",
    "sdf_result = np.empty([resolution, resolution, resolution, 4])\n",
    "\n",
    "for x in range(resolution):\n",
    "    \n",
    "    sdf_pred = decoder(lat_vecs_mean(idx[0].repeat(resolution * resolution)),xyz[x * resolution * resolution: (x+1) * resolution * resolution])\n",
    "\n",
    "    sdf_pred[:,0] = sdf_pred[:,0] * resolution\n",
    "    sdf_pred[:,1:] = torch.clamp(sdf_pred[:,1:], 0, 1)\n",
    "    sdf_pred[:,1:] = sdf_pred[:,1:] * 255\n",
    "\n",
    "    for y in range(resolution):\n",
    "        for z in range(resolution):\n",
    "            sdf_result[x,y,z,:] = sdf_pred[y * resolution + z,:].detach().cpu()\n",
    "\n",
    "print('Minimum and maximum value: %f and %f. ' % (np.min(sdf_result[:,:,:,0]), np.max(sdf_result[:,:,:,0])))\n",
    "if(np.min(sdf_result[:,:,:,0]) < 0 and np.max(sdf_result[:,:,:,0]) > 0):\n",
    "    vertices, faces = marching_cubes(sdf_result[:,:,:,0])\n",
    "    colors_v = exctract_colors_v(vertices, sdf_result)\n",
    "    colors_f = exctract_colors_f(colors_v, faces)\n",
    "    off_file = '../../data_processing/output_synthesized/_mean.off'\n",
    "    write_off(off_file, vertices, faces, colors_f)\n",
    "    print('Wrote %s.' % off_file)\n",
    "else:\n",
    "    print(\"surface level: 0, should be comprise in between the minimum and maximum value\")"
   ],
   "outputs": [
    {
     "output_type": "stream",
     "name": "stdout",
     "text": [
      "Minimum and maximum value: -4.966867 and 338.084747. \n",
      "Wrote ../../data_processing/output_synthesized/_mean.off.\n"
     ]
    }
   ],
   "metadata": {}
  },
  {
   "cell_type": "code",
   "execution_count": 6,
   "source": [
    "lat_vecs_mean(idx[0])"
   ],
   "outputs": [
    {
     "output_type": "execute_result",
     "data": {
      "text/plain": [
       "tensor([0., 0., 0., 0., 0., 0., 0., 0., 0., 0., 0., 0., 0., 0., 0., 0.],\n",
       "       device='cuda:0', grad_fn=<EmbeddingBackward>)"
      ]
     },
     "metadata": {},
     "execution_count": 6
    }
   ],
   "metadata": {}
  },
  {
   "cell_type": "code",
   "execution_count": null,
   "source": [],
   "outputs": [],
   "metadata": {}
  }
 ],
 "metadata": {
  "orig_nbformat": 4,
  "language_info": {
   "name": "python",
   "version": "3.9.2",
   "mimetype": "text/x-python",
   "codemirror_mode": {
    "name": "ipython",
    "version": 3
   },
   "pygments_lexer": "ipython3",
   "nbconvert_exporter": "python",
   "file_extension": ".py"
  },
  "kernelspec": {
   "name": "python3",
   "display_name": "Python 3.9.2 64-bit"
  },
  "interpreter": {
   "hash": "e7370f93d1d0cde622a1f8e1c04877d8463912d04d973331ad4851f04de6915a"
  }
 },
 "nbformat": 4,
 "nbformat_minor": 2
}